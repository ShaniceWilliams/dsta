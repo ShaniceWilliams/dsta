{
 "cells": [
  {
   "cell_type": "markdown",
   "metadata": {
    "collapsed": false
   },
   "source": [
    "## DSTA Lab: Classification with Scikit-learn\n",
    "\n",
    "This notebook is available from the [DSTA repo on GitHub](https://github.com/ale66/dsta)\n",
    "\n",
    "Data is imported from the [Openml.org](https://openml.org/) public repository."
   ]
  },
  {
   "cell_type": "markdown",
   "metadata": {
    "collapsed": false
   },
   "source": [
    "### Supervised Classification with the Python Scikit-learn module\n",
    "\n",
    "#### Slides and codes are courtesy of [Andreas C. Mueller, NYU](https://github.com/amueller/)"
   ]
  },
  {
   "cell_type": "markdown",
   "metadata": {
    "collapsed": false
   },
   "source": [
    "### Case studies:\n",
    "1. **Classification with the blood transfusion dataset from Sklearn:**\n",
    "\n",
    "    - Imported from sklearn, check \"fetch_openml\" import statement further below.\n",
    "    - Details about the dataset: [https://www.openml.org/d/1464](https://www.openml.org/d/1464).\n",
    "\n",
    "\n",
    "2. **Classification with the Iris dataset from Sklearn:**\n",
    "    - Imported from sklearn.datasets.\n",
    "    - Dataset studied during last week's class and lab session.\n"
   ]
  },
  {
   "cell_type": "markdown",
   "metadata": {
    "collapsed": false
   },
   "source": [
    "#### Package Imports"
   ]
  },
  {
   "cell_type": "code",
   "execution_count": null,
   "metadata": {
    "collapsed": false,
    "pycharm": {
     "name": "#%%\n"
    }
   },
   "outputs": [],
   "source": [
    "import numpy as np\n",
    "import pandas as pd\n",
    "\n",
    "from sklearn.datasets import fetch_openml, load_iris\n",
    "from sklearn.preprocessing import StandardScaler, LabelEncoder\n",
    "from sklearn.model_selection import train_test_split, GridSearchCV\n",
    "from sklearn.neighbors import KNeighborsClassifier\n",
    "from sklearn.linear_model import LogisticRegression"
   ]
  },
  {
   "cell_type": "markdown",
   "metadata": {
    "collapsed": false
   },
   "source": [
    "### Classification with the blood transfusion dataset"
   ]
  },
  {
   "cell_type": "markdown",
   "metadata": {
    "collapsed": false
   },
   "source": [
    "#### Fetch the dataset from sklearn\n",
    "\n",
    "Package sklearn includes toy datasets for experimentation with machine learning models.\n",
    "One example is the blood transfusion dataset (please check the link at the top of this notebook).\n",
    "Below, the dataset is loaded as a scikit-learn object.\n",
    "The actual data (X, Y) are the \"data\" and \"target\" attributes of the object."
   ]
  },
  {
   "cell_type": "code",
   "execution_count": null,
   "metadata": {
    "collapsed": false,
    "pycharm": {
     "name": "#%%\n"
    }
   },
   "outputs": [],
   "source": [
    "# Fetch the data - provided as sklearn.utils.bunch class\n",
    "blood_data = fetch_openml(\"blood-transfusion-service-center\")\n",
    "print(f\"blood dataset object type: {type(blood_data)}\")\n",
    "print(f\"Attributes of the loaded Python object: {dir(blood_data)}\")"
   ]
  },
  {
   "cell_type": "markdown",
   "metadata": {
    "collapsed": false
   },
   "source": [
    "#### Check predictors X and target Y variable names and data size"
   ]
  },
  {
   "cell_type": "code",
   "execution_count": null,
   "metadata": {
    "collapsed": false,
    "pycharm": {
     "name": "#%%\n"
    }
   },
   "outputs": [],
   "source": [
    "print(f\"Predictors X variable names: {blood_data.feature_names}\")\n",
    "print(f\"Target Y variable name: {blood_data.target_names}\")\n",
    "print(f\"X data size: {blood_data.data.shape}\")"
   ]
  },
  {
   "cell_type": "markdown",
   "metadata": {
    "collapsed": false
   },
   "source": [
    "#### Check the type of X and Y data\n",
    "\n",
    "X is a pandas.DataFrame and Y is a pandas.Series.\n",
    "These are the core data structures of pandas package."
   ]
  },
  {
   "cell_type": "code",
   "execution_count": null,
   "metadata": {
    "collapsed": false,
    "pycharm": {
     "name": "#%%\n"
    }
   },
   "outputs": [],
   "source": [
    "print(f\"Type of X data: {type(blood_data.data)}\")\n",
    "print(f\"Type of Y data: {type(blood_data.target)}\")"
   ]
  },
  {
   "cell_type": "markdown",
   "metadata": {
    "collapsed": false
   },
   "source": [
    "#### Print the first 5 rows of the predictive features"
   ]
  },
  {
   "cell_type": "code",
   "execution_count": null,
   "metadata": {
    "collapsed": false,
    "pycharm": {
     "name": "#%%\n"
    }
   },
   "outputs": [],
   "source": [
    "blood_data.data.head()"
   ]
  },
  {
   "cell_type": "markdown",
   "metadata": {
    "collapsed": false
   },
   "source": [
    "#### Print the first 5 values of the target variable"
   ]
  },
  {
   "cell_type": "code",
   "execution_count": null,
   "metadata": {
    "collapsed": false,
    "pycharm": {
     "name": "#%%\n"
    }
   },
   "outputs": [],
   "source": [
    "blood_data.target.head()"
   ]
  },
  {
   "cell_type": "markdown",
   "metadata": {
    "collapsed": false
   },
   "source": [
    "#### Check class distribution of Y"
   ]
  },
  {
   "cell_type": "code",
   "execution_count": null,
   "metadata": {
    "collapsed": false,
    "pycharm": {
     "name": "#%%\n"
    }
   },
   "outputs": [],
   "source": [
    "blood_data.target.value_counts()"
   ]
  },
  {
   "cell_type": "markdown",
   "metadata": {
    "collapsed": false
   },
   "source": [
    "#### Use ``train_test_split`` to prepare your train and test data\n",
    "\n",
    "As we see above, the class distribution is imbalanced...\n",
    "Hint: Look for a \"stratified\" ``train_test_split``!\n",
    "\n",
    "Package documentation: [sklearn train_test_split](https://scikit-learn.org/stable/modules/generated/sklearn.model_selection.train_test_split.html)"
   ]
  },
  {
   "cell_type": "code",
   "execution_count": null,
   "metadata": {
    "collapsed": false,
    "pycharm": {
     "name": "#%%\n"
    }
   },
   "outputs": [],
   "source": [
    "x_train, x_test, y_train, y_test = train_test_split(\n",
    "    blood_data.data,\n",
    "    blood_data.target,\n",
    "    random_state=0,\n",
    "    stratify=blood_data.target\n",
    "    )"
   ]
  },
  {
   "cell_type": "markdown",
   "metadata": {
    "collapsed": false
   },
   "source": [
    "#### Use ``StandardScaler`` from sklearn to standardize the predictors.\n",
    "\n",
    "Package documentation: [sklearn StandardScaler](https://scikit-learn.org/stable/modules/generated/sklearn.preprocessing.StandardScaler.html)\n",
    "\n",
    "Otherwise, once ``StandardScaler`` has been imported, use ``help(StandardScaler)`` to print its documentation.\n",
    "You can use ``help`` Python command to check the documentation of any function or class."
   ]
  },
  {
   "cell_type": "code",
   "execution_count": null,
   "metadata": {
    "collapsed": false,
    "pycharm": {
     "name": "#%%\n"
    }
   },
   "outputs": [],
   "source": [
    "scaler = StandardScaler()\n",
    "x_train = scaler.fit_transform(x_train)\n",
    "x_test = scaler.transform(x_test)"
   ]
  },
  {
   "cell_type": "markdown",
   "metadata": {
    "collapsed": false
   },
   "source": [
    "#### Check class distribution in training and test Y.\n",
    "\n",
    "Hint: The ``value_counts()`` method can help here"
   ]
  },
  {
   "cell_type": "code",
   "execution_count": null,
   "metadata": {
    "collapsed": false,
    "pycharm": {
     "name": "#%%\n"
    }
   },
   "outputs": [],
   "source": [
    "print(f\"Training Y class count: \\n{y_train.value_counts()}\\n\")\n",
    "print(f\"Test Y class count: \\n{y_test.value_counts()}\")"
   ]
  },
  {
   "cell_type": "markdown",
   "metadata": {
    "collapsed": false
   },
   "source": [
    "#### Use ``LabelEncoder`` from sklearn to encode target labels with values between 0 and n_classes-1.\n",
    "\n",
    "Package documentation: [sklearn LabelEncoder](https://scikit-learn.org/stable/modules/generated/sklearn.preprocessing.LabelEncoder.html)"
   ]
  },
  {
   "cell_type": "code",
   "execution_count": null,
   "metadata": {
    "collapsed": false,
    "pycharm": {
     "name": "#%%\n"
    }
   },
   "outputs": [],
   "source": [
    "label_encoder = LabelEncoder()\n",
    "y_train = label_encoder.fit_transform(y_train)\n",
    "y_test = label_encoder.transform(y_test)\n",
    "\n",
    "mappings = {label: i for i, label in enumerate(label_encoder.classes_)}\n",
    "print(f\"Label Encoder Mapping: {mappings}\")"
   ]
  },
  {
   "cell_type": "markdown",
   "metadata": {
    "collapsed": false
   },
   "source": [
    "#### Use again the ``shape`` function to check the dimensions of training and test X."
   ]
  },
  {
   "cell_type": "code",
   "execution_count": null,
   "metadata": {
    "collapsed": false,
    "pycharm": {
     "name": "#%%\n"
    }
   },
   "outputs": [],
   "source": [
    "print(x_train.shape)\n",
    "print(x_test.shape)"
   ]
  },
  {
   "cell_type": "markdown",
   "metadata": {
    "collapsed": false
   },
   "source": [
    "### Classify with K-nn"
   ]
  },
  {
   "cell_type": "markdown",
   "metadata": {
    "collapsed": false
   },
   "source": [
    "#### Check ``KNeighborsClassifier`` documentation:\n",
    "[sklearn KNeighborsClassifier](https://scikit-learn.org/stable/modules/generated/sklearn.neighbors.KNeighborsClassifier.html)"
   ]
  },
  {
   "cell_type": "markdown",
   "metadata": {
    "collapsed": false
   },
   "source": [
    "#### Fit K-nn model"
   ]
  },
  {
   "cell_type": "code",
   "execution_count": null,
   "metadata": {
    "collapsed": false,
    "pycharm": {
     "name": "#%%\n"
    }
   },
   "outputs": [],
   "source": [
    "knn_classifier = KNeighborsClassifier(n_neighbors=5)\n",
    "knn_classifier.fit(x_train, y_train)"
   ]
  },
  {
   "cell_type": "markdown",
   "metadata": {
    "collapsed": false
   },
   "source": [
    "#### Calculate K-nn training and test data accuracy"
   ]
  },
  {
   "cell_type": "code",
   "execution_count": null,
   "metadata": {
    "collapsed": false,
    "pycharm": {
     "name": "#%%\n"
    }
   },
   "outputs": [],
   "source": [
    "knn_train_accuracy = knn_classifier.score(x_train, y_train)\n",
    "knn_test_accuracy = knn_classifier.score(x_test, y_test)\n",
    "\n",
    "print(f\"K-nn training data accuracy: {round(knn_train_accuracy, 3)}\")\n",
    "print(f\"K-nn test data accuracy: {round(knn_test_accuracy, 3)}\")"
   ]
  },
  {
   "cell_type": "markdown",
   "metadata": {
    "collapsed": false
   },
   "source": [
    "#### Use Grid Search and Cross Validation to find the best number of neighbors\n",
    "\n",
    "The default option of 5-fold cross validation is used.\n",
    "GridSearchCV documentation: [sklearn GridSearchCV](https://scikit-learn.org/stable/modules/generated/sklearn.model_selection.GridSearchCV.html)"
   ]
  },
  {
   "cell_type": "code",
   "execution_count": null,
   "metadata": {
    "collapsed": false,
    "pycharm": {
     "name": "#%%\n"
    }
   },
   "outputs": [],
   "source": [
    "# Define parameter grid\n",
    "num_neighbors = np.array([1, 3, 5, 8, 10, 15, 20, 25, 30])\n",
    "param_grid = dict(n_neighbors=num_neighbors)\n",
    "\n",
    "param_grid"
   ]
  },
  {
   "cell_type": "code",
   "execution_count": null,
   "metadata": {
    "collapsed": false,
    "pycharm": {
     "name": "#%%\n"
    }
   },
   "outputs": [],
   "source": [
    "# Initialize model\n",
    "knn_model = KNeighborsClassifier()\n",
    "grid = GridSearchCV(\n",
    "    estimator=knn_model, \n",
    "    param_grid=param_grid,\n",
    "    scoring=\"accuracy\"\n",
    "    )\n",
    "\n",
    "# Run grid search\n",
    "grid.fit(x_train, y_train)\n",
    "best_n = grid.best_estimator_.n_neighbors\n",
    "best_score = round(grid.best_score_, 3)\n",
    "\n",
    "print(f\"Best number of neighbors: {best_n}\")\n",
    "print(f\"Best achieved test accuracy for {best_n} neighbors: {best_score}\")"
   ]
  },
  {
   "cell_type": "markdown",
   "metadata": {
    "collapsed": false
   },
   "source": [
    "### Classification with Iris dataset"
   ]
  },
  {
   "cell_type": "markdown",
   "metadata": {
    "collapsed": false
   },
   "source": [
    "#### Fetch the dataset from sklearn"
   ]
  },
  {
   "cell_type": "code",
   "execution_count": null,
   "metadata": {
    "collapsed": false,
    "pycharm": {
     "name": "#%%\n"
    }
   },
   "outputs": [],
   "source": [
    "# Check load_iris documentation\n",
    "iris_df, iris_y = load_iris(return_X_y=True, as_frame=True)"
   ]
  },
  {
   "cell_type": "markdown",
   "metadata": {
    "collapsed": false
   },
   "source": [
    "#### Check predictors X variable names and data size"
   ]
  },
  {
   "cell_type": "code",
   "execution_count": null,
   "metadata": {
    "collapsed": false,
    "pycharm": {
     "name": "#%%\n"
    }
   },
   "outputs": [],
   "source": [
    "print(f\"Predictors X variable names: {iris_df.columns}\")\n",
    "print(f\"X data size: {iris_df.shape}\")"
   ]
  },
  {
   "cell_type": "markdown",
   "metadata": {
    "collapsed": false
   },
   "source": [
    "#### Check the type of X , Y data\n",
    "\n",
    "X is a pandas.DataFrame and Y is a pandas.Series.\n",
    "These are the core data structures of pandas package."
   ]
  },
  {
   "cell_type": "code",
   "execution_count": null,
   "metadata": {
    "collapsed": false,
    "pycharm": {
     "name": "#%%\n"
    }
   },
   "outputs": [],
   "source": [
    "print(f\"Type of X data: {type(iris_df)}\")\n",
    "print(f\"Type of Y data: {type(iris_y)}\")"
   ]
  },
  {
   "cell_type": "markdown",
   "metadata": {
    "collapsed": false
   },
   "source": [
    "#### Print the first 5 rows of the predictive features"
   ]
  },
  {
   "cell_type": "code",
   "execution_count": null,
   "metadata": {
    "collapsed": false,
    "pycharm": {
     "name": "#%%\n"
    }
   },
   "outputs": [],
   "source": [
    "iris_df.head()"
   ]
  },
  {
   "cell_type": "markdown",
   "metadata": {
    "collapsed": false
   },
   "source": [
    "#### Print the first 5 values of the target variable"
   ]
  },
  {
   "cell_type": "code",
   "execution_count": null,
   "metadata": {
    "collapsed": false,
    "pycharm": {
     "name": "#%%\n"
    }
   },
   "outputs": [],
   "source": [
    "iris_y.head()"
   ]
  },
  {
   "cell_type": "markdown",
   "metadata": {
    "collapsed": false
   },
   "source": [
    "#### Check class distribution of Y"
   ]
  },
  {
   "cell_type": "code",
   "execution_count": null,
   "metadata": {
    "collapsed": false,
    "pycharm": {
     "name": "#%%\n"
    }
   },
   "outputs": [],
   "source": [
    "iris_y.value_counts()"
   ]
  },
  {
   "cell_type": "markdown",
   "metadata": {
    "collapsed": false
   },
   "source": [
    "#### Use ``train_test_split`` to prepare your train and test data\n",
    "Package documentation: [sklearn train_test_split](https://scikit-learn.org/stable/modules/generated/sklearn.model_selection.train_test_split.html)"
   ]
  },
  {
   "cell_type": "code",
   "execution_count": null,
   "metadata": {
    "collapsed": false,
    "pycharm": {
     "name": "#%%\n"
    }
   },
   "outputs": [],
   "source": [
    "iris_x_train, iris_x_test, iris_y_train, iris_y_test = train_test_split(\n",
    "    iris_df,\n",
    "    iris_y,\n",
    "    random_state=0,\n",
    "    stratify=iris_y\n",
    "    )"
   ]
  },
  {
   "cell_type": "markdown",
   "metadata": {
    "collapsed": false
   },
   "source": [
    "#### Use `StandardScaler` from sklearn to standardize the predictors.\n",
    "\n",
    "Package documentation: [sklearn StandardScaler](https://scikit-learn.org/stable/modules/generated/sklearn.preprocessing.StandardScaler.html)\n",
    "\n",
    "Otherwise, once `StandardScaler` has been imported, use `help(StandardScaler)` to print its documentation.\n",
    "\n",
    "You can use `help` Python command to check the documentation of any function or class."
   ]
  },
  {
   "cell_type": "code",
   "execution_count": null,
   "metadata": {
    "collapsed": false,
    "pycharm": {
     "name": "#%%\n"
    }
   },
   "outputs": [],
   "source": [
    "scaler = StandardScaler()\n",
    "iris_x_train = scaler.fit_transform(iris_x_train)\n",
    "iris_x_test = scaler.transform(iris_x_test)"
   ]
  },
  {
   "cell_type": "markdown",
   "metadata": {
    "collapsed": false
   },
   "source": [
    "#### Check class distribution in training and test Y.\n",
    "\n",
    "Hint: The `value_counts()` method can help here"
   ]
  },
  {
   "cell_type": "code",
   "execution_count": null,
   "metadata": {
    "collapsed": false,
    "pycharm": {
     "name": "#%%\n"
    }
   },
   "outputs": [],
   "source": [
    "print(f\"Training Y class count: \\n{iris_y_train.value_counts()}\\n\")\n",
    "print(f\"Test Y class count: \\n{iris_y_test.value_counts()}\")"
   ]
  },
  {
   "cell_type": "markdown",
   "metadata": {
    "collapsed": false
   },
   "source": [
    "#### Use again the `shape` function to check the dimensions of training and test X."
   ]
  },
  {
   "cell_type": "code",
   "execution_count": null,
   "metadata": {
    "collapsed": false,
    "pycharm": {
     "name": "#%%\n"
    }
   },
   "outputs": [],
   "source": [
    "print(iris_x_train.shape)\n",
    "print(iris_x_test.shape)"
   ]
  },
  {
   "cell_type": "markdown",
   "metadata": {
    "collapsed": false
   },
   "source": [
    "### Classify with K-nn"
   ]
  },
  {
   "cell_type": "markdown",
   "metadata": {
    "collapsed": false
   },
   "source": [
    "#### Fit K-nn model"
   ]
  },
  {
   "cell_type": "code",
   "execution_count": null,
   "metadata": {
    "collapsed": false,
    "pycharm": {
     "name": "#%%\n"
    }
   },
   "outputs": [],
   "source": [
    "knn_classifier = KNeighborsClassifier(n_neighbors=5)\n",
    "knn_classifier.fit(iris_x_train, iris_y_train)"
   ]
  },
  {
   "cell_type": "markdown",
   "metadata": {
    "collapsed": false
   },
   "source": [
    "#### Calculate K-nn training and test data accuracy"
   ]
  },
  {
   "cell_type": "code",
   "execution_count": null,
   "metadata": {
    "collapsed": false,
    "pycharm": {
     "name": "#%%\n"
    }
   },
   "outputs": [],
   "source": [
    "knn_train_accuracy = knn_classifier.score(iris_x_train, iris_y_train)\n",
    "knn_test_accuracy = knn_classifier.score(iris_x_test, iris_y_test)\n",
    "\n",
    "print(f\"K-nn training data accuracy: {round(knn_train_accuracy, 3)}\")\n",
    "print(f\"K-nn test data accuracy: {round(knn_test_accuracy, 3)}\")"
   ]
  },
  {
   "cell_type": "markdown",
   "metadata": {
    "collapsed": false
   },
   "source": [
    "#### Use Grid Search and Cross Validation to find the best number of neighbors\n",
    "\n",
    "The default option of 5-fold cross validation is used.\n",
    "GridSearchCV documentation: [sklearn GridSearchCV](https://scikit-learn.org/stable/modules/generated/sklearn.model_selection.GridSearchCV.html)"
   ]
  },
  {
   "cell_type": "code",
   "execution_count": null,
   "metadata": {
    "collapsed": false,
    "pycharm": {
     "name": "#%%\n"
    }
   },
   "outputs": [],
   "source": [
    "# Define parameter grid\n",
    "num_neighbors = np.array([1, 3, 5, 8, 10, 15, 20, 25, 30])\n",
    "\n",
    "param_grid = dict(n_neighbors=num_neighbors)\n",
    "\n",
    "param_grid"
   ]
  },
  {
   "cell_type": "code",
   "execution_count": null,
   "metadata": {
    "collapsed": false,
    "pycharm": {
     "name": "#%%\n"
    }
   },
   "outputs": [],
   "source": [
    "# Initialize model\n",
    "knn_model = KNeighborsClassifier()\n",
    "\n",
    "grid = GridSearchCV(\n",
    "    estimator=knn_model,\n",
    "    param_grid=param_grid,\n",
    "    scoring=\"accuracy\"\n",
    "    )\n",
    "\n",
    "# Run grid search\n",
    "grid.fit(iris_x_train, iris_y_train)\n",
    "best_n = grid.best_estimator_.n_neighbors\n",
    "best_score = round(grid.best_score_, 3)\n",
    "\n",
    "print(f\"Best number of neighbors: {best_n}\")\n",
    "print(f\"Best achieved test accuracy for {best_n} neighbors: {best_score}\")"
   ]
  },
  {
   "cell_type": "markdown",
   "metadata": {
    "collapsed": false
   },
   "source": [
    "### In-class Exercise\n",
    "\n",
    "\n",
    "Choose either the blood transfusion or the Iris dataset.\n",
    "\n",
    "Then train and evaluate `sklearn.linear_model.LogisticRegression` on the chosen dataset.\n",
    "\n",
    "How does it perform on the training set vs. the test set?\n",
    "\n"
   ]
  },
  {
   "cell_type": "code",
   "execution_count": null,
   "metadata": {
    "collapsed": false,
    "pycharm": {
     "name": "#%%\n"
    }
   },
   "outputs": [],
   "source": [
    "lrg_classifier = LogisticRegression()\n",
    "\n",
    "lrg_classifier.fit(x_train, y_train)"
   ]
  },
  {
   "cell_type": "code",
   "execution_count": null,
   "metadata": {
    "collapsed": false,
    "pycharm": {
     "name": "#%%\n"
    }
   },
   "outputs": [],
   "source": [
    "lrg_train_accuracy = lrg_classifier.score(x_train, y_train)\n",
    "\n",
    "lrg_test_accuracy = lrg_classifier.score(x_test, y_test)\n",
    "\n",
    "print(f\"Logistic Regression training data accuracy: {round(lrg_train_accuracy, 3)}\")\n",
    "\n",
    "print(f\"Logistic Regression test data accuracy: {round(lrg_test_accuracy, 3)}\")"
   ]
  },
  {
   "cell_type": "code",
   "execution_count": null,
   "metadata": {},
   "outputs": [],
   "source": [
    "# your code here."
   ]
  },
  {
   "cell_type": "markdown",
   "metadata": {
    "collapsed": false
   },
   "source": [
    "### Take-home Exercise (discretionary)\n",
    "\n",
    "Can you construct a binary classification dataset (using np.random for example) on which `sklearn.linear_model.LogisticRegression` achieves an accuracy of 1? \n",
    "\n"
   ]
  },
  {
   "cell_type": "code",
   "execution_count": null,
   "metadata": {},
   "outputs": [],
   "source": [
    "# your code here."
   ]
  }
 ],
 "metadata": {
  "anaconda-cloud": {},
  "colab": {
   "provenance": []
  },
  "kernelspec": {
   "display_name": "Python 3",
   "language": "python",
   "name": "python3"
  },
  "language_info": {
   "codemirror_mode": {
    "name": "ipython",
    "version": 3
   },
   "file_extension": ".py",
   "mimetype": "text/x-python",
   "name": "python",
   "nbconvert_exporter": "python",
   "pygments_lexer": "ipython3",
   "version": "3.7.3"
  }
 },
 "nbformat": 4,
 "nbformat_minor": 0
}
