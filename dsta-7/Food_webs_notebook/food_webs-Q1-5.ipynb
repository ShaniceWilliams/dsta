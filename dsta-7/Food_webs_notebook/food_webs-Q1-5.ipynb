{
  "cells": [
    {
      "cell_type": "markdown",
      "metadata": {
        "id": "6zbkhVJWvcND"
      },
      "source": [
        "### DSTA\n",
        "\n",
        "#### Chapter I - Food Webs\n",
        "\n",
        "##### This Python3 exercise notebook is derived from the original Python2 notebook for Ch. 1 of Caldarelli-Cheesa's textbook (CC). \n",
        "\n",
        "This model solution is only available from the [class repository](https://github.com/ale66/dsta).\n",
        "\n",
        "You may keep the [NetworkX documentation](https://networkx.org/documentation/stable/index.html) at hand.\n"
      ]
    },
    {
      "cell_type": "markdown",
      "metadata": {
        "id": "SYNmtCQtl1Ao"
      },
      "source": [
        "Which Python version is running?"
      ]
    },
    {
      "cell_type": "code",
      "execution_count": null,
      "metadata": {
        "colab": {
          "base_uri": "https://localhost:8080/"
        },
        "id": "Ad5wfYD9l6ZD",
        "outputId": "480972a3-a951-46ee-f070-8a5e5ca57789"
      },
      "outputs": [],
      "source": [
        "import sys\n",
        "print(sys.version)"
      ]
    },
    {
      "cell_type": "markdown",
      "metadata": {},
      "source": [
        "Which dataset is used?\n",
        "\n",
        "Please find the dataset for the other  wet areas from the [class repo](https://github.com/ale66/dsta)."
      ]
    },
    {
      "cell_type": "code",
      "execution_count": null,
      "metadata": {},
      "outputs": [],
      "source": [
        "FILE = './data/Little_Rock_Lake.txt'"
      ]
    },
    {
      "cell_type": "markdown",
      "metadata": {
        "id": "C7_6HB5SkA8y"
      },
      "source": [
        "## Import packages"
      ]
    },
    {
      "cell_type": "code",
      "execution_count": null,
      "metadata": {
        "id": "0PELoEI_j3LA"
      },
      "outputs": [],
      "source": [
        "import networkx as nx\n",
        "import numpy as np\n",
        "import matplotlib.pyplot as plt"
      ]
    },
    {
      "cell_type": "markdown",
      "metadata": {
        "id": "iTc5vynzvcNJ"
      },
      "source": [
        "###  Q1. Draw an undirected graph from an adjacency matrix"
      ]
    },
    {
      "cell_type": "code",
      "execution_count": null,
      "metadata": {
        "colab": {
          "base_uri": "https://localhost:8080/",
          "height": 319
        },
        "id": "95mDF_UmvcNK",
        "outputId": "eb78a2e9-5e88-43c9-e971-280599fcd4bf"
      },
      "outputs": [],
      "source": [
        "adjacency_matrix = [\n",
        "    [0,1,0,1],\n",
        "    [1,0,1,1],\n",
        "    [0,1,0,0],\n",
        "    [1,1,0,0]\n",
        "    ]\n",
        "\n",
        "A = np.array(adjacency_matrix)\n",
        "\n",
        "G = nx.from_numpy_array(A)\n",
        "\n",
        "nx.draw(G, with_labels=True)"
      ]
    },
    {
      "cell_type": "code",
      "execution_count": null,
      "metadata": {
        "colab": {
          "base_uri": "https://localhost:8080/"
        },
        "id": "A-qT-NUckcYx",
        "outputId": "2d5e4b5f-931b-4f24-ec15-41977bb25df8"
      },
      "outputs": [],
      "source": [
        "type(G)"
      ]
    },
    {
      "cell_type": "markdown",
      "metadata": {
        "id": "kleVnxwSvcNM"
      },
      "source": [
        "#### Browsing the rows"
      ]
    },
    {
      "cell_type": "code",
      "execution_count": null,
      "metadata": {
        "colab": {
          "base_uri": "https://localhost:8080/"
        },
        "id": "r6nuDSJavcNM",
        "outputId": "4d08421a-1fed-44c9-edea-872f7e403ab9"
      },
      "outputs": [],
      "source": [
        "for row in adjacency_matrix:\n",
        "    print(row)"
      ]
    },
    {
      "cell_type": "markdown",
      "metadata": {
        "id": "plXk18efvcNP"
      },
      "source": [
        "#### Browsing the link information"
      ]
    },
    {
      "cell_type": "code",
      "execution_count": null,
      "metadata": {
        "colab": {
          "base_uri": "https://localhost:8080/"
        },
        "id": "s_kJxze5vcNQ",
        "outputId": "473b9983-c497-45ca-d6cf-6d0308e61a6e"
      },
      "outputs": [],
      "source": [
        "for row in adjacency_matrix:\n",
        "    for a_ij in row:\n",
        "        print(a_ij, end=\" \")\n",
        "\n",
        "    print(\"\\r\")"
      ]
    },
    {
      "cell_type": "markdown",
      "metadata": {
        "id": "INxny68fvcNS"
      },
      "source": [
        "####  Q2. Draw the directed graph from adjacency matrix\n",
        "\n",
        "For directed networks, in general their adjacency matrix is asymmetric.\n",
        "\n",
        "So, for instance, a non-zero element in row 2, column 3 means that there is an\n",
        "arc (directed edge) from node 2 towards node 3."
      ]
    },
    {
      "cell_type": "code",
      "execution_count": null,
      "metadata": {
        "colab": {
          "base_uri": "https://localhost:8080/",
          "height": 319
        },
        "id": "-u0AcVU3vcNU",
        "outputId": "b2d06175-4901-413a-9131-d446902c5a1c"
      },
      "outputs": [],
      "source": [
        "\n",
        "adjacency_matrix_directed = [\n",
        "    [0,1,0,1],\n",
        "    [0,0,1,0],\n",
        "    [0,0,0,1],\n",
        "    [0,0,0,0]\n",
        "    ]\n",
        "\n",
        "AD = np.array(adjacency_matrix_directed)\n",
        "\n",
        "GR = nx.from_numpy_array(AD, create_using=nx.MultiDiGraph())\n",
        "\n",
        "nx.draw(GR, with_labels=True)\n"
      ]
    },
    {
      "cell_type": "code",
      "execution_count": null,
      "metadata": {
        "colab": {
          "base_uri": "https://localhost:8080/"
        },
        "id": "FWYBk9azoU8r",
        "outputId": "7ecacc75-bcb7-4dea-d304-205f274d0929"
      },
      "outputs": [],
      "source": [
        "type(GR)"
      ]
    },
    {
      "cell_type": "code",
      "execution_count": null,
      "metadata": {
        "colab": {
          "base_uri": "https://localhost:8080/"
        },
        "id": "amKCDXukrF4z",
        "outputId": "e5d524d5-bf52-4af9-dd2c-882390a7b645"
      },
      "outputs": [],
      "source": [
        "for edge in GR.out_edges(2):\n",
        "    print(edge)"
      ]
    },
    {
      "cell_type": "markdown",
      "metadata": {
        "id": "PVEAo1NmvcNY"
      },
      "source": [
        "#### Basic Statistics"
      ]
    },
    {
      "cell_type": "code",
      "execution_count": null,
      "metadata": {
        "colab": {
          "base_uri": "https://localhost:8080/"
        },
        "id": "pt2zJM-BvcNY",
        "outputId": "2cafd073-b45c-4f84-e1a5-2b6f060ecec3"
      },
      "outputs": [],
      "source": [
        "# The number of species is the number of rows or columns of\n",
        "# the adjacency matrix\n",
        "num_species = len(adjacency_matrix_directed[0])\n",
        "\n",
        "# The number of links or predations is the non zero elements\n",
        "# of the adjacency matrix (this holds for directed graphs)\n",
        "num_predations = 0\n",
        "for i in range(num_species):\n",
        "    for j in range(num_species):\n",
        "        if adjacency_matrix_directed[i][j] != 0:\n",
        "            num_predations = num_predations + 1\n",
        "\n",
        "# To check if a species is a Basal (B), an Intermediate (I) or\n",
        "# a Top (T) one  we have to check the presence of 1s both in\n",
        "# the row and in the column of each species\n",
        "row_count = [0,0,0,0]\n",
        "column_count = [0,0,0,0]\n",
        "\n",
        "for i in range(num_species):\n",
        "    for j in range(num_species):\n",
        "        row_count[i] += adjacency_matrix_directed[i][j]\n",
        "        column_count[j] += adjacency_matrix_directed[i][j]\n",
        "\n",
        "number_B = 0\n",
        "number_I = 0\n",
        "number_T = 0\n",
        "\n",
        "# Remeber: incoming edge means being a hunter!\n",
        "for n in range(num_species):\n",
        "    if row_count[n] == 0:\n",
        "        number_T += 1\n",
        "        continue\n",
        "    if column_count[n] == 0:\n",
        "        number_B += 1\n",
        "        continue\n",
        "    else:\n",
        "        number_I += 1\n",
        "\n",
        "print(\"number of species\", num_species)\n",
        "print(\"number of predations\", num_predations)\n",
        "print(\"classes Basal, Top, Intermediate: \", number_B, number_T, number_I)\n",
        "print(\"connectance\", float(num_predations) / float(num_species ** 2))"
      ]
    },
    {
      "cell_type": "code",
      "execution_count": null,
      "metadata": {
        "colab": {
          "base_uri": "https://localhost:8080/"
        },
        "id": "z6-KwXt_sCO6",
        "outputId": "1d5b8365-2735-4761-d8df-76384503b85d"
      },
      "outputs": [],
      "source": [
        "np.array(adjacency_matrix_directed)"
      ]
    },
    {
      "cell_type": "code",
      "execution_count": null,
      "metadata": {
        "colab": {
          "base_uri": "https://localhost:8080/"
        },
        "id": "qw74CNE70YBd",
        "outputId": "3327defc-2edb-43c3-c0c2-d42449cf8c3f"
      },
      "outputs": [],
      "source": [
        "print(row_count, column_count)"
      ]
    },
    {
      "cell_type": "markdown",
      "metadata": {
        "id": "KZ4dmcZqvcNZ"
      },
      "source": [
        "#### Explore node degree distribution"
      ]
    },
    {
      "cell_type": "code",
      "execution_count": null,
      "metadata": {
        "colab": {
          "base_uri": "https://localhost:8080/"
        },
        "id": "7LOYmA1lvcNa",
        "outputId": "edd97c6e-010f-4c1f-eccc-b44ce47f028b"
      },
      "outputs": [],
      "source": [
        "# For the undirected network\n",
        "degree_node_1 = 0\n",
        "\n",
        "for j in adjacency_matrix[1]:\n",
        "    degree_node_1 += j\n",
        "print (\"degree of node 1:\",degree_node_1)\n",
        "\n",
        "# For the directed case we already calculated the sum over\n",
        "# the rows and columns for the adjacency_matrix_directed\n",
        "out_degree_node_2 = row_count[2]\n",
        "in_degree_node_3 = column_count[3]\n",
        "\n",
        "print( \"out_degree node 2:\", out_degree_node_2)\n",
        "print (\"in_degree node 3:\", in_degree_node_3)"
      ]
    },
    {
      "cell_type": "markdown",
      "metadata": {
        "id": "NwmGCa82vcNb"
      },
      "source": [
        "####  Q3. Draw the histogram of degree distribution from adjacency matrix"
      ]
    },
    {
      "cell_type": "code",
      "execution_count": null,
      "metadata": {
        "colab": {
          "base_uri": "https://localhost:8080/",
          "height": 265
        },
        "id": "8zVLzT7NvcNb",
        "outputId": "57944f6c-6e91-45b8-c8d8-8960f087d016"
      },
      "outputs": [],
      "source": [
        "def plot_degree_dist(graph):\n",
        "    \"\"\"\n",
        "    :param graph: A directed or undirected graph\n",
        "\n",
        "    Creates a frequency bar plot with the degree of\n",
        "    the nodes within the graph\n",
        "    \"\"\"\n",
        "    # print(G.nodes())\n",
        "    degrees = [graph.degree(n) for n in graph.nodes()]\n",
        "\n",
        "    # print(degrees)\n",
        "    plt.hist(degrees)\n",
        "    plt.show()\n",
        "\n",
        "plot_degree_dist(GR)\n",
        "# plot_degree_dist(nx.gnp_random_graph(100, 0.5, directed=True))"
      ]
    },
    {
      "cell_type": "markdown",
      "metadata": {
        "id": "wUAjjWnevcNb"
      },
      "source": [
        "#### Degree in Networkx"
      ]
    },
    {
      "cell_type": "code",
      "execution_count": null,
      "metadata": {
        "colab": {
          "base_uri": "https://localhost:8080/"
        },
        "id": "Z-rdW4o4vcNb",
        "outputId": "570045a1-6f37-497f-adba-a12a8883db5c"
      },
      "outputs": [],
      "source": [
        "# Generate an empty graph\n",
        "GE = nx.Graph()\n",
        "\n",
        "# define the nodes\n",
        "GE.add_node(1)\n",
        "GE.add_node(2)\n",
        "GE.add_node(3)\n",
        "GE.add_node(4)\n",
        "\n",
        "# link the nodes\n",
        "GE.add_edge(1,2)\n",
        "GE.add_edge(1,4)\n",
        "GE.add_edge(2,3)\n",
        "GE.add_edge(2,4)\n",
        "\n",
        "# degree of the node 2\n",
        "print(GE.degree(2))"
      ]
    },
    {
      "cell_type": "markdown",
      "metadata": {
        "id": "0n0hJERbvcNc"
      },
      "source": [
        "####  Q4. Draw the graph and degree distribution histogram for the above."
      ]
    },
    {
      "cell_type": "code",
      "execution_count": null,
      "metadata": {
        "colab": {
          "base_uri": "https://localhost:8080/",
          "height": 319
        },
        "id": "vNAM57iqvcNd",
        "outputId": "0e1f462a-e213-42e6-91c9-1829e7370b78"
      },
      "outputs": [],
      "source": [
        "nx.draw(GE, with_labels=True)\n",
        "\n",
        "plot_degree_dist(GE)"
      ]
    },
    {
      "cell_type": "markdown",
      "metadata": {
        "id": "3gSW1NlPvcNd"
      },
      "source": [
        "#### Clustering Coefficient (Local Version for a single Node) for an Undirected Graph\n",
        "\n",
        "Details on Clustering Coefficient for Graphs [here](https://www.geeksforgeeks.org/clustering-coefficient-graph-theory/) and [here](https://en.wikipedia.org/wiki/Clustering_coefficient)"
      ]
    },
    {
      "cell_type": "code",
      "execution_count": null,
      "metadata": {
        "colab": {
          "base_uri": "https://localhost:8080/"
        },
        "id": "VtdYK15pdJxb",
        "outputId": "121a3172-e0d5-4726-affe-f2dcb8a02749"
      },
      "outputs": [],
      "source": [
        "adjacency_matrix[1]"
      ]
    },
    {
      "cell_type": "code",
      "execution_count": null,
      "metadata": {
        "colab": {
          "base_uri": "https://localhost:8080/"
        },
        "id": "a7chd1hdvcNd",
        "outputId": "2958a3e3-a5d5-41e6-8981-760b9eb238fe"
      },
      "outputs": [],
      "source": [
        "row = 1 # Stands for node 1 (count starts from 0)\n",
        "node_index_count = 0\n",
        "node_index_list = []\n",
        "\n",
        "# Get nodes connected to node 1\n",
        "for a_ij in adjacency_matrix[row]:\n",
        "    if a_ij == 1:\n",
        "        node_index_list.append(node_index_count)\n",
        "    node_index_count += 1\n",
        "\n",
        "print(\"\\r\")\n",
        "print(node_index_list)\n",
        "\n",
        "# We check whether all possible neighbouring couples are linked\n",
        "neighb_conn = 0\n",
        "\n",
        "for n1 in node_index_list:\n",
        "    for n2 in node_index_list:\n",
        "        if adjacency_matrix[n1][n2] == 1:\n",
        "            neighb_conn = neighb_conn + 1\n",
        "\n",
        "# we have indeed counted them twice...\n",
        "neighb_conn = neighb_conn / 2.0\n",
        "print(neighb_conn)\n",
        "\n",
        "# Finally the clustering coefficient for node '1' is given by the expression:\n",
        "clustering_coefficient = neighb_conn / (degree_node_1 * (degree_node_1 - 1) / 2.0)\n",
        "\n",
        "print(clustering_coefficient)"
      ]
    },
    {
      "cell_type": "markdown",
      "metadata": {
        "id": "6K288RaglPEC"
      },
      "source": [
        "#### Check calculations with networkx method"
      ]
    },
    {
      "cell_type": "code",
      "execution_count": null,
      "metadata": {
        "colab": {
          "base_uri": "https://localhost:8080/"
        },
        "id": "gB_7hZ9ClCYN",
        "outputId": "985a3433-6509-437d-a458-5b42b435f2a6"
      },
      "outputs": [],
      "source": [
        "all_clustering_coefficients = nx.clustering(G)\n",
        "print(f\"All Clustering Coefficients: {all_clustering_coefficients}\")\n",
        "print(f\"Node 1 Clustering Coefficient: {all_clustering_coefficients[1]}\")"
      ]
    },
    {
      "cell_type": "markdown",
      "metadata": {
        "id": "NmEyf_IivcNd"
      },
      "source": [
        "#### Compute distance with Breadth-First Search\n",
        "\n",
        "Details on Breadth First Search [here](https://www.geeksforgeeks.org/breadth-first-search-or-bfs-for-a-graph/) and [here](https://en.wikipedia.org/wiki/Breadth-first_search)"
      ]
    },
    {
      "cell_type": "markdown",
      "metadata": {
        "id": "OreXNJ2kvcNe"
      },
      "source": [
        "#### Create the undirected graph"
      ]
    },
    {
      "cell_type": "code",
      "execution_count": null,
      "metadata": {
        "colab": {
          "base_uri": "https://localhost:8080/",
          "height": 371
        },
        "id": "N63qMlorvcNf",
        "outputId": "fbb7fb71-4083-43a3-b6e7-3efae5f4802f"
      },
      "outputs": [],
      "source": [
        "GU = nx.Graph()\n",
        "GU.add_edges_from([\n",
        "    ('A','B'),\n",
        "    ('A','C'),\n",
        "    ('C','D'),\n",
        "    ('C','E'),\n",
        "    ('D','F'),\n",
        "    ('D','H'),\n",
        "    ('D','G'),\n",
        "    ('E','H'),\n",
        "    ('E','I')\n",
        "    ])\n",
        "\n",
        "# Example of printing neighbors of a node 'A'\n",
        "print(tuple(GU.neighbors('A')), \"\\n\\n\")\n",
        "\n",
        "nx.draw(GU, with_labels=True)"
      ]
    },
    {
      "cell_type": "code",
      "execution_count": null,
      "metadata": {
        "colab": {
          "base_uri": "https://localhost:8080/"
        },
        "id": "4pmTxAjk6cG0",
        "outputId": "5d43f207-285c-4b27-840a-ec14d562f569"
      },
      "outputs": [],
      "source": [
        "# Each graph node has an empty dictionary\n",
        "print(GU.nodes[\"C\"])\n",
        "list(GU.neighbors(\"C\"))"
      ]
    },
    {
      "cell_type": "markdown",
      "metadata": {
        "id": "9NfuB_PHqG8N"
      },
      "source": [
        "#### Using the first node as root, find the distance of every single node from the root."
      ]
    },
    {
      "cell_type": "code",
      "execution_count": null,
      "metadata": {
        "colab": {
          "base_uri": "https://localhost:8080/"
        },
        "id": "w6ZMf2KWvcNf",
        "outputId": "3d7f34a3-e1c0-45b6-f6aa-e77ac19d3b45"
      },
      "outputs": [],
      "source": [
        "root_node = 'A'\n",
        "\n",
        "queue = []\n",
        "queue.append('A')\n",
        "\n",
        "# Distance of root node vs itself\n",
        "GU.nodes['A'][\"distance\"] = 0\n",
        "\n",
        "while len(queue):\n",
        "    working_node = queue.pop(0)\n",
        "\n",
        "    # Uncomment the following 2 lines to print more output\n",
        "    # print(f\"Working Node: {working_node}\")\n",
        "    # print(f\"{working_node} Neighbors: {list(GU.neighbors(working_node))}\")\n",
        "\n",
        "    # Iterate through current node neighbors\n",
        "    for n in GU.neighbors(working_node):\n",
        "        if len(GU.nodes[n]) == 0:  # Checks if a distance has been assigned\n",
        "            GU.nodes[n][\"distance\"] = GU.nodes[working_node][\"distance\"] + 1\n",
        "            queue.append(n)\n",
        "\n",
        "for n in GU.nodes():\n",
        "    print (n, GU.nodes[n][\"distance\"])\n"
      ]
    },
    {
      "cell_type": "code",
      "execution_count": null,
      "metadata": {
        "colab": {
          "base_uri": "https://localhost:8080/"
        },
        "id": "V3uuzUd15qPi",
        "outputId": "896a4b72-f88a-47a8-f2d9-72a8eeb760cb"
      },
      "outputs": [],
      "source": [
        "GU.nodes[\"B\"]"
      ]
    },
    {
      "cell_type": "markdown",
      "metadata": {
        "id": "8ekXlCZYvcNf"
      },
      "source": [
        "#### Reading the file with Food Web data"
      ]
    },
    {
      "cell_type": "code",
      "execution_count": null,
      "metadata": {
        "colab": {
          "base_uri": "https://localhost:8080/"
        },
        "id": "C7jnkwH9vcNg",
        "outputId": "e66ea3f4-63f5-4d8b-c032-abdf84337ba1"
      },
      "outputs": [],
      "source": [
        "DG = nx.DiGraph()\n",
        "\n",
        "input_file = open(FILE, 'r')\n",
        "\n",
        "while True:\n",
        "    next_line = input_file.readline()\n",
        "    if not next_line:\n",
        "        break\n",
        "\n",
        "    next_line_fields = next_line[:-2].split(' ')\n",
        "    node_a = next_line_fields[1] # There's a space in the beginning of each edge\n",
        "    node_b = next_line_fields[2]\n",
        "\n",
        "    print(node_a, node_b)\n",
        "    DG.add_edge(node_a, node_b)"
      ]
    },
    {
      "cell_type": "markdown",
      "metadata": {
        "id": "r9iLM8lOvcNh"
      },
      "source": [
        "####  Q5. Draw the graph and degree distribution histogram for the above."
      ]
    },
    {
      "cell_type": "code",
      "execution_count": null,
      "metadata": {
        "colab": {
          "base_uri": "https://localhost:8080/",
          "height": 319
        },
        "id": "4w3zq2TMvcNh",
        "outputId": "0141de56-0e8a-443b-d9f5-a6ae50f87724"
      },
      "outputs": [],
      "source": [
        "nx.draw(DG, with_labels=True)"
      ]
    },
    {
      "cell_type": "code",
      "execution_count": null,
      "metadata": {
        "colab": {
          "base_uri": "https://localhost:8080/",
          "height": 265
        },
        "id": "-wu6ILXjvcNh",
        "outputId": "24150a8c-1a17-4c9b-9297-21fb922461d7"
      },
      "outputs": [],
      "source": [
        "plot_degree_dist(DG)"
      ]
    },
    {
      "cell_type": "markdown",
      "metadata": {
        "id": "kyajYPTzvcNh"
      },
      "source": [
        "## Trophic Species"
      ]
    },
    {
      "cell_type": "markdown",
      "metadata": {
        "id": "mExxBdNvvcNh"
      },
      "source": [
        "#### Defining the trophic pattern key\n",
        "this is a way to generate a unique key starting from the ordered lists of preys and predators attached to nodes"
      ]
    },
    {
      "cell_type": "code",
      "execution_count": null,
      "metadata": {
        "id": "ffiT6aKNvcNi"
      },
      "outputs": [],
      "source": [
        "def get_node_key(node: int) -> list:\n",
        "    \"\"\"\n",
        "    :param node: Integer that represents a node in a directed graph.\n",
        "\n",
        "    :return out_list: Sorted list with destination nodes of outgoing\n",
        "    and incoming edges.\n",
        "    \"\"\"\n",
        "    # Collect destinations of outgoing edges in a list\n",
        "    out_list = []\n",
        "    for out_edge in DG.out_edges(node):\n",
        "        out_list.append(out_edge[1])\n",
        "\n",
        "    # Collect destinations of incoming edges in a list\n",
        "    in_list = []\n",
        "    for in_edge in DG.in_edges(node):\n",
        "        in_list.append(in_edge[0])\n",
        "\n",
        "    out_list.sort()\n",
        "    out_list.append('-')\n",
        "    in_list.sort()\n",
        "    out_list.extend(in_list)\n",
        "\n",
        "    return out_list"
      ]
    },
    {
      "cell_type": "markdown",
      "metadata": {
        "id": "a7cKgkxTvcNi"
      },
      "source": [
        "#### Grouping the Trophic Species and Regenerating the Trophic network"
      ]
    },
    {
      "cell_type": "code",
      "execution_count": null,
      "metadata": {
        "colab": {
          "base_uri": "https://localhost:8080/"
        },
        "id": "HHOzwTzuvcNj",
        "outputId": "2fe4a7bf-42d1-4779-9270-3239762b003b"
      },
      "outputs": [],
      "source": [
        "def TrophicNetwork(DG: nx.DiGraph) -> nx.DiGraph:\n",
        "    \"\"\"\n",
        "    :param DG: A directed graph\n",
        "\n",
        "    :return DG: A directed graph\n",
        "    \"\"\"\n",
        "    trophic = {}\n",
        "\n",
        "    # Create dictionary with node keys:\n",
        "    # Each key is created by get_node_key function, key value is the node\n",
        "    for n in DG.nodes():\n",
        "        k = tuple(get_node_key(n))\n",
        "        if not k in trophic:\n",
        "            trophic[k] = []\n",
        "\n",
        "        trophic[k].append(n)\n",
        "\n",
        "    # Loop through all keys and removed redundant nodes\n",
        "    for species in trophic.keys():\n",
        "        if len(trophic[species]) > 1:\n",
        "            for n in trophic[species][1:]:\n",
        "                DG.remove_node(n)\n",
        "    return DG\n",
        "\n",
        "# deleting the environment\n",
        "# DG.remove_node('0')\n",
        "\n",
        "TrophicDG = TrophicNetwork(DG)\n",
        "print(\"S:\", TrophicDG.number_of_nodes())\n",
        "print(\"L:\", TrophicDG.number_of_edges())\n",
        "print(\"L/S:\", float(TrophicDG.number_of_edges()) / TrophicDG.number_of_nodes())"
      ]
    },
    {
      "cell_type": "markdown",
      "metadata": {
        "id": "45kSZ5DevcNj"
      },
      "source": [
        "### Classes in Food Webs"
      ]
    },
    {
      "cell_type": "code",
      "execution_count": null,
      "metadata": {
        "colab": {
          "base_uri": "https://localhost:8080/"
        },
        "id": "VArYACxivcNj",
        "outputId": "af4f20fc-3c8b-4b8b-fc31-caa61f81abb7"
      },
      "outputs": [],
      "source": [
        "def compute_classes(DG: nx.DiGraph) -> tuple:\n",
        "    \"\"\"\n",
        "    :param DG: A directed graph\n",
        "\n",
        "    :return: A tuple of lists, where each list represents\n",
        "    a species class:\n",
        "    Basal, Intermediate or Top\n",
        "    \"\"\"\n",
        "    basal_species = []\n",
        "    top_species = []\n",
        "    intermediate_species = []\n",
        "\n",
        "    # Remember: incoming edges means hunting, outgoing means being hunted!\n",
        "    for n in DG.nodes():\n",
        "        if DG.in_degree(n) == 0:\n",
        "            basal_species.append(n)\n",
        "        elif DG.out_degree(n) == 0:\n",
        "            top_species.append(n)\n",
        "        else:\n",
        "            intermediate_species.append(n)\n",
        "\n",
        "    return basal_species, intermediate_species, top_species\n",
        "\n",
        "B, I, T = compute_classes(TrophicDG)\n",
        "n_classes = len(B) + len(T) + len(I)\n",
        "\n",
        "print(f\"Total Number of Species: {n_classes}\")\n",
        "print(f\"Basal: {len(B)}\")\n",
        "print(f\"Top: {len(T)}\")\n",
        "print(f\"Intermediate: {len(I)}\")\n",
        "\n",
        "print (\"Percentage of B:\", float(len(B)) / (n_classes))\n",
        "print (\"Percentage of I:\", float(len(I)) / (n_classes))\n",
        "print (\"Percentage of T:\", float(len(T)) / (n_classes))"
      ]
    },
    {
      "cell_type": "markdown",
      "metadata": {
        "id": "Yhxjw1DLvcNk"
      },
      "source": [
        "#### Proportion of links among classes and ratio prey/predators"
      ]
    },
    {
      "cell_type": "code",
      "execution_count": null,
      "metadata": {
        "colab": {
          "base_uri": "https://localhost:8080/"
        },
        "id": "lcPRL_6ZvcNl",
        "outputId": "24e5a3c7-6a3f-4e22-ede4-bba21c0170b8"
      },
      "outputs": [],
      "source": [
        "def InterclassLinkProportion(DG: nx.DiGraph, C1: list, C2: list) -> float:\n",
        "    \"\"\"\n",
        "    :param DG: A directed graph\n",
        "    :param C1: List of nodes that belong to a class of species\n",
        "    (Base, Intermediate, Top)\n",
        "    :param C2: A class of species (Base, Intermediate, Top)\n",
        "\n",
        "    :return: Proportion of links between pair of classes against the\n",
        "    total number of edges\n",
        "    \"\"\"\n",
        "    count = 0\n",
        "    for n1 in C1:\n",
        "        for n2 in C2:\n",
        "            if DG.has_edge(n1, n2):\n",
        "                count += 1\n",
        "\n",
        "    prop = float(count) / DG.number_of_edges()\n",
        "    return round(prop, 3)\n",
        "\n",
        "print(\"links in BT:\", InterclassLinkProportion(TrophicDG, B, T))\n",
        "print(\"links in BI:\", InterclassLinkProportion(TrophicDG, B, I))\n",
        "print(\"links in II:\", InterclassLinkProportion(TrophicDG, I, I))\n",
        "print(\"links in IT:\", InterclassLinkProportion(TrophicDG, I, T))\n",
        "\n",
        "# Ratio prey / predators\n",
        "print(\"P/R:\", float((len(B) + len(I))) / (len(I) + len(T)))"
      ]
    }
  ],
  "metadata": {
    "colab": {
      "provenance": []
    },
    "kernelspec": {
      "display_name": "Python 3",
      "language": "python",
      "name": "python3"
    },
    "language_info": {
      "codemirror_mode": {
        "name": "ipython",
        "version": 3
      },
      "file_extension": ".py",
      "mimetype": "text/x-python",
      "name": "python",
      "nbconvert_exporter": "python",
      "pygments_lexer": "ipython3",
      "version": "3.6.9"
    }
  },
  "nbformat": 4,
  "nbformat_minor": 0
}
