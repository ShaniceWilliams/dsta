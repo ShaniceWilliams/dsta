{
 "cells": [
  {
   "cell_type": "markdown",
   "metadata": {},
   "source": [
    "### DSTA\n",
    "\n",
    "Experience: apply NMF to the activity matrix from Ch. 11 of the [MMDS textbook](http://mmds.org/). "
   ]
  },
  {
   "cell_type": "code",
   "execution_count": 1,
   "metadata": {},
   "outputs": [],
   "source": [
    "import numpy as np\n",
    "\n",
    "from sklearn.decomposition import NMF\n",
    "\n",
    "# constant assigned to the dimension to be introduced by factorization.\n",
    "K = 2"
   ]
  },
  {
   "cell_type": "code",
   "execution_count": 4,
   "metadata": {},
   "outputs": [],
   "source": [
    "viewers = ['Joe', 'Jim', 'John', 'Jack', 'Jill', 'Jenny', 'Jane']\n",
    "\n",
    "films = ['Matrix', 'Alien', 'Star Wars', 'Casablanca', 'Titanic']\n",
    "\n",
    "ratings =  [[1, 1, 1, 0, 0],\n",
    "            [3, 3, 3, 0, 0],\n",
    "            [4, 4, 4, 0, 0],\n",
    "            [5, 5, 5, 0, 0],\n",
    "            [0, 0, 0, 4, 4],\n",
    "            [0, 0, 0, 5, 5],\n",
    "            [0, 0, 0, 2, 2]]\n",
    "\n",
    "\n",
    "\n",
    "ratings2 =  [[1, 1, 1, 0, 0],\n",
    "            [3, 3, 3, 0, 0],\n",
    "            [4, 4, 4, 0, 0],\n",
    "            [5, 5, 5, 0, 0],\n",
    "            [0, 2, 0, 4, 4],\n",
    "            [0, 0, 0, 5, 5],\n",
    "            [0, 1, 0, 2, 2]]"
   ]
  },
  {
   "cell_type": "code",
   "execution_count": 5,
   "metadata": {},
   "outputs": [],
   "source": [
    "# assign as needed\n",
    "V = np.array(ratings)"
   ]
  },
  {
   "cell_type": "code",
   "execution_count": 6,
   "metadata": {},
   "outputs": [],
   "source": [
    "# initialization of the Scikit machine\n",
    "model = NMF(n_components=K, init='random', random_state=0)\n",
    "\n",
    "W = model.fit_transform(V)\n",
    "\n",
    "# continuation of the previous call\n",
    "H = model.components_\n"
   ]
  },
  {
   "cell_type": "code",
   "execution_count": 8,
   "metadata": {},
   "outputs": [
    {
     "name": "stdout",
     "output_type": "stream",
     "text": [
      "[[3.97051083e-36 8.20375710e-01]\n",
      " [0.00000000e+00 2.46112713e+00]\n",
      " [1.58820433e-35 3.28150284e+00]\n",
      " [0.00000000e+00 4.10187855e+00]\n",
      " [1.62445593e+00 0.00000000e+00]\n",
      " [2.03056992e+00 0.00000000e+00]\n",
      " [8.12227967e-01 0.00000000e+00]]\n",
      "[[0.         0.         0.         2.46236289 2.46236289]\n",
      " [1.21895369 1.21895369 1.21895369 0.         0.        ]]\n"
     ]
    }
   ],
   "source": [
    "print(W)\n",
    "\n",
    "print(H)"
   ]
  },
  {
   "cell_type": "code",
   "execution_count": 9,
   "metadata": {},
   "outputs": [
    {
     "name": "stdout",
     "output_type": "stream",
     "text": [
      "[[1.00000000e+00 1.00000000e+00 1.00000000e+00 9.77683851e-36\n",
      "  9.77683851e-36]\n",
      " [3.00000000e+00 3.00000000e+00 3.00000000e+00 0.00000000e+00\n",
      "  0.00000000e+00]\n",
      " [4.00000000e+00 4.00000000e+00 4.00000000e+00 3.91073541e-35\n",
      "  3.91073541e-35]\n",
      " [5.00000000e+00 5.00000000e+00 5.00000000e+00 0.00000000e+00\n",
      "  0.00000000e+00]\n",
      " [0.00000000e+00 0.00000000e+00 0.00000000e+00 4.00000000e+00\n",
      "  4.00000000e+00]\n",
      " [0.00000000e+00 0.00000000e+00 0.00000000e+00 5.00000000e+00\n",
      "  5.00000000e+00]\n",
      " [0.00000000e+00 0.00000000e+00 0.00000000e+00 2.00000000e+00\n",
      "  2.00000000e+00]]\n",
      "[[1. 1. 1. 0. 0.]\n",
      " [3. 3. 3. 0. 0.]\n",
      " [4. 4. 4. 0. 0.]\n",
      " [5. 5. 5. 0. 0.]\n",
      " [0. 0. 0. 4. 4.]\n",
      " [0. 0. 0. 5. 5.]\n",
      " [0. 0. 0. 2. 2.]]\n"
     ]
    }
   ],
   "source": [
    "# let's visualise the error incurred.\n",
    "print(np.dot(W, H))\n",
    "\n",
    "# rounding of the result\n",
    "print(np.rint(np.dot(W, H)))\n"
   ]
  }
 ],
 "metadata": {
  "kernelspec": {
   "display_name": "Python 3",
   "language": "python",
   "name": "python3"
  },
  "language_info": {
   "codemirror_mode": {
    "name": "ipython",
    "version": 3
   },
   "file_extension": ".py",
   "mimetype": "text/x-python",
   "name": "python",
   "nbconvert_exporter": "python",
   "pygments_lexer": "ipython3",
   "version": "3.12.3"
  }
 },
 "nbformat": 4,
 "nbformat_minor": 2
}
