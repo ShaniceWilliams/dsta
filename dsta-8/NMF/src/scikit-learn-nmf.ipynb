{
 "cells": [
  {
   "cell_type": "markdown",
   "metadata": {},
   "source": [
    "### DSTA\n",
    "\n",
    "Experience: apply NMF to the activity matrix from Ch. 11 of the [MMDS textbook](http://mmds.org/). "
   ]
  },
  {
   "cell_type": "code",
   "execution_count": null,
   "metadata": {},
   "outputs": [],
   "source": [
    "import numpy as np\n",
    "\n",
    "from sklearn.decomposition import NMF\n",
    "\n",
    "# constant assigned to the dimension to be introduced by factorization.\n",
    "K = 2"
   ]
  },
  {
   "cell_type": "code",
   "execution_count": null,
   "metadata": {},
   "outputs": [],
   "source": [
    "viewers = ['Joe', 'Jim', 'John', 'Jack', 'Jill', 'Jenny', 'Jane']\n",
    "\n",
    "films = ['Matrix', 'Alien', 'Star Wars', 'Casablanca', 'Titanic']\n",
    "\n",
    "ratings =  [[1, 1, 1, 0, 0],\n",
    "            [3, 3, 3, 0, 0],\n",
    "            [4, 4, 4, 0, 0],\n",
    "            [5, 5, 5, 0, 0],\n",
    "            [0, 0, 0, 4, 4],\n",
    "            [0, 0, 0, 5, 5],\n",
    "            [0, 0, 0, 2, 2]]\n",
    "\n",
    "\n",
    "\n",
    "ratings2 =  [[1, 1, 1, 0, 0],\n",
    "            [3, 3, 3, 0, 0],\n",
    "            [4, 4, 4, 0, 0],\n",
    "            [5, 5, 5, 0, 0],\n",
    "            [0, 2, 0, 4, 4],\n",
    "            [0, 0, 0, 5, 5],\n",
    "            [0, 1, 0, 2, 2]]"
   ]
  },
  {
   "cell_type": "code",
   "execution_count": null,
   "metadata": {},
   "outputs": [],
   "source": [
    "# assign as needed\n",
    "V = np.array(ratings)"
   ]
  },
  {
   "cell_type": "code",
   "execution_count": null,
   "metadata": {},
   "outputs": [],
   "source": [
    "# initialization of the Scikit machine\n",
    "model = NMF(n_components=K, init='random', random_state=0)\n",
    "\n",
    "W = model.fit_transform(V)\n",
    "\n",
    "# continuation of the previous call\n",
    "H = model.components_\n"
   ]
  },
  {
   "cell_type": "code",
   "execution_count": null,
   "metadata": {},
   "outputs": [],
   "source": [
    "print(W)\n"
   ]
  },
  {
   "cell_type": "code",
   "execution_count": null,
   "metadata": {},
   "outputs": [],
   "source": [
    "\n",
    "print(H)"
   ]
  },
  {
   "cell_type": "code",
   "execution_count": null,
   "metadata": {},
   "outputs": [],
   "source": [
    "# let's visualise the error incurred.\n",
    "print(np.dot(W, H))\n",
    "\n"
   ]
  },
  {
   "cell_type": "code",
   "execution_count": null,
   "metadata": {},
   "outputs": [],
   "source": [
    "# rounding of the result\n",
    "print(np.rint(np.dot(W, H)))"
   ]
  },
  {
   "cell_type": "markdown",
   "metadata": {},
   "source": [
    "##### Now try the same process for matrix `ratings2.`"
   ]
  }
 ],
 "metadata": {
  "kernelspec": {
   "display_name": "Python 3",
   "language": "python",
   "name": "python3"
  },
  "language_info": {
   "codemirror_mode": {
    "name": "ipython",
    "version": 3
   },
   "file_extension": ".py",
   "mimetype": "text/x-python",
   "name": "python",
   "nbconvert_exporter": "python",
   "pygments_lexer": "ipython3",
   "version": "3.12.3"
  }
 },
 "nbformat": 4,
 "nbformat_minor": 2
}
