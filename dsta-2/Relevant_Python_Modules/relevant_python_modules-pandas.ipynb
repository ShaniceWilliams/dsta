{
  "cells": [
    {
      "cell_type": "markdown",
      "id": "1249d37d-cda6-4fc0-8616-eac7790e64f2",
      "metadata": {},
      "source": [
        "# Relevant Python modules: Pandas\n",
        "\n",
        "AM\n",
        "\n",
        "## Pandas\n",
        "\n",
        "-   Created by Wes McKinney, a ‘quant’ for hedge-fund AQR.\n",
        "\n",
        "-   a library for processing tabular data, both numeric and time series.\n",
        "\n",
        "-   it provides data structures (series, dataframe) and methods for data\n",
        "    analysis.\n",
        "\n",
        "W. McKinney, **Python for Data Analysis**, 3/e. O’Reilly 2022.\n",
        "\n",
        "``` bash\n",
        "pip install pandas\n",
        "```\n",
        "\n",
        "Available by default with Anaconda.\n",
        "\n",
        "## Data Structures - Series\n",
        "\n",
        "A one-dimensional object containing values and associated labels, called\n",
        "Index.\n",
        "\n",
        "Unless we assign indices, Pandas will simply enumerate the items."
      ]
    },
    {
      "cell_type": "code",
      "execution_count": null,
      "id": "1dcbd876",
      "metadata": {},
      "outputs": [],
      "source": [
        "import numpy as np\n",
        "import pandas as pd"
      ]
    },
    {
      "cell_type": "code",
      "execution_count": null,
      "id": "8b5c9d4b",
      "metadata": {},
      "outputs": [],
      "source": [
        "# a simple series\n",
        "s1 = pd.Series([10, 20, 30, 40])\n",
        "\n",
        "s1"
      ]
    },
    {
      "cell_type": "markdown",
      "id": "890cd014-18f2-429b-8088-b1e4fe8c0a26",
      "metadata": {},
      "source": [
        "------------------------------------------------------------------------"
      ]
    },
    {
      "cell_type": "code",
      "execution_count": null,
      "id": "1169ef37",
      "metadata": {},
      "outputs": [],
      "source": [
        "# Assign explicit indices to our data\n",
        "s2 = pd.Series([10, 20, 30, 40], index = ['a', 'b', 'c', 'd'])\n",
        "\n",
        "s2"
      ]
    },
    {
      "cell_type": "code",
      "execution_count": null,
      "id": "8aceba59",
      "metadata": {},
      "outputs": [],
      "source": [
        "# Alternatively, convert a Py. dictionary into a DataFrame: \n",
        "# keys correspond to indices.\n",
        "d1 = {'a':10, 'b':20, 'c':30, 'd':40}\n",
        "\n",
        "s3 = pd.Series(d1)\n",
        "\n",
        "s3"
      ]
    },
    {
      "cell_type": "markdown",
      "id": "c99ea3e5-4ef8-4e9e-b57a-058543c07d12",
      "metadata": {},
      "source": [
        "## Data Structures - Series\n",
        "\n",
        "Use the index to select one or more specific values."
      ]
    },
    {
      "cell_type": "code",
      "execution_count": null,
      "id": "643f4798",
      "metadata": {},
      "outputs": [],
      "source": [
        "# Get the data on position 'a' of s3\n",
        "\n",
        "s3['a']"
      ]
    },
    {
      "cell_type": "code",
      "execution_count": null,
      "id": "4ae8f864",
      "metadata": {},
      "outputs": [],
      "source": [
        "# Get the data indexed 'a' and 'c' of s3\n",
        "\n",
        "s3[['a', 'c']]"
      ]
    },
    {
      "cell_type": "markdown",
      "id": "44a02481-fc89-40fc-9593-d9a8c65dcd7a",
      "metadata": {},
      "source": [
        "Filter elements"
      ]
    },
    {
      "cell_type": "code",
      "execution_count": null,
      "id": "7e4da96c",
      "metadata": {},
      "outputs": [],
      "source": [
        "# Get the data smaller than 25\n",
        "\n",
        "s3[s3<25]"
      ]
    },
    {
      "cell_type": "markdown",
      "id": "aefec843-b2b5-4455-9cda-75207a9974ab",
      "metadata": {},
      "source": [
        "------------------------------------------------------------------------\n",
        "\n",
        "apply element-wise mathematical operations…"
      ]
    },
    {
      "cell_type": "code",
      "execution_count": null,
      "id": "718b9e23",
      "metadata": {},
      "outputs": [],
      "source": [
        "# Square every element of s3\n",
        "\n",
        "s3**2"
      ]
    },
    {
      "cell_type": "markdown",
      "id": "95fef9c8-cf33-4543-b156-4caa9a204441",
      "metadata": {},
      "source": [
        "or a combination of both:"
      ]
    },
    {
      "cell_type": "code",
      "execution_count": null,
      "id": "d423dcc5",
      "metadata": {},
      "outputs": [],
      "source": [
        "# Square every element of s3 smaller than 25\n",
        "\n",
        "s3[s3<25]**2"
      ]
    },
    {
      "cell_type": "markdown",
      "id": "53f03fff-e433-45d7-946b-1170d1538319",
      "metadata": {},
      "source": [
        "## Data Structures - DataFrame\n",
        "\n",
        "DataFrames are 2D structures.\n",
        "\n",
        "Values are labelled by their index and column location."
      ]
    },
    {
      "cell_type": "code",
      "execution_count": null,
      "id": "6683cd1a",
      "metadata": {},
      "outputs": [],
      "source": [
        "# Notice how we specify columns.\n",
        "new_df = pd.DataFrame([10, 20, 30, 40], \n",
        "                      columns = ['Integers'], \n",
        "                      index = ['a', 'b', 'c', 'd'])\n",
        "\n",
        "new_df"
      ]
    },
    {
      "cell_type": "markdown",
      "id": "5da1d9cf-ed8e-4e52-b286-93a7885f9f81",
      "metadata": {},
      "source": [
        "------------------------------------------------------------------------"
      ]
    },
    {
      "cell_type": "code",
      "execution_count": null,
      "id": "4f4b7e16",
      "metadata": {},
      "outputs": [],
      "source": [
        "# Implicitly add a column.\n",
        "new_df['Floats'] = (1.5, 2.5, 3.5, 4.5)\n",
        "\n",
        "new_df"
      ]
    },
    {
      "cell_type": "markdown",
      "id": "467400c3-659f-40f0-937b-dd22ad4ac4b4",
      "metadata": {},
      "source": [
        "## Data Structures: DataFrame - `loc`\n",
        "\n",
        "Select data according to their location label."
      ]
    },
    {
      "cell_type": "code",
      "execution_count": null,
      "id": "5b9d4755",
      "metadata": {},
      "outputs": [],
      "source": [
        "# here loc slices data using index name.\n",
        "\n",
        "new_df.loc['c'] "
      ]
    },
    {
      "cell_type": "code",
      "execution_count": null,
      "id": "bd8ce754",
      "metadata": {},
      "outputs": [],
      "source": [
        "# here loc slices data using column name.\n",
        "\n",
        "new_df.loc[:, 'Integers'] #or new_df['numbers']"
      ]
    },
    {
      "cell_type": "code",
      "execution_count": null,
      "id": "91fe9f3f",
      "metadata": {},
      "outputs": [],
      "source": [
        "# here we use both index and column name.\n",
        "\n",
        "new_df.loc['c', 'Integers'] "
      ]
    },
    {
      "cell_type": "markdown",
      "id": "8faa4df3-a7da-4932-9813-176e6009183d",
      "metadata": {},
      "source": [
        "## Data Structures: DataFrame - `iloc`\n",
        "\n",
        "Select a specific slice of data according to its position."
      ]
    },
    {
      "cell_type": "code",
      "execution_count": null,
      "id": "6d60f17e",
      "metadata": {},
      "outputs": [],
      "source": [
        "# here loc slices data using index number.\n",
        "\n",
        "new_df.iloc[2] "
      ]
    },
    {
      "cell_type": "code",
      "execution_count": null,
      "id": "d5f8a2cb",
      "metadata": {},
      "outputs": [],
      "source": [
        "# here loc slices data using column number.\n",
        "\n",
        "new_df.iloc[:, 0] "
      ]
    },
    {
      "cell_type": "code",
      "execution_count": null,
      "id": "14b38657",
      "metadata": {},
      "outputs": [],
      "source": [
        "# here we use both index and column number.\n",
        "\n",
        "new_df.iloc[2, 0] "
      ]
    },
    {
      "cell_type": "markdown",
      "id": "72a1e626-d0e0-430e-b7a0-0dc0515c1acf",
      "metadata": {},
      "source": [
        "## Data Structures: DataFrame - filters\n",
        "\n",
        "Complex selection is achieved applying Boolean filters. Multiple\n",
        "conditions can be combined in one statement."
      ]
    },
    {
      "cell_type": "code",
      "execution_count": null,
      "id": "406923d3",
      "metadata": {},
      "outputs": [],
      "source": [
        "new_df[new_df['Integers']>10]"
      ]
    },
    {
      "cell_type": "markdown",
      "id": "af95a530-49cc-462c-89e9-32c2bb5482f5",
      "metadata": {},
      "source": [
        "------------------------------------------------------------------------"
      ]
    },
    {
      "cell_type": "code",
      "execution_count": null,
      "id": "f8ba8b7a",
      "metadata": {},
      "outputs": [],
      "source": [
        "# here we apply conditions to both columns.\n",
        "\n",
        "new_df[(new_df.Integers>10) & (new_df.Floats>2.5)] "
      ]
    },
    {
      "cell_type": "markdown",
      "id": "e0ced900-1c08-484f-b55b-4427221a0190",
      "metadata": {},
      "source": [
        "## Data Structures: DataFrame - `Axis`\n",
        "\n",
        "DataFrames operate on 2 dimensions.\n",
        "\n",
        "`Axis = 0` invokes functions across rows; it’s the default behaviour\n",
        "when the axis is not specified."
      ]
    },
    {
      "cell_type": "code",
      "execution_count": null,
      "id": "39242dc0",
      "metadata": {},
      "outputs": [],
      "source": [
        "new_df.sum() "
      ]
    },
    {
      "cell_type": "markdown",
      "id": "1309de4c-d433-40d7-95c5-bf8eb70cb618",
      "metadata": {},
      "source": [
        "`Axis = 1` invokes functions across columns."
      ]
    },
    {
      "cell_type": "code",
      "execution_count": null,
      "id": "535dba4c",
      "metadata": {},
      "outputs": [],
      "source": [
        "new_df.sum(axis=1) "
      ]
    },
    {
      "cell_type": "markdown",
      "id": "86969a04-d3ba-4633-97a3-90bd6e146ae8",
      "metadata": {},
      "source": [
        "## Data Structures: DataFrame - `Axis`\n",
        "\n",
        "We can mix element-wise operations with functions applied to a given\n",
        "axis\n",
        "\n",
        "Example: Create a column with the sum of squares of each row."
      ]
    },
    {
      "cell_type": "code",
      "execution_count": null,
      "id": "e6205aaf",
      "metadata": {},
      "outputs": [],
      "source": [
        "# Just one line of code!\n",
        "new_df['Sumsq'] = (new_df**2).sum(axis=1) \n",
        "\n",
        "new_df"
      ]
    },
    {
      "cell_type": "markdown",
      "id": "d107a5cc-dac1-467f-a402-cb8436141deb",
      "metadata": {},
      "source": [
        "## Importing data\n",
        "\n",
        "Read a datafile and turn it into a DataFrame. Several arguments are\n",
        "available to specify the behavior of the process:\n",
        "\n",
        "`index_col` sets the column of the csv file to be used as index of the\n",
        "DataFrame\n",
        "\n",
        "`sep` specifies the separator in the source file\n",
        "\n",
        "`parse_dates` sets the column to be converted as datetime objects\n",
        "\n",
        "``` python\n",
        "FILE = './path/to/some_file.csv'\n",
        "\n",
        "df_r = pd.read_csv(FILE, \n",
        "                    index_col = 0, \n",
        "                    sep = ';',\n",
        "                    parse_dates = ['date'] )\n",
        "```\n",
        "\n",
        "## Biostats data - `info()`\n",
        "\n",
        "The `info()` method outputs top-down information on the DataFrame"
      ]
    },
    {
      "cell_type": "code",
      "execution_count": null,
      "id": "623746b5",
      "metadata": {},
      "outputs": [],
      "source": [
        "FILE = 'data/biostats.csv'\n",
        "\n",
        "df_bio = pd.read_csv(FILE)\n",
        "\n",
        "df_bio.info()"
      ]
    },
    {
      "cell_type": "markdown",
      "id": "b9bf0457-82b0-4565-8a32-3115d5c05a13",
      "metadata": {},
      "source": [
        "## Biostats data - `head()` and `tail()`\n",
        "\n",
        "These convenient methods visualise respectively the first/last n rows\n",
        "(default = 5) in the DataFrame."
      ]
    },
    {
      "cell_type": "code",
      "execution_count": null,
      "id": "eec07a6c",
      "metadata": {},
      "outputs": [],
      "source": [
        "df_bio.head()"
      ]
    },
    {
      "cell_type": "markdown",
      "id": "4a0d4af6-667b-4851-ac4c-0ceb75610aaa",
      "metadata": {},
      "source": [
        "------------------------------------------------------------------------"
      ]
    },
    {
      "cell_type": "code",
      "execution_count": null,
      "id": "8928049e",
      "metadata": {},
      "outputs": [],
      "source": [
        "df_bio.tail()"
      ]
    },
    {
      "cell_type": "markdown",
      "id": "1f253271-edb6-4233-a37b-c6f57a1cde32",
      "metadata": {},
      "source": [
        "## Biostats data - index column\n",
        "\n",
        "Selecting the index column affects the structure of the DataFrame and\n",
        "thus information retrieval.\n",
        "\n",
        "CAUTION: the index does not have to be unique. Multiple rows could have\n",
        "the same index name."
      ]
    },
    {
      "cell_type": "code",
      "execution_count": null,
      "id": "d01ec3a1",
      "metadata": {},
      "outputs": [],
      "source": [
        "# here we set the Name column as the index\n",
        "df_bio2 = pd.read_csv(FILE, index_col=0)\n",
        "\n",
        "df_bio2.head()"
      ]
    },
    {
      "cell_type": "code",
      "execution_count": null,
      "id": "7eee1b55",
      "metadata": {},
      "outputs": [],
      "source": [
        "#It is now possible to use elements of the Name column to select an entire row\n",
        "df_bio2.loc['Bert']"
      ]
    },
    {
      "cell_type": "markdown",
      "id": "b55922a2-e787-4c41-9d44-09ab1d372b8a",
      "metadata": {},
      "source": [
        "## Descriptive statistics - `describe()`\n",
        "\n",
        "Compute the descriptive statistics of quantitative variables"
      ]
    },
    {
      "cell_type": "code",
      "execution_count": null,
      "id": "213951fe",
      "metadata": {},
      "outputs": [],
      "source": [
        "# Descriptive stats\n",
        "df_bio.describe() "
      ]
    },
    {
      "cell_type": "code",
      "execution_count": null,
      "id": "6e8fe2ad",
      "metadata": {},
      "outputs": [],
      "source": [
        "# Descriptive statistics for the Age variable\n",
        "df_bio['Age'].describe()"
      ]
    },
    {
      "cell_type": "markdown",
      "id": "b4bf59af-3903-47a5-8549-0ed338321918",
      "metadata": {},
      "source": [
        "## Descriptive statistics - categorcal variables\n",
        "\n",
        "The `value_counts()` method computes the unique values and how many\n",
        "times they occur."
      ]
    },
    {
      "cell_type": "code",
      "execution_count": null,
      "id": "e69252f0",
      "metadata": {},
      "outputs": [],
      "source": [
        "# Descriptive statistics for the entire DataFrame\n",
        "df_bio.Sex.value_counts()"
      ]
    }
  ],
  "metadata": {
    "kernelspec": {
      "display_name": "Python 3 (ipykernel)",
      "language": "python",
      "name": "python3"
    },
    "language_info": {
      "codemirror_mode": {
        "name": "ipython",
        "version": "3"
      },
      "file_extension": ".py",
      "mimetype": "text/x-python",
      "name": "python",
      "nbconvert_exporter": "python",
      "pygments_lexer": "ipython3",
      "version": "3.12.3"
    }
  },
  "nbformat": 4,
  "nbformat_minor": 5
}
