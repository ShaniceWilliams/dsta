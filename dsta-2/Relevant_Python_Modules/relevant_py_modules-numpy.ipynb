{
  "cells": [
    {
      "cell_type": "raw",
      "id": "7ebdbdde",
      "metadata": {},
      "source": [
        "---\n",
        "title: 'Relevant Python modules: Numpy'\n",
        "lang: en\n",
        "author: AM\n",
        "format:\n",
        "  html:\n",
        "    code-fold: false\n",
        "---"
      ]
    },
    {
      "cell_type": "markdown",
      "id": "17fb281f",
      "metadata": {},
      "source": [
        "## Motivations\n",
        "\n",
        "Python does not cover the data structures normally used in science and technology work.\n",
        "\n",
        "Numpy comes in to support data manipulation of n-dimensional arrays.\n",
        "\n",
        "Extensive library of functions to reshape data.\n",
        "\n",
        "Comprehensive collection of mathematical operations. \n",
        "\n",
        "```bash\n",
        "pip install numpy\n",
        "```\n",
        "\n",
        "default with Anaconda\n",
        "\n",
        "---\n",
        "\n",
        "## Arrays\n",
        "\n",
        "A computer version of vectors and matrices: sequence of uniform-type values with indexing mechanism by integers.\n",
        "\n",
        "Numpy arrays have methods, applied element-wise, and functions that take into account the position of each element in the array.\n"
      ]
    },
    {
      "cell_type": "code",
      "execution_count": 1,
      "id": "94582f4e",
      "metadata": {},
      "outputs": [],
      "source": [
        "import numpy as np"
      ]
    },
    {
      "cell_type": "code",
      "execution_count": 2,
      "id": "99abf789",
      "metadata": {},
      "outputs": [
        {
          "data": {
            "text/plain": [
              "array([ 2,  4,  6,  8, 10, 12, 14, 16, 18])"
            ]
          },
          "execution_count": 2,
          "metadata": {},
          "output_type": "execute_result"
        }
      ],
      "source": [
        "# nr from 2 to 20 (excl.) with step 2\n",
        "\n",
        "b = np.arange(2, 20, 2)\n",
        "\n",
        "b"
      ]
    },
    {
      "cell_type": "markdown",
      "id": "310dba09",
      "metadata": {},
      "source": [
        "---\n"
      ]
    },
    {
      "cell_type": "code",
      "execution_count": 3,
      "id": "6918e43e",
      "metadata": {},
      "outputs": [
        {
          "data": {
            "text/plain": [
              "array([ 4,  8, 12, 16, 20, 24, 28, 32, 36])"
            ]
          },
          "execution_count": 3,
          "metadata": {},
          "output_type": "execute_result"
        }
      ],
      "source": [
        "# element-wise operations\n",
        "\n",
        "2*b"
      ]
    },
    {
      "cell_type": "markdown",
      "id": "4a4cdee7",
      "metadata": {},
      "source": [
        "---\n"
      ]
    },
    {
      "cell_type": "code",
      "execution_count": 4,
      "id": "a000863e",
      "metadata": {},
      "outputs": [
        {
          "data": {
            "text/plain": [
              "array([ 2,  6, 12, 20, 30, 42, 56, 72, 90])"
            ]
          },
          "execution_count": 4,
          "metadata": {},
          "output_type": "execute_result"
        }
      ],
      "source": [
        "# cumulative step-by-step sum\n",
        "b.cumsum()"
      ]
    },
    {
      "cell_type": "markdown",
      "id": "08e59adf",
      "metadata": {},
      "source": [
        "---\n",
        "\n",
        "## Lists vs. Arrays\n",
        "\n",
        "Same indexing notation:\n",
        "\n",
        "```python\n",
        "mylist[0]\n",
        "\n",
        "mylistoflists[0][1]\n",
        "```\n",
        "\n",
        "A list is a generic sequence of heterogenous objects.\n",
        "\n",
        "So, strings, numbers, characters, file name, URLs can be all mixed up!\n",
        "\n",
        "An array is a sequence of strictly-homogenous objects, normally `int` or `float`\n",
        "\n",
        "```python\n",
        "myarray[1]\n",
        "\n",
        "mymatrix[1][3]\n",
        "```\n",
        "\n",
        "---\n",
        "\n",
        "## Notation\n",
        "\n",
        "1-dimension: an array (a line of numbers): `[1, 23, …]`\n",
        "\n",
        "2-dimensions: a matrix (a table of numbers) `[ [1, 23, …], [14, 96, …], ...]`\n",
        "\n",
        "3-dimensions: a tensor (a box/cube/cuboid) of numbers:  `[ [ [1, 23, …], [14, 96, …], …], ...]`\n",
        "\n",
        "---\n",
        "\n",
        "## 2-D Numpy Arrays"
      ]
    },
    {
      "cell_type": "code",
      "execution_count": 5,
      "id": "289c9448",
      "metadata": {},
      "outputs": [
        {
          "data": {
            "text/plain": [
              "array([0, 1, 2, 3, 4, 5, 6, 7])"
            ]
          },
          "execution_count": 5,
          "metadata": {},
          "output_type": "execute_result"
        }
      ],
      "source": [
        "c = np.arange(8)\n",
        "\n",
        "c"
      ]
    },
    {
      "cell_type": "code",
      "execution_count": 6,
      "id": "50a7b3ac",
      "metadata": {},
      "outputs": [
        {
          "data": {
            "text/plain": [
              "array([[ 0,  1,  2,  3,  4,  5,  6,  7],\n",
              "       [ 0,  2,  4,  6,  8, 10, 12, 14]])"
            ]
          },
          "execution_count": 6,
          "metadata": {},
          "output_type": "execute_result"
        }
      ],
      "source": [
        "# build a 2-dimensional array from a 1-d one\n",
        "d = np.array([c, c*2])\n",
        "\n",
        "d"
      ]
    },
    {
      "cell_type": "code",
      "execution_count": 7,
      "id": "fb5f3f35",
      "metadata": {},
      "outputs": [
        {
          "data": {
            "text/plain": [
              "16"
            ]
          },
          "execution_count": 7,
          "metadata": {},
          "output_type": "execute_result"
        }
      ],
      "source": [
        "# count elements\n",
        "\n",
        "d.size"
      ]
    },
    {
      "cell_type": "code",
      "execution_count": 8,
      "id": "5657098e",
      "metadata": {},
      "outputs": [
        {
          "data": {
            "text/plain": [
              "(2, 8)"
            ]
          },
          "execution_count": 8,
          "metadata": {},
          "output_type": "execute_result"
        }
      ],
      "source": [
        "#  size along each dimension\n",
        "\n",
        "d.shape"
      ]
    },
    {
      "cell_type": "markdown",
      "id": "3920df40",
      "metadata": {},
      "source": [
        "---\n",
        "\n",
        "## Axes\n",
        "\n",
        "Numpy arrays can have multiple dimensions.\n",
        "\n",
        "Unlike Pandas, not specifying the axis will apply a function to the entire array.\n"
      ]
    },
    {
      "cell_type": "code",
      "execution_count": 9,
      "id": "9e790864",
      "metadata": {},
      "outputs": [
        {
          "data": {
            "text/plain": [
              "array([[ 0,  1,  2,  3,  4,  5,  6,  7],\n",
              "       [ 0,  2,  4,  6,  8, 10, 12, 14]])"
            ]
          },
          "execution_count": 9,
          "metadata": {},
          "output_type": "execute_result"
        }
      ],
      "source": [
        "# operations along columns\n",
        "d"
      ]
    },
    {
      "cell_type": "code",
      "execution_count": 10,
      "id": "d86b1369",
      "metadata": {},
      "outputs": [
        {
          "data": {
            "text/plain": [
              "array([ 0,  3,  6,  9, 12, 15, 18, 21])"
            ]
          },
          "execution_count": 10,
          "metadata": {},
          "output_type": "execute_result"
        }
      ],
      "source": [
        "# operations along columns\n",
        "d.sum(axis=0)"
      ]
    },
    {
      "cell_type": "code",
      "execution_count": 11,
      "id": "e92c0dd3",
      "metadata": {},
      "outputs": [
        {
          "data": {
            "text/plain": [
              "array([28, 56])"
            ]
          },
          "execution_count": 11,
          "metadata": {},
          "output_type": "execute_result"
        }
      ],
      "source": [
        "# summing by row\n",
        "\n",
        "d.sum(axis=1)"
      ]
    },
    {
      "cell_type": "code",
      "execution_count": 12,
      "id": "865c0668",
      "metadata": {},
      "outputs": [
        {
          "data": {
            "text/plain": [
              "84"
            ]
          },
          "execution_count": 12,
          "metadata": {},
          "output_type": "execute_result"
        }
      ],
      "source": [
        "# sum the whole content\n",
        "\n",
        "d.sum()"
      ]
    },
    {
      "cell_type": "markdown",
      "id": "4aebcf37",
      "metadata": {},
      "source": [
        "---\n",
        "\n",
        "## Shapes\n",
        "\n",
        "Using information about the shape we can create/manipulate (or reshape, or transpose) Numpy variables.\n"
      ]
    },
    {
      "cell_type": "code",
      "execution_count": 13,
      "id": "9e0f4b10",
      "metadata": {},
      "outputs": [
        {
          "data": {
            "text/plain": [
              "array([[0, 0, 0],\n",
              "       [0, 0, 0]], dtype=int32)"
            ]
          },
          "execution_count": 13,
          "metadata": {},
          "output_type": "execute_result"
        }
      ],
      "source": [
        "# Create 2x3 Numpy array and initialise it to 0s\n",
        "\n",
        "e = np.zeros((2, 3), dtype = 'i')\n",
        "e"
      ]
    },
    {
      "cell_type": "code",
      "execution_count": 14,
      "id": "c6280e61",
      "metadata": {},
      "outputs": [
        {
          "data": {
            "text/plain": [
              "array([[0, 0],\n",
              "       [0, 0],\n",
              "       [0, 0]], dtype=int32)"
            ]
          },
          "execution_count": 14,
          "metadata": {},
          "output_type": "execute_result"
        }
      ],
      "source": [
        "# Change the shape\n",
        "\n",
        "e.reshape(3, 2)"
      ]
    },
    {
      "cell_type": "code",
      "execution_count": 15,
      "id": "97716e6c",
      "metadata": {},
      "outputs": [
        {
          "data": {
            "text/plain": [
              "array([[1, 1, 1],\n",
              "       [1, 1, 1]], dtype=int32)"
            ]
          },
          "execution_count": 15,
          "metadata": {},
          "output_type": "execute_result"
        }
      ],
      "source": [
        "# Take another array to infer shape\n",
        "\n",
        "f = np.ones_like(e, dtype = 'i')\n",
        "f"
      ]
    },
    {
      "cell_type": "code",
      "execution_count": 16,
      "id": "7d169590",
      "metadata": {},
      "outputs": [
        {
          "data": {
            "text/plain": [
              "array([[1, 1],\n",
              "       [1, 1],\n",
              "       [1, 1]], dtype=int32)"
            ]
          },
          "execution_count": 16,
          "metadata": {},
          "output_type": "execute_result"
        }
      ],
      "source": [
        "# Transposition\n",
        "\n",
        "f.T"
      ]
    },
    {
      "cell_type": "markdown",
      "id": "bc7c4d33",
      "metadata": {},
      "source": [
        "---\n",
        "\n",
        "## Stacking\n",
        "\n",
        "2-D arrays with the same dimensions can be merged \n"
      ]
    },
    {
      "cell_type": "code",
      "execution_count": 17,
      "id": "50f22aa4",
      "metadata": {},
      "outputs": [
        {
          "data": {
            "text/plain": [
              "array([[1., 0., 0., 0., 0.],\n",
              "       [0., 1., 0., 0., 0.],\n",
              "       [0., 0., 1., 0., 0.],\n",
              "       [0., 0., 0., 1., 0.],\n",
              "       [0., 0., 0., 0., 1.]])"
            ]
          },
          "execution_count": 17,
          "metadata": {},
          "output_type": "execute_result"
        }
      ],
      "source": [
        "# Create an idendtity matrix of order 5\n",
        "\n",
        "i = np.eye(5)\n",
        "\n",
        "i"
      ]
    },
    {
      "cell_type": "code",
      "execution_count": 18,
      "id": "dff789f7",
      "metadata": {},
      "outputs": [
        {
          "data": {
            "text/plain": [
              "array([[1., 0., 0., 0., 0.],\n",
              "       [0., 1., 0., 0., 0.],\n",
              "       [0., 0., 1., 0., 0.],\n",
              "       [0., 0., 0., 1., 0.],\n",
              "       [0., 0., 0., 0., 1.],\n",
              "       [1., 0., 0., 0., 0.],\n",
              "       [0., 1., 0., 0., 0.],\n",
              "       [0., 0., 1., 0., 0.],\n",
              "       [0., 0., 0., 1., 0.],\n",
              "       [0., 0., 0., 0., 1.]])"
            ]
          },
          "execution_count": 18,
          "metadata": {},
          "output_type": "execute_result"
        }
      ],
      "source": [
        "# stacking combines two 2-d arrays: vertically\n",
        "\n",
        "np.vstack((i, i))"
      ]
    },
    {
      "cell_type": "code",
      "execution_count": 19,
      "id": "17c0620c",
      "metadata": {},
      "outputs": [
        {
          "data": {
            "text/plain": [
              "array([[1., 0., 0., 0., 0., 1., 0., 0., 0., 0.],\n",
              "       [0., 1., 0., 0., 0., 0., 1., 0., 0., 0.],\n",
              "       [0., 0., 1., 0., 0., 0., 0., 1., 0., 0.],\n",
              "       [0., 0., 0., 1., 0., 0., 0., 0., 1., 0.],\n",
              "       [0., 0., 0., 0., 1., 0., 0., 0., 0., 1.]])"
            ]
          },
          "execution_count": 19,
          "metadata": {},
          "output_type": "execute_result"
        }
      ],
      "source": [
        "# stacking combines two 2-d arrays: horizontally\n",
        "\n",
        "np.hstack((i, i))"
      ]
    },
    {
      "cell_type": "markdown",
      "id": "7e78bd6a",
      "metadata": {},
      "source": [
        "---\n",
        "\n",
        "## Detour: N-dimensional arrays\n",
        "\n",
        "Numpy can handle multiple dimensions.\n",
        "\n",
        "This is useful when dealing with multivariate data, from time series to documents.\n"
      ]
    },
    {
      "cell_type": "code",
      "execution_count": 20,
      "id": "5cd161f8",
      "metadata": {},
      "outputs": [
        {
          "data": {
            "text/plain": [
              "array([[[0., 0., 0., 0.],\n",
              "        [0., 0., 0., 0.],\n",
              "        [0., 0., 0., 0.]],\n",
              "\n",
              "       [[0., 0., 0., 0.],\n",
              "        [0., 0., 0., 0.],\n",
              "        [0., 0., 0., 0.]]])"
            ]
          },
          "execution_count": 20,
          "metadata": {},
          "output_type": "execute_result"
        }
      ],
      "source": [
        "# N-dimensional array\n",
        "\n",
        "g = np.zeros((2, 3, 4))\n",
        "\n",
        "g"
      ]
    },
    {
      "cell_type": "markdown",
      "id": "fdfe735c",
      "metadata": {},
      "source": [
        "Two samples, each with three rows and four columns.\n",
        "\n",
        "---\n",
        "\n",
        "## Slicing by Boolean filters\n",
        "\n",
        "Data can be selected according to specific conditions.\n",
        "\n",
        "The Boolean filter itself can be represented by a Numpy array\n"
      ]
    },
    {
      "cell_type": "code",
      "execution_count": 22,
      "id": "767b8f89",
      "metadata": {},
      "outputs": [],
      "source": [
        "l = np.array([np.arange(9)])"
      ]
    },
    {
      "cell_type": "code",
      "execution_count": 25,
      "id": "46225481",
      "metadata": {},
      "outputs": [
        {
          "data": {
            "text/plain": [
              "array([5, 6, 7, 8])"
            ]
          },
          "execution_count": 25,
          "metadata": {},
          "output_type": "execute_result"
        }
      ],
      "source": [
        "# Let's apply a high-pass filter\n",
        "\n",
        "l[l>4]"
      ]
    },
    {
      "cell_type": "code",
      "execution_count": 26,
      "id": "73618f94",
      "metadata": {},
      "outputs": [
        {
          "data": {
            "text/plain": [
              "array([[0, 0, 0, 0, 0, 1, 1, 1, 1]])"
            ]
          },
          "execution_count": 26,
          "metadata": {},
          "output_type": "execute_result"
        }
      ],
      "source": [
        "# Generate a Boolean array (False=0, True=1)\n",
        "\n",
        "(l>4).astype(int)"
      ]
    },
    {
      "cell_type": "markdown",
      "id": "d923f744",
      "metadata": {},
      "source": [
        "---\n",
        "\n",
        "## From Numpy to Pandas: where()\n",
        "\n",
        "Even though Pandas is built on Numpy, `where()` has a distinct semantics\n",
        "\n",
        "In Numpy we can specify the action associated to True and false, respectively.\n"
      ]
    },
    {
      "cell_type": "code",
      "execution_count": 27,
      "id": "952fe263",
      "metadata": {},
      "outputs": [
        {
          "data": {
            "text/plain": [
              "array([[0, 1, 2, 3, 4, 5, 6, 7, 8]])"
            ]
          },
          "execution_count": 27,
          "metadata": {},
          "output_type": "execute_result"
        }
      ],
      "source": [
        "l = np.array([np.arange(9)]) #here we create a 1D array\n",
        "\n",
        "l"
      ]
    },
    {
      "cell_type": "code",
      "execution_count": 28,
      "id": "2e88ee87",
      "metadata": {},
      "outputs": [
        {
          "data": {
            "text/plain": [
              "array([[0, 1, 2],\n",
              "       [3, 4, 5],\n",
              "       [6, 7, 8]])"
            ]
          },
          "execution_count": 28,
          "metadata": {},
          "output_type": "execute_result"
        }
      ],
      "source": [
        "l = l.reshape((3, 3)) #now we reshape it into a matrix\n",
        "\n",
        "l"
      ]
    },
    {
      "cell_type": "code",
      "execution_count": 29,
      "id": "2c36760d",
      "metadata": {},
      "outputs": [
        {
          "data": {
            "text/plain": [
              "array([[0. , 2. , 4. ],\n",
              "       [6. , 8. , 2.5],\n",
              "       [3. , 3.5, 4. ]])"
            ]
          },
          "execution_count": 29,
          "metadata": {},
          "output_type": "execute_result"
        }
      ],
      "source": [
        "#  If True then make it double, else halve it\n",
        "\n",
        "np.where(l<5, l*2, l/2)"
      ]
    },
    {
      "cell_type": "markdown",
      "id": "974d7d9a",
      "metadata": {},
      "source": [
        "In Pandas, when False we assign `n/a`\n",
        "\n",
        "---\n",
        "\n",
        "## Numpy func. to Pandas objects\n"
      ]
    },
    {
      "cell_type": "code",
      "execution_count": 30,
      "id": "8e57921c",
      "metadata": {},
      "outputs": [
        {
          "data": {
            "text/html": [
              "<div>\n",
              "<style scoped>\n",
              "    .dataframe tbody tr th:only-of-type {\n",
              "        vertical-align: middle;\n",
              "    }\n",
              "\n",
              "    .dataframe tbody tr th {\n",
              "        vertical-align: top;\n",
              "    }\n",
              "\n",
              "    .dataframe thead th {\n",
              "        text-align: right;\n",
              "    }\n",
              "</style>\n",
              "<table border=\"1\" class=\"dataframe\">\n",
              "  <thead>\n",
              "    <tr style=\"text-align: right;\">\n",
              "      <th></th>\n",
              "      <th>A</th>\n",
              "      <th>B</th>\n",
              "      <th>C</th>\n",
              "    </tr>\n",
              "  </thead>\n",
              "  <tbody>\n",
              "    <tr>\n",
              "      <th>0</th>\n",
              "      <td>0</td>\n",
              "      <td>1</td>\n",
              "      <td>2</td>\n",
              "    </tr>\n",
              "    <tr>\n",
              "      <th>1</th>\n",
              "      <td>3</td>\n",
              "      <td>4</td>\n",
              "      <td>5</td>\n",
              "    </tr>\n",
              "    <tr>\n",
              "      <th>2</th>\n",
              "      <td>6</td>\n",
              "      <td>7</td>\n",
              "      <td>8</td>\n",
              "    </tr>\n",
              "  </tbody>\n",
              "</table>\n",
              "</div>"
            ],
            "text/plain": [
              "   A  B  C\n",
              "0  0  1  2\n",
              "1  3  4  5\n",
              "2  6  7  8"
            ]
          },
          "execution_count": 30,
          "metadata": {},
          "output_type": "execute_result"
        }
      ],
      "source": [
        "import pandas as pd\n",
        "\n",
        "# l is a Numpy matrix which readily interoperates with Pandas\n",
        "my_df = pd.DataFrame(l, columns=['A', 'B', 'C'])\n",
        "\n",
        "my_df"
      ]
    },
    {
      "cell_type": "code",
      "execution_count": 31,
      "id": "e9fa64f2",
      "metadata": {},
      "outputs": [
        {
          "data": {
            "text/plain": [
              "0    1.000000\n",
              "1    2.000000\n",
              "2    2.645751\n",
              "Name: B, dtype: float64"
            ]
          },
          "execution_count": 31,
          "metadata": {},
          "output_type": "execute_result"
        }
      ],
      "source": [
        "# Extract the square root of each el. of column B (NB: my_df remains unchanged)\n",
        "\n",
        "np.sqrt(my_df.B) "
      ]
    },
    {
      "cell_type": "markdown",
      "id": "168fe0b9",
      "metadata": {},
      "source": [
        "---\n",
        "\n",
        "## Back and Forth b/w Pandas and Numpy\n"
      ]
    },
    {
      "cell_type": "code",
      "execution_count": 32,
      "id": "490f92f6",
      "metadata": {},
      "outputs": [
        {
          "data": {
            "text/plain": [
              "array([[0, 1, 2],\n",
              "       [3, 4, 5],\n",
              "       [6, 7, 8]])"
            ]
          },
          "execution_count": 32,
          "metadata": {},
          "output_type": "execute_result"
        }
      ],
      "source": [
        "# Extract the values back into a Numpy object\n",
        "\n",
        "m = my_df.values\n",
        "\n",
        "m"
      ]
    },
    {
      "cell_type": "markdown",
      "id": "d0485122",
      "metadata": {},
      "source": [
        "<!------------------------------------------------------------->"
      ]
    }
  ],
  "metadata": {
    "kernelspec": {
      "display_name": "Python 3 (ipykernel)",
      "language": "python",
      "name": "python3"
    },
    "language_info": {
      "codemirror_mode": {
        "name": "ipython",
        "version": 3
      },
      "file_extension": ".py",
      "mimetype": "text/x-python",
      "name": "python",
      "nbconvert_exporter": "python",
      "pygments_lexer": "ipython3",
      "version": "3.11.4"
    }
  },
  "nbformat": 4,
  "nbformat_minor": 5
}
