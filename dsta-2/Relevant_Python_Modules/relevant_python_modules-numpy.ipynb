{
  "cells": [
    {
      "cell_type": "markdown",
      "metadata": {},
      "source": [
        "# Relevant Python modules: Numpy\n",
        "\n",
        "AM\n",
        "\n",
        "## Motivations\n",
        "\n",
        "Python does not cover the data structures normally used in science and\n",
        "technology work.\n",
        "\n",
        "Numpy comes in to support data manipulation of n-dimensional arrays.\n",
        "\n",
        "Extensive library of functions to reshape data.\n",
        "\n",
        "Comprehensive collection of mathematical operations.\n",
        "\n",
        "``` bash\n",
        "pip install numpy\n",
        "```\n",
        "\n",
        "default with Anaconda\n",
        "\n",
        "------------------------------------------------------------------------\n",
        "\n",
        "## Arrays\n",
        "\n",
        "A computer version of vectors and matrices: sequence of uniform-type\n",
        "values with indexing mechanism by integers.\n",
        "\n",
        "Numpy arrays have methods, applied element-wise, and functions that take\n",
        "into account the position of each element in the array."
      ],
      "id": "b34b823c-68b1-44df-abd1-023300ec5611"
    },
    {
      "cell_type": "code",
      "execution_count": 1,
      "metadata": {},
      "outputs": [],
      "source": [
        "import numpy as np"
      ],
      "id": "b17c5a05"
    },
    {
      "cell_type": "code",
      "execution_count": 2,
      "metadata": {},
      "outputs": [
        {
          "output_type": "display_data",
          "metadata": {},
          "data": {
            "text/plain": [
              "array([ 2,  4,  6,  8, 10, 12, 14, 16, 18])"
            ]
          }
        }
      ],
      "source": [
        "# nr from 2 to 20 (excl.) with step 2\n",
        "\n",
        "b = np.arange(2, 20, 2)\n",
        "\n",
        "b"
      ],
      "id": "bfdfb1a6"
    },
    {
      "cell_type": "markdown",
      "metadata": {},
      "source": [
        "------------------------------------------------------------------------"
      ],
      "id": "04963fba-1126-4042-a278-acadcffd6d4c"
    },
    {
      "cell_type": "code",
      "execution_count": 3,
      "metadata": {},
      "outputs": [
        {
          "output_type": "display_data",
          "metadata": {},
          "data": {
            "text/plain": [
              "array([ 4,  8, 12, 16, 20, 24, 28, 32, 36])"
            ]
          }
        }
      ],
      "source": [
        "# element-wise operations\n",
        "\n",
        "2*b"
      ],
      "id": "694ac03f"
    },
    {
      "cell_type": "markdown",
      "metadata": {},
      "source": [
        "------------------------------------------------------------------------"
      ],
      "id": "da62bfea-aeb4-4d99-8f15-96311afbb73d"
    },
    {
      "cell_type": "code",
      "execution_count": 4,
      "metadata": {},
      "outputs": [
        {
          "output_type": "display_data",
          "metadata": {},
          "data": {
            "text/plain": [
              "array([ 2,  6, 12, 20, 30, 42, 56, 72, 90])"
            ]
          }
        }
      ],
      "source": [
        "# cumulative step-by-step sum\n",
        "b.cumsum()"
      ],
      "id": "b9ff64ef"
    },
    {
      "cell_type": "markdown",
      "metadata": {},
      "source": [
        "------------------------------------------------------------------------\n",
        "\n",
        "## Lists vs. Arrays\n",
        "\n",
        "Same indexing notation:\n",
        "\n",
        "``` python\n",
        "mylist[0]\n",
        "\n",
        "mylistoflists[0][1]\n",
        "```\n",
        "\n",
        "A list is a generic sequence of heterogenous objects.\n",
        "\n",
        "So, strings, numbers, characters, file name, URLs can be all mixed up!\n",
        "\n",
        "An array is a sequence of strictly-homogenous objects, normally `int` or\n",
        "`float`\n",
        "\n",
        "``` python\n",
        "myarray[1]\n",
        "\n",
        "mymatrix[1][3]\n",
        "```\n",
        "\n",
        "------------------------------------------------------------------------\n",
        "\n",
        "## Notation\n",
        "\n",
        "1-dimension: an array (a line of numbers): `[1, 23, …]`\n",
        "\n",
        "2-dimensions: a matrix (a table of numbers)\n",
        "`[ [1, 23, …], [14, 96, …], ...]`\n",
        "\n",
        "3-dimensions: a tensor (a box/cube/cuboid) of numbers:\n",
        "`[ [ [1, 23, …], [14, 96, …], …], ...]`\n",
        "\n",
        "------------------------------------------------------------------------\n",
        "\n",
        "## 2-D Numpy Arrays"
      ],
      "id": "1e101b97-58e7-48ec-8520-97ad6321e6c6"
    },
    {
      "cell_type": "code",
      "execution_count": 5,
      "metadata": {},
      "outputs": [
        {
          "output_type": "display_data",
          "metadata": {},
          "data": {
            "text/plain": [
              "array([0, 1, 2, 3, 4, 5, 6, 7])"
            ]
          }
        }
      ],
      "source": [
        "c = np.arange(8)\n",
        "\n",
        "c"
      ],
      "id": "4e0e19fd"
    },
    {
      "cell_type": "code",
      "execution_count": 6,
      "metadata": {},
      "outputs": [
        {
          "output_type": "display_data",
          "metadata": {},
          "data": {
            "text/plain": [
              "array([[ 0,  1,  2,  3,  4,  5,  6,  7],\n",
              "       [ 0,  2,  4,  6,  8, 10, 12, 14]])"
            ]
          }
        }
      ],
      "source": [
        "# build a 2-dimensional array from a 1-d one\n",
        "d = np.array([c, c*2])\n",
        "\n",
        "d"
      ],
      "id": "f57d8b57"
    },
    {
      "cell_type": "code",
      "execution_count": 7,
      "metadata": {},
      "outputs": [
        {
          "output_type": "display_data",
          "metadata": {},
          "data": {
            "text/plain": [
              "16"
            ]
          }
        }
      ],
      "source": [
        "# count elements\n",
        "\n",
        "d.size"
      ],
      "id": "fbf45acd"
    },
    {
      "cell_type": "code",
      "execution_count": 8,
      "metadata": {},
      "outputs": [
        {
          "output_type": "display_data",
          "metadata": {},
          "data": {
            "text/plain": [
              "(2, 8)"
            ]
          }
        }
      ],
      "source": [
        "#  size along each dimension\n",
        "\n",
        "d.shape"
      ],
      "id": "afe5b940"
    },
    {
      "cell_type": "markdown",
      "metadata": {},
      "source": [
        "------------------------------------------------------------------------\n",
        "\n",
        "## Axes\n",
        "\n",
        "Numpy arrays can have multiple dimensions.\n",
        "\n",
        "Unlike Pandas, not specifying the axis will apply a function to the\n",
        "entire array."
      ],
      "id": "ea0ad558-2e1f-4dfa-99c2-774d073f1124"
    },
    {
      "cell_type": "code",
      "execution_count": 9,
      "metadata": {},
      "outputs": [
        {
          "output_type": "display_data",
          "metadata": {},
          "data": {
            "text/plain": [
              "array([[ 0,  1,  2,  3,  4,  5,  6,  7],\n",
              "       [ 0,  2,  4,  6,  8, 10, 12, 14]])"
            ]
          }
        }
      ],
      "source": [
        "# operations along columns\n",
        "d"
      ],
      "id": "5355c009"
    },
    {
      "cell_type": "code",
      "execution_count": 10,
      "metadata": {},
      "outputs": [
        {
          "output_type": "display_data",
          "metadata": {},
          "data": {
            "text/plain": [
              "array([ 0,  3,  6,  9, 12, 15, 18, 21])"
            ]
          }
        }
      ],
      "source": [
        "# operations along columns\n",
        "d.sum(axis=0)"
      ],
      "id": "c9ea3680"
    },
    {
      "cell_type": "code",
      "execution_count": 11,
      "metadata": {},
      "outputs": [
        {
          "output_type": "display_data",
          "metadata": {},
          "data": {
            "text/plain": [
              "array([28, 56])"
            ]
          }
        }
      ],
      "source": [
        "# summing by row\n",
        "d.sum(axis=1)"
      ],
      "id": "8bd41a8b"
    },
    {
      "cell_type": "code",
      "execution_count": 12,
      "metadata": {},
      "outputs": [
        {
          "output_type": "display_data",
          "metadata": {},
          "data": {
            "text/plain": [
              "84"
            ]
          }
        }
      ],
      "source": [
        "# sum the whole content\n",
        "d.sum()"
      ],
      "id": "0806c546"
    },
    {
      "cell_type": "markdown",
      "metadata": {},
      "source": [
        "------------------------------------------------------------------------\n",
        "\n",
        "## Shapes\n",
        "\n",
        "Using information about the shape we can create/manipulate (or reshape,\n",
        "or transpose) Numpy variables."
      ],
      "id": "4757fc46-86c1-4ec5-8956-2b44aa3a3581"
    },
    {
      "cell_type": "code",
      "execution_count": 13,
      "metadata": {},
      "outputs": [
        {
          "output_type": "display_data",
          "metadata": {},
          "data": {
            "text/plain": [
              "array([[0, 0, 0],\n",
              "       [0, 0, 0]], dtype=int32)"
            ]
          }
        }
      ],
      "source": [
        "# Create 2x3 Numpy array and initialise it to 0s\n",
        "e = np.zeros((2, 3), dtype = 'i')\n",
        "\n",
        "e"
      ],
      "id": "98a11c30"
    },
    {
      "cell_type": "code",
      "execution_count": 14,
      "metadata": {},
      "outputs": [
        {
          "output_type": "display_data",
          "metadata": {},
          "data": {
            "text/plain": [
              "array([[0, 0],\n",
              "       [0, 0],\n",
              "       [0, 0]], dtype=int32)"
            ]
          }
        }
      ],
      "source": [
        "# Change the shape\n",
        "e.reshape(3, 2)"
      ],
      "id": "03505ae1"
    },
    {
      "cell_type": "markdown",
      "metadata": {},
      "source": [
        "------------------------------------------------------------------------"
      ],
      "id": "1186c944-ceb8-45b2-90db-d7d5e546d4b2"
    },
    {
      "cell_type": "code",
      "execution_count": 15,
      "metadata": {},
      "outputs": [
        {
          "output_type": "display_data",
          "metadata": {},
          "data": {
            "text/plain": [
              "array([[1, 1, 1],\n",
              "       [1, 1, 1]], dtype=int32)"
            ]
          }
        }
      ],
      "source": [
        "# Take another array to infer shape\n",
        "f = np.ones_like(e, dtype = 'i')\n",
        "\n",
        "f"
      ],
      "id": "b88888e1"
    },
    {
      "cell_type": "code",
      "execution_count": 16,
      "metadata": {},
      "outputs": [
        {
          "output_type": "display_data",
          "metadata": {},
          "data": {
            "text/plain": [
              "array([[1, 1],\n",
              "       [1, 1],\n",
              "       [1, 1]], dtype=int32)"
            ]
          }
        }
      ],
      "source": [
        "# Transposition\n",
        "\n",
        "f.T"
      ],
      "id": "c47c1e56"
    },
    {
      "cell_type": "markdown",
      "metadata": {},
      "source": [
        "------------------------------------------------------------------------\n",
        "\n",
        "## Stacking\n",
        "\n",
        "2-D arrays with the same dimensions can be merged"
      ],
      "id": "12a9c508-bf3b-415b-8ff8-5112f334b204"
    },
    {
      "cell_type": "code",
      "execution_count": 17,
      "metadata": {},
      "outputs": [
        {
          "output_type": "display_data",
          "metadata": {},
          "data": {
            "text/plain": [
              "array([[1., 0., 0., 0., 0.],\n",
              "       [0., 1., 0., 0., 0.],\n",
              "       [0., 0., 1., 0., 0.],\n",
              "       [0., 0., 0., 1., 0.],\n",
              "       [0., 0., 0., 0., 1.]])"
            ]
          }
        }
      ],
      "source": [
        "# Create an identity matrix of order 5\n",
        "i = np.eye(5)\n",
        "\n",
        "i"
      ],
      "id": "d8a333d9"
    },
    {
      "cell_type": "code",
      "execution_count": 18,
      "metadata": {},
      "outputs": [
        {
          "output_type": "display_data",
          "metadata": {},
          "data": {
            "text/plain": [
              "array([[1., 0., 0., 0., 0.],\n",
              "       [0., 1., 0., 0., 0.],\n",
              "       [0., 0., 1., 0., 0.],\n",
              "       [0., 0., 0., 1., 0.],\n",
              "       [0., 0., 0., 0., 1.],\n",
              "       [1., 0., 0., 0., 0.],\n",
              "       [0., 1., 0., 0., 0.],\n",
              "       [0., 0., 1., 0., 0.],\n",
              "       [0., 0., 0., 1., 0.],\n",
              "       [0., 0., 0., 0., 1.]])"
            ]
          }
        }
      ],
      "source": [
        "# stacking combines two 2-d arrays: vertically\n",
        "np.vstack((i, i))"
      ],
      "id": "34ae307b"
    },
    {
      "cell_type": "markdown",
      "metadata": {},
      "source": [
        "------------------------------------------------------------------------"
      ],
      "id": "c3d8808a-7dd7-4176-a9c5-da2320213309"
    },
    {
      "cell_type": "code",
      "execution_count": 19,
      "metadata": {},
      "outputs": [
        {
          "output_type": "display_data",
          "metadata": {},
          "data": {
            "text/plain": [
              "array([[1., 0., 0., 0., 0., 1., 0., 0., 0., 0.],\n",
              "       [0., 1., 0., 0., 0., 0., 1., 0., 0., 0.],\n",
              "       [0., 0., 1., 0., 0., 0., 0., 1., 0., 0.],\n",
              "       [0., 0., 0., 1., 0., 0., 0., 0., 1., 0.],\n",
              "       [0., 0., 0., 0., 1., 0., 0., 0., 0., 1.]])"
            ]
          }
        }
      ],
      "source": [
        "# stacking combines two 2-d arrays: horizontally\n",
        "np.hstack((i, i))"
      ],
      "id": "03c3cbb7"
    },
    {
      "cell_type": "markdown",
      "metadata": {},
      "source": [
        "------------------------------------------------------------------------\n",
        "\n",
        "## Detour: N-dimensional arrays\n",
        "\n",
        "Numpy can handle multiple dimensions.\n",
        "\n",
        "This is useful when dealing with multivariate data, from time series to\n",
        "documents."
      ],
      "id": "8dcaa6a1-a009-486f-bc6d-254bc726444d"
    },
    {
      "cell_type": "code",
      "execution_count": 20,
      "metadata": {},
      "outputs": [
        {
          "output_type": "display_data",
          "metadata": {},
          "data": {
            "text/plain": [
              "array([[[0., 0., 0., 0.],\n",
              "        [0., 0., 0., 0.],\n",
              "        [0., 0., 0., 0.]],\n",
              "\n",
              "       [[0., 0., 0., 0.],\n",
              "        [0., 0., 0., 0.],\n",
              "        [0., 0., 0., 0.]]])"
            ]
          }
        }
      ],
      "source": [
        "# N-dimensional array\n",
        "\n",
        "g = np.zeros((2, 3, 4))\n",
        "\n",
        "g"
      ],
      "id": "47046ed7"
    },
    {
      "cell_type": "markdown",
      "metadata": {},
      "source": [
        "Two samples, each with three rows and four columns.\n",
        "\n",
        "------------------------------------------------------------------------\n",
        "\n",
        "## Slicing by Boolean filters\n",
        "\n",
        "Data can be selected according to specific conditions.\n",
        "\n",
        "The Boolean filter itself can be represented by a Numpy array"
      ],
      "id": "4ac6518f-146b-40ff-a480-b1710814d5dd"
    },
    {
      "cell_type": "code",
      "execution_count": 21,
      "metadata": {},
      "outputs": [
        {
          "output_type": "display_data",
          "metadata": {},
          "data": {
            "text/plain": [
              "array([[0, 1, 2, 3, 4, 5, 6, 7, 8]])"
            ]
          }
        }
      ],
      "source": [
        "l = np.array([np.arange(9)])\n",
        "\n",
        "l.reshape((3, 3))\n",
        "\n",
        "l"
      ],
      "id": "2f0c3699"
    },
    {
      "cell_type": "code",
      "execution_count": 22,
      "metadata": {},
      "outputs": [
        {
          "output_type": "display_data",
          "metadata": {},
          "data": {
            "text/plain": [
              "array([5, 6, 7, 8])"
            ]
          }
        }
      ],
      "source": [
        "# Let's apply a high-pass filter\n",
        "\n",
        "l[l>4]"
      ],
      "id": "501bb31f"
    },
    {
      "cell_type": "code",
      "execution_count": 23,
      "metadata": {},
      "outputs": [
        {
          "output_type": "display_data",
          "metadata": {},
          "data": {
            "text/plain": [
              "array([[0, 0, 0, 0, 0, 1, 1, 1, 1]])"
            ]
          }
        }
      ],
      "source": [
        "# Generate a Boolean array (False=0, True=1)\n",
        "\n",
        "(l>4).astype(int)"
      ],
      "id": "4409b654"
    },
    {
      "cell_type": "markdown",
      "metadata": {},
      "source": [
        "------------------------------------------------------------------------\n",
        "\n",
        "## From Numpy to Pandas: `where()`\n",
        "\n",
        "Even though Pandas is built on Numpy, `where()` has a distinct semantics\n",
        "\n",
        "Numpy allows specifying the respective action associated to `True` and\n",
        "`False`"
      ],
      "id": "08cc220e-bf82-47c9-ac15-29b37f7c0a2b"
    },
    {
      "cell_type": "code",
      "execution_count": 24,
      "metadata": {},
      "outputs": [
        {
          "output_type": "display_data",
          "metadata": {},
          "data": {
            "text/plain": [
              "array([[0, 1, 2],\n",
              "       [3, 4, 5],\n",
              "       [6, 7, 8]])"
            ]
          }
        }
      ],
      "source": [
        "l = np.array([np.arange(9)])\n",
        "\n",
        "l = l.reshape((3, 3))\n",
        "\n",
        "l"
      ],
      "id": "12372b3b"
    },
    {
      "cell_type": "code",
      "execution_count": 25,
      "metadata": {},
      "outputs": [
        {
          "output_type": "display_data",
          "metadata": {},
          "data": {
            "text/plain": [
              "array([[0. , 2. , 4. ],\n",
              "       [6. , 8. , 2.5],\n",
              "       [3. , 3.5, 4. ]])"
            ]
          }
        }
      ],
      "source": [
        "#  If True then make it double, else halve it\n",
        "\n",
        "np.where(l<5, l*2, l/2)"
      ],
      "id": "9a47d5ea"
    },
    {
      "cell_type": "markdown",
      "metadata": {},
      "source": [
        "In Pandas, when False we assign `n/a`\n",
        "\n",
        "------------------------------------------------------------------------\n",
        "\n",
        "## Numpy func. to Pandas objects"
      ],
      "id": "4042f8fe-2a5b-4b75-9153-ee8e75bef730"
    },
    {
      "cell_type": "code",
      "execution_count": 26,
      "metadata": {},
      "outputs": [
        {
          "output_type": "display_data",
          "metadata": {},
          "data": {
            "text/html": [
              "\n",
              "</div>"
            ]
          }
        }
      ],
      "source": [
        "import pandas as pd\n",
        "\n",
        "# l is a Numpy matrix which readily interoperates with Pandas\n",
        "my_df = pd.DataFrame(l, columns=['A', 'B', 'C'])\n",
        "\n",
        "my_df"
      ],
      "id": "18fc47d7"
    },
    {
      "cell_type": "code",
      "execution_count": 27,
      "metadata": {},
      "outputs": [
        {
          "output_type": "display_data",
          "metadata": {},
          "data": {
            "text/plain": [
              "0    1.000000\n",
              "1    2.000000\n",
              "2    2.645751\n",
              "Name: B, dtype: float64"
            ]
          }
        }
      ],
      "source": [
        "# Extract the square root of each el. of column B (NB: my_df remains unchanged)\n",
        "np.sqrt(my_df.B) "
      ],
      "id": "884036ec"
    },
    {
      "cell_type": "markdown",
      "metadata": {},
      "source": [
        "------------------------------------------------------------------------\n",
        "\n",
        "## Back and Forth b/w Pandas and Numpy"
      ],
      "id": "e65a9b43-c6e8-4b22-8ccd-75e076661c48"
    },
    {
      "cell_type": "code",
      "execution_count": 28,
      "metadata": {},
      "outputs": [
        {
          "output_type": "display_data",
          "metadata": {},
          "data": {
            "text/plain": [
              "array([[0, 1, 2],\n",
              "       [3, 4, 5],\n",
              "       [6, 7, 8]])"
            ]
          }
        }
      ],
      "source": [
        "# Extract the values back into a Numpy object\n",
        "\n",
        "m = my_df.values\n",
        "\n",
        "m"
      ],
      "id": "b4ddecbb"
    },
    {
      "cell_type": "raw",
      "metadata": {
        "raw_mimetype": "text/html"
      },
      "source": [
        "<!------------------------------------------------------------->"
      ],
      "id": "b65dc34c-c157-4892-ade6-2de0fd096c19"
    }
  ],
  "nbformat": 4,
  "nbformat_minor": 5,
  "metadata": {
    "kernelspec": {
      "name": "python3",
      "display_name": "Python 3 (ipykernel)",
      "language": "python"
    }
  }
}
