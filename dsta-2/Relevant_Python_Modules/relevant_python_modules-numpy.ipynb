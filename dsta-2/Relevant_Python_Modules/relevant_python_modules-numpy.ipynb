{
  "cells": [
    {
      "cell_type": "markdown",
      "metadata": {},
      "source": [
        "# Relevant Python modules: Numpy\n",
        "\n",
        "AM\n",
        "\n",
        "## Motivations\n",
        "\n",
        "Python does not cover the data structures normally used in science and\n",
        "technology work.\n",
        "\n",
        "Numpy comes in to support data manipulation of n-dimensional arrays.\n",
        "\n",
        "Extensive library of functions to reshape data.\n",
        "\n",
        "Comprehensive collection of mathematical operations.\n",
        "\n",
        "``` bash\n",
        "pip install numpy\n",
        "```\n",
        "\n",
        "default with Anaconda\n",
        "\n",
        "------------------------------------------------------------------------\n",
        "\n",
        "## Arrays\n",
        "\n",
        "A computer version of vectors and matrices: sequence of uniform-type\n",
        "values with indexing mechanism by integers.\n",
        "\n",
        "Numpy arrays have methods, applied element-wise, and functions that take\n",
        "into account the position of each element in the array."
      ],
      "id": "faeae58d-edca-4787-89a2-09d03957bfb3"
    },
    {
      "cell_type": "code",
      "execution_count": 1,
      "metadata": {},
      "outputs": [],
      "source": [
        "import numpy as np"
      ],
      "id": "769e4fe5"
    },
    {
      "cell_type": "code",
      "execution_count": 2,
      "metadata": {},
      "outputs": [
        {
          "output_type": "display_data",
          "metadata": {},
          "data": {
            "text/plain": [
              "array([ 2,  4,  6,  8, 10, 12, 14, 16, 18])"
            ]
          }
        }
      ],
      "source": [
        "# nr from 2 to 20 (excl.) with step 2\n",
        "\n",
        "b = np.arange(2, 20, 2)\n",
        "\n",
        "b"
      ],
      "id": "b2012452"
    },
    {
      "cell_type": "markdown",
      "metadata": {},
      "source": [
        "------------------------------------------------------------------------"
      ],
      "id": "c2ff9aff-2ae5-4631-be85-0a87a6e61f9c"
    },
    {
      "cell_type": "code",
      "execution_count": 3,
      "metadata": {},
      "outputs": [
        {
          "output_type": "display_data",
          "metadata": {},
          "data": {
            "text/plain": [
              "array([ 4,  8, 12, 16, 20, 24, 28, 32, 36])"
            ]
          }
        }
      ],
      "source": [
        "# element-wise operations\n",
        "\n",
        "2*b"
      ],
      "id": "1b6933b3"
    },
    {
      "cell_type": "markdown",
      "metadata": {},
      "source": [
        "------------------------------------------------------------------------"
      ],
      "id": "9399f207-fede-4c91-9d5d-9f9f0cebde3d"
    },
    {
      "cell_type": "code",
      "execution_count": 4,
      "metadata": {},
      "outputs": [
        {
          "output_type": "display_data",
          "metadata": {},
          "data": {
            "text/plain": [
              "array([ 2,  6, 12, 20, 30, 42, 56, 72, 90])"
            ]
          }
        }
      ],
      "source": [
        "# cumulative step-by-step sum\n",
        "b.cumsum()"
      ],
      "id": "c818e83e"
    },
    {
      "cell_type": "markdown",
      "metadata": {},
      "source": [
        "------------------------------------------------------------------------\n",
        "\n",
        "## Lists vs. Arrays\n",
        "\n",
        "Same indexing notation:\n",
        "\n",
        "``` python\n",
        "mylist[0]\n",
        "\n",
        "mylistoflists[0][1]\n",
        "```\n",
        "\n",
        "A list is a generic sequence of heterogenous objects.\n",
        "\n",
        "So, strings, numbers, characters, file name, URLs can be all mixed up!\n",
        "\n",
        "An array is a sequence of strictly-homogenous objects, normally `int` or\n",
        "`float`\n",
        "\n",
        "``` python\n",
        "myarray[1]\n",
        "\n",
        "mymatrix[1][3]\n",
        "```\n",
        "\n",
        "------------------------------------------------------------------------\n",
        "\n",
        "## Notation\n",
        "\n",
        "1-dimension: an array (a line of numbers): `[1, 23, …]`\n",
        "\n",
        "2-dimensions: a matrix (a table of numbers)\n",
        "`[ [1, 23, …], [14, 96, …], ...]`\n",
        "\n",
        "3-dimensions: a tensor (a box/cube/cuboid) of numbers:\n",
        "`[ [ [1, 23, …], [14, 96, …], …], ...]`\n",
        "\n",
        "------------------------------------------------------------------------\n",
        "\n",
        "## 2-D Numpy Arrays"
      ],
      "id": "53bacc05-c703-450a-8fb2-7655dbd41611"
    },
    {
      "cell_type": "code",
      "execution_count": 5,
      "metadata": {},
      "outputs": [
        {
          "output_type": "display_data",
          "metadata": {},
          "data": {
            "text/plain": [
              "array([0, 1, 2, 3, 4, 5, 6, 7])"
            ]
          }
        }
      ],
      "source": [
        "c = np.arange(8)\n",
        "\n",
        "c"
      ],
      "id": "51b93490"
    },
    {
      "cell_type": "code",
      "execution_count": 6,
      "metadata": {},
      "outputs": [
        {
          "output_type": "display_data",
          "metadata": {},
          "data": {
            "text/plain": [
              "array([[ 0,  1,  2,  3,  4,  5,  6,  7],\n",
              "       [ 0,  2,  4,  6,  8, 10, 12, 14]])"
            ]
          }
        }
      ],
      "source": [
        "# build a 2-dimensional array from a 1-d one\n",
        "d = np.array([c, c*2])\n",
        "\n",
        "d"
      ],
      "id": "ddbce22e"
    },
    {
      "cell_type": "code",
      "execution_count": 7,
      "metadata": {},
      "outputs": [
        {
          "output_type": "display_data",
          "metadata": {},
          "data": {
            "text/plain": [
              "16"
            ]
          }
        }
      ],
      "source": [
        "# count elements\n",
        "\n",
        "d.size"
      ],
      "id": "462eefb5"
    },
    {
      "cell_type": "code",
      "execution_count": 8,
      "metadata": {},
      "outputs": [
        {
          "output_type": "display_data",
          "metadata": {},
          "data": {
            "text/plain": [
              "(2, 8)"
            ]
          }
        }
      ],
      "source": [
        "#  size along each dimension\n",
        "\n",
        "d.shape"
      ],
      "id": "d852afd2"
    },
    {
      "cell_type": "markdown",
      "metadata": {},
      "source": [
        "------------------------------------------------------------------------\n",
        "\n",
        "## Axes\n",
        "\n",
        "Numpy arrays can have multiple dimensions.\n",
        "\n",
        "Unlike Pandas, not specifying the axis will apply a function to the\n",
        "entire array."
      ],
      "id": "b6f73c60-596e-45cc-9f2a-240f33cb1c31"
    },
    {
      "cell_type": "code",
      "execution_count": 9,
      "metadata": {},
      "outputs": [
        {
          "output_type": "display_data",
          "metadata": {},
          "data": {
            "text/plain": [
              "array([[ 0,  1,  2,  3,  4,  5,  6,  7],\n",
              "       [ 0,  2,  4,  6,  8, 10, 12, 14]])"
            ]
          }
        }
      ],
      "source": [
        "# operations along columns\n",
        "d"
      ],
      "id": "264e23bb"
    },
    {
      "cell_type": "code",
      "execution_count": 10,
      "metadata": {},
      "outputs": [
        {
          "output_type": "display_data",
          "metadata": {},
          "data": {
            "text/plain": [
              "array([ 0,  3,  6,  9, 12, 15, 18, 21])"
            ]
          }
        }
      ],
      "source": [
        "# operations along columns\n",
        "d.sum(axis=0)"
      ],
      "id": "bcb9e4eb"
    },
    {
      "cell_type": "code",
      "execution_count": 11,
      "metadata": {},
      "outputs": [
        {
          "output_type": "display_data",
          "metadata": {},
          "data": {
            "text/plain": [
              "array([28, 56])"
            ]
          }
        }
      ],
      "source": [
        "# summing by row\n",
        "d.sum(axis=1)"
      ],
      "id": "0eac98fd"
    },
    {
      "cell_type": "code",
      "execution_count": 12,
      "metadata": {},
      "outputs": [
        {
          "output_type": "display_data",
          "metadata": {},
          "data": {
            "text/plain": [
              "84"
            ]
          }
        }
      ],
      "source": [
        "# sum the whole content\n",
        "d.sum()"
      ],
      "id": "4b9930cf"
    },
    {
      "cell_type": "markdown",
      "metadata": {},
      "source": [
        "------------------------------------------------------------------------\n",
        "\n",
        "## Shapes\n",
        "\n",
        "Using information about the shape we can create/manipulate (or reshape,\n",
        "or transpose) Numpy variables."
      ],
      "id": "79bd6c2c-0de0-41ce-af3f-3e1a09d38070"
    },
    {
      "cell_type": "code",
      "execution_count": 13,
      "metadata": {},
      "outputs": [
        {
          "output_type": "display_data",
          "metadata": {},
          "data": {
            "text/plain": [
              "array([[0, 0, 0],\n",
              "       [0, 0, 0]], dtype=int32)"
            ]
          }
        }
      ],
      "source": [
        "# Create 2x3 Numpy array and initialise it to 0s\n",
        "e = np.zeros((2, 3), dtype = 'i')\n",
        "\n",
        "e"
      ],
      "id": "a7c61a0f"
    },
    {
      "cell_type": "code",
      "execution_count": 14,
      "metadata": {},
      "outputs": [
        {
          "output_type": "display_data",
          "metadata": {},
          "data": {
            "text/plain": [
              "array([[0, 0],\n",
              "       [0, 0],\n",
              "       [0, 0]], dtype=int32)"
            ]
          }
        }
      ],
      "source": [
        "# Change the shape\n",
        "e.reshape(3, 2)"
      ],
      "id": "101e5e0f"
    },
    {
      "cell_type": "markdown",
      "metadata": {},
      "source": [
        "------------------------------------------------------------------------"
      ],
      "id": "a6b83aa9-fa03-4082-b1d6-94714768eb60"
    },
    {
      "cell_type": "code",
      "execution_count": 15,
      "metadata": {},
      "outputs": [
        {
          "output_type": "display_data",
          "metadata": {},
          "data": {
            "text/plain": [
              "array([[1, 1, 1],\n",
              "       [1, 1, 1]], dtype=int32)"
            ]
          }
        }
      ],
      "source": [
        "# Take another array to infer shape\n",
        "f = np.ones_like(e, dtype = 'i')\n",
        "\n",
        "f"
      ],
      "id": "0a923cf8"
    },
    {
      "cell_type": "code",
      "execution_count": 16,
      "metadata": {},
      "outputs": [
        {
          "output_type": "display_data",
          "metadata": {},
          "data": {
            "text/plain": [
              "array([[1, 1],\n",
              "       [1, 1],\n",
              "       [1, 1]], dtype=int32)"
            ]
          }
        }
      ],
      "source": [
        "# Transposition\n",
        "\n",
        "f.T"
      ],
      "id": "86df5301"
    },
    {
      "cell_type": "markdown",
      "metadata": {},
      "source": [
        "------------------------------------------------------------------------\n",
        "\n",
        "## Stacking\n",
        "\n",
        "2-D arrays with the same dimensions can be merged"
      ],
      "id": "80bd20ac-2c00-4eb4-84dd-d7ea0ed5f0b0"
    },
    {
      "cell_type": "code",
      "execution_count": 17,
      "metadata": {},
      "outputs": [
        {
          "output_type": "display_data",
          "metadata": {},
          "data": {
            "text/plain": [
              "array([[1., 0., 0., 0., 0.],\n",
              "       [0., 1., 0., 0., 0.],\n",
              "       [0., 0., 1., 0., 0.],\n",
              "       [0., 0., 0., 1., 0.],\n",
              "       [0., 0., 0., 0., 1.]])"
            ]
          }
        }
      ],
      "source": [
        "# Create an identity matrix of order 5\n",
        "i = np.eye(5)\n",
        "\n",
        "i"
      ],
      "id": "0502ff11"
    },
    {
      "cell_type": "code",
      "execution_count": 18,
      "metadata": {},
      "outputs": [
        {
          "output_type": "display_data",
          "metadata": {},
          "data": {
            "text/plain": [
              "array([[1., 0., 0., 0., 0.],\n",
              "       [0., 1., 0., 0., 0.],\n",
              "       [0., 0., 1., 0., 0.],\n",
              "       [0., 0., 0., 1., 0.],\n",
              "       [0., 0., 0., 0., 1.],\n",
              "       [1., 0., 0., 0., 0.],\n",
              "       [0., 1., 0., 0., 0.],\n",
              "       [0., 0., 1., 0., 0.],\n",
              "       [0., 0., 0., 1., 0.],\n",
              "       [0., 0., 0., 0., 1.]])"
            ]
          }
        }
      ],
      "source": [
        "# stacking combines two 2-d arrays: vertically\n",
        "np.vstack((i, i))"
      ],
      "id": "1b52384f"
    },
    {
      "cell_type": "markdown",
      "metadata": {},
      "source": [
        "------------------------------------------------------------------------"
      ],
      "id": "77b969ea-7b07-4d4c-9d3d-0945bcf8f1ff"
    },
    {
      "cell_type": "code",
      "execution_count": 19,
      "metadata": {},
      "outputs": [
        {
          "output_type": "display_data",
          "metadata": {},
          "data": {
            "text/plain": [
              "array([[1., 0., 0., 0., 0., 1., 0., 0., 0., 0.],\n",
              "       [0., 1., 0., 0., 0., 0., 1., 0., 0., 0.],\n",
              "       [0., 0., 1., 0., 0., 0., 0., 1., 0., 0.],\n",
              "       [0., 0., 0., 1., 0., 0., 0., 0., 1., 0.],\n",
              "       [0., 0., 0., 0., 1., 0., 0., 0., 0., 1.]])"
            ]
          }
        }
      ],
      "source": [
        "# stacking combines two 2-d arrays: horizontally\n",
        "np.hstack((i, i))"
      ],
      "id": "8e8e1ae1"
    },
    {
      "cell_type": "markdown",
      "metadata": {},
      "source": [
        "------------------------------------------------------------------------\n",
        "\n",
        "## Detour: N-dimensional arrays\n",
        "\n",
        "Numpy can handle multiple dimensions.\n",
        "\n",
        "This is useful when dealing with multivariate data, from time series to\n",
        "documents."
      ],
      "id": "4ddccb0e-fd9b-4e8d-9778-a19449d9bdf7"
    },
    {
      "cell_type": "code",
      "execution_count": 20,
      "metadata": {},
      "outputs": [
        {
          "output_type": "display_data",
          "metadata": {},
          "data": {
            "text/plain": [
              "array([[[0., 0., 0., 0.],\n",
              "        [0., 0., 0., 0.],\n",
              "        [0., 0., 0., 0.]],\n",
              "\n",
              "       [[0., 0., 0., 0.],\n",
              "        [0., 0., 0., 0.],\n",
              "        [0., 0., 0., 0.]]])"
            ]
          }
        }
      ],
      "source": [
        "# N-dimensional array\n",
        "\n",
        "g = np.zeros((2, 3, 4))\n",
        "\n",
        "g"
      ],
      "id": "48bcbdf9"
    },
    {
      "cell_type": "markdown",
      "metadata": {},
      "source": [
        "Two samples, each with three rows and four columns.\n",
        "\n",
        "------------------------------------------------------------------------\n",
        "\n",
        "## Slicing by Boolean filters\n",
        "\n",
        "Data can be selected according to specific conditions.\n",
        "\n",
        "The Boolean filter itself can be represented by a Numpy array"
      ],
      "id": "0df49f22-330f-403d-9570-7d62160a27bb"
    },
    {
      "cell_type": "code",
      "execution_count": 21,
      "metadata": {},
      "outputs": [
        {
          "output_type": "display_data",
          "metadata": {},
          "data": {
            "text/plain": [
              "array([[0, 1, 2, 3, 4, 5, 6, 7, 8]])"
            ]
          }
        }
      ],
      "source": [
        "l = np.array([np.arange(9)])\n",
        "\n",
        "l"
      ],
      "id": "001177f0"
    },
    {
      "cell_type": "code",
      "execution_count": 22,
      "metadata": {},
      "outputs": [
        {
          "output_type": "display_data",
          "metadata": {},
          "data": {
            "text/plain": [
              "array([[0, 1, 2, 3, 4, 5, 6, 7, 8]])"
            ]
          }
        }
      ],
      "source": [
        "l.reshape((3, 3))\n",
        "\n",
        "l"
      ],
      "id": "c6d992b4"
    },
    {
      "cell_type": "code",
      "execution_count": 23,
      "metadata": {},
      "outputs": [
        {
          "output_type": "display_data",
          "metadata": {},
          "data": {
            "text/plain": [
              "array([5, 6, 7, 8])"
            ]
          }
        }
      ],
      "source": [
        "# Let's apply a high-pass filter\n",
        "\n",
        "l[l>4]"
      ],
      "id": "3740e644"
    },
    {
      "cell_type": "code",
      "execution_count": 24,
      "metadata": {},
      "outputs": [
        {
          "output_type": "display_data",
          "metadata": {},
          "data": {
            "text/plain": [
              "array([[0, 0, 0, 0, 0, 1, 1, 1, 1]])"
            ]
          }
        }
      ],
      "source": [
        "# Generate a Boolean array (False=0, True=1)\n",
        "\n",
        "(l>4).astype(int)"
      ],
      "id": "e7fb484c"
    },
    {
      "cell_type": "markdown",
      "metadata": {},
      "source": [
        "------------------------------------------------------------------------\n",
        "\n",
        "## From Numpy to Pandas: `where()`\n",
        "\n",
        "Even though Pandas is built on Numpy, `where()` has a distinct semantics\n",
        "\n",
        "Numpy allows specifying the respective action associated to `True` and\n",
        "`False`"
      ],
      "id": "ca447476-656e-4df7-8fb0-b4d5337ece4b"
    },
    {
      "cell_type": "code",
      "execution_count": 25,
      "metadata": {},
      "outputs": [
        {
          "output_type": "display_data",
          "metadata": {},
          "data": {
            "text/plain": [
              "array([[0, 1, 2],\n",
              "       [3, 4, 5],\n",
              "       [6, 7, 8]])"
            ]
          }
        }
      ],
      "source": [
        "l = np.array([np.arange(9)])\n",
        "\n",
        "l = l.reshape((3, 3))\n",
        "\n",
        "l"
      ],
      "id": "fa433892"
    },
    {
      "cell_type": "code",
      "execution_count": 26,
      "metadata": {},
      "outputs": [
        {
          "output_type": "display_data",
          "metadata": {},
          "data": {
            "text/plain": [
              "array([[0. , 2. , 4. ],\n",
              "       [6. , 8. , 2.5],\n",
              "       [3. , 3.5, 4. ]])"
            ]
          }
        }
      ],
      "source": [
        "#  If True then make it double, else halve it\n",
        "\n",
        "np.where(l<5, l*2, l/2)"
      ],
      "id": "fb560ee1"
    },
    {
      "cell_type": "markdown",
      "metadata": {},
      "source": [
        "In Pandas, when False we assign `n/a`\n",
        "\n",
        "------------------------------------------------------------------------\n",
        "\n",
        "## Numpy func. to Pandas objects"
      ],
      "id": "0e0806e5-8da8-4d21-a58c-032b5e253726"
    },
    {
      "cell_type": "code",
      "execution_count": 27,
      "metadata": {},
      "outputs": [
        {
          "output_type": "display_data",
          "metadata": {},
          "data": {
            "text/html": [
              "\n",
              "</div>"
            ]
          }
        }
      ],
      "source": [
        "import pandas as pd\n",
        "\n",
        "# l is a Numpy matrix which readily interoperates with Pandas\n",
        "my_df = pd.DataFrame(l, columns=['A', 'B', 'C'])\n",
        "\n",
        "my_df"
      ],
      "id": "72f76599"
    },
    {
      "cell_type": "code",
      "execution_count": 28,
      "metadata": {},
      "outputs": [
        {
          "output_type": "display_data",
          "metadata": {},
          "data": {
            "text/plain": [
              "0    1.000000\n",
              "1    2.000000\n",
              "2    2.645751\n",
              "Name: B, dtype: float64"
            ]
          }
        }
      ],
      "source": [
        "# Extract the square root of each el. of column B (NB: my_df remains unchanged)\n",
        "np.sqrt(my_df.B) "
      ],
      "id": "0f2f2a53"
    },
    {
      "cell_type": "markdown",
      "metadata": {},
      "source": [
        "------------------------------------------------------------------------\n",
        "\n",
        "## Back and Forth b/w Pandas and Numpy"
      ],
      "id": "b80234a6-4f1d-487f-b21f-5b6f213b5cba"
    },
    {
      "cell_type": "code",
      "execution_count": 29,
      "metadata": {},
      "outputs": [
        {
          "output_type": "display_data",
          "metadata": {},
          "data": {
            "text/plain": [
              "array([[0, 1, 2],\n",
              "       [3, 4, 5],\n",
              "       [6, 7, 8]])"
            ]
          }
        }
      ],
      "source": [
        "# Extract the values back into a Numpy object\n",
        "\n",
        "m = my_df.values\n",
        "\n",
        "m"
      ],
      "id": "755ff50c"
    },
    {
      "cell_type": "raw",
      "metadata": {
        "raw_mimetype": "text/html"
      },
      "source": [
        "<!------------------------------------------------------------->"
      ],
      "id": "11fad0ac-93b6-478b-81e5-fe68ee548116"
    }
  ],
  "nbformat": 4,
  "nbformat_minor": 5,
  "metadata": {
    "kernelspec": {
      "name": "python3",
      "display_name": "Python 3 (ipykernel)",
      "language": "python"
    }
  }
}