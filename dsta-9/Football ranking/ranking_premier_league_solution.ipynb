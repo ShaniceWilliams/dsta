{
 "cells": [
  {
   "attachments": {},
   "cell_type": "markdown",
   "metadata": {
    "id": "EZwIXXrZsA_R"
   },
   "source": [
    "## DSTA\n",
    "\n",
    "### Rating and Ranking with Massey's and Keener's Methods:\n",
    "\n",
    "### The Premier League case \n",
    "\n",
    "This is the __solution__ notebook.\n",
    "\n",
    "We will analyse Premier League results for these two interesting seasons; results have been downloaded from [www.footballwebpages.co.uk](https://www.footballwebpages.co.uk/premier-league):\n",
    "\n",
    "- the [2021 - 2022 season](https://www.footballwebpages.co.uk/premier-league/match-grid/2021-2022), and\n",
    "- [2022 - 2023 season](https://www.footballwebpages.co.uk/premier-league/match-grid/2022-2023).\n",
    "\n",
    "\n"
   ]
  },
  {
   "attachments": {},
   "cell_type": "markdown",
   "metadata": {
    "id": "nCJ_gouYi8xi"
   },
   "source": [
    "## Import necessary Python packages"
   ]
  },
  {
   "cell_type": "code",
   "execution_count": null,
   "metadata": {
    "id": "zp_ESJUYr5Mb"
   },
   "outputs": [],
   "source": [
    "import numpy as np\n",
    "import pandas as pd\n",
    "import matplotlib.pyplot as plt\n",
    "from sklearn.preprocessing import MinMaxScaler"
   ]
  },
  {
   "attachments": {},
   "cell_type": "markdown",
   "metadata": {
    "id": "ME3iGaXyjC9Z"
   },
   "source": [
    "### Set pandas and numpy options for printing results"
   ]
  },
  {
   "cell_type": "code",
   "execution_count": null,
   "metadata": {
    "id": "NGdD2i0HDYEN"
   },
   "outputs": [],
   "source": [
    "np.set_printoptions(linewidth=1000)\n",
    "\n",
    "pd.set_option('display.max_rows', None)\n",
    "pd.set_option('display.max_columns', None)\n",
    "pd.set_option('display.width', 1000)\n",
    "pd.set_option('display.colheader_justify', 'center')"
   ]
  },
  {
   "attachments": {},
   "cell_type": "markdown",
   "metadata": {
    "id": "U5dTWY8jij0H"
   },
   "source": [
    "#### Premier League winners:\n",
    "\n",
    "*   **2021 - 2022**: Manchester City (1-point gap from Liverpool that finished second)\n",
    "  \n",
    "*   **2022 - 2023**: Manchester City (5-points gap from Arsenal that finished second)\n",
    "\n"
   ]
  },
  {
   "attachments": {},
   "cell_type": "markdown",
   "metadata": {
    "id": "TeKm7bZiichq"
   },
   "source": [
    "## File names"
   ]
  },
  {
   "cell_type": "code",
   "execution_count": null,
   "metadata": {
    "id": "OFBPvjCLhx99"
   },
   "outputs": [],
   "source": [
    "# League table files\n",
    "premier_league_table_2017_2018 = \"./data/2017_2018_LeagueTable.csv\"\n",
    "premier_league_table_2018_2019 = \"./data/2018_2019_LeagueTable.csv\"\n",
    "premier_league_table_2019_2020 = \"./data/2019_2020_LeagueTable.csv\"\n",
    "premier_league_table_2020_2021 = \"./data/2020_2021_LeagueTable.csv\"\n",
    "premier_league_table_2021_2022 = \"./data/2021_2022_LeagueTable.csv\"\n",
    "premier_league_table_2022_2023 = \"./data/2022_2023_LeagueTable.csv\"\n",
    "\n",
    "# Match grid files\n",
    "premier_league_match_grid_2017_2018 = \"./data/2017_2018_MatchGrid.csv\"\n",
    "premier_league_match_grid_2018_2019 = \"./data/2018_2019_MatchGrid.csv\"\n",
    "premier_league_match_grid_2019_2020 = \"./data/2017_2018_MatchGrid.csv\"\n",
    "premier_league_match_grid_2020_2021 = \"./data/2020_2021_MatchGrid.csv\"\n",
    "premier_league_match_grid_2021_2022 = \"./data/2021_2022_MatchGrid.csv\"\n",
    "premier_league_match_grid_2022_2023 = \"./data/2022_2023_MatchGrid.csv\""
   ]
  },
  {
   "attachments": {},
   "cell_type": "markdown",
   "metadata": {
    "id": "ZEeBJchejTa6"
   },
   "source": [
    "### Set current working data files and next season files\n",
    "\n",
    "Hint: Change these variables in case you would like to rate / rank teams based on a different season and check the estimates against the actual rankings of the following season."
   ]
  },
  {
   "cell_type": "code",
   "execution_count": null,
   "metadata": {
    "id": "mj-LLbynjFT2"
   },
   "outputs": [],
   "source": [
    "# Current (working) season\n",
    "current_league_table_file = premier_league_table_2021_2022\n",
    "\n",
    "current_match_grid_file = premier_league_match_grid_2021_2022\n",
    "\n",
    "current_season = \"2021 - 2022\"\n",
    "\n",
    "# Next season\n",
    "coming_league_table_file = premier_league_table_2022_2023\n",
    "\n",
    "coming_match_grid_file = premier_league_match_grid_2022_2023\n",
    "\n",
    "coming_season = \"2022 - 2023\""
   ]
  },
  {
   "attachments": {},
   "cell_type": "markdown",
   "metadata": {
    "id": "BBvFE0k1kJWT"
   },
   "source": [
    "### 1 Massey from Premiership league table\n",
    "\n",
    "\n",
    "\n"
   ]
  },
  {
   "attachments": {},
   "cell_type": "markdown",
   "metadata": {
    "id": "JckRmnTaWiWW"
   },
   "source": [
    "### Import the league table of the \"current\" season"
   ]
  },
  {
   "cell_type": "code",
   "execution_count": null,
   "metadata": {
    "colab": {
     "base_uri": "https://localhost:8080/",
     "height": 677
    },
    "id": "EfA0WZYxfFAa",
    "outputId": "00f1302a-39f4-4905-8684-5615ebe55ec7"
   },
   "outputs": [],
   "source": [
    "# Read the league table data - skip the first row\n",
    "league_table = pd.read_csv(current_league_table_file, skiprows=1)\n",
    "\n",
    "league_table[\"Actual_Ranking\"] = np.arange(1, 21)\n",
    "\n",
    "league_table"
   ]
  },
  {
   "attachments": {},
   "cell_type": "markdown",
   "metadata": {
    "id": "s1ZOhomKkbnV"
   },
   "source": [
    "### Keep columns about goals scored and rename for clarity"
   ]
  },
  {
   "cell_type": "code",
   "execution_count": null,
   "metadata": {
    "colab": {
     "base_uri": "https://localhost:8080/",
     "height": 677
    },
    "id": "l8-bVW5IfHG_",
    "outputId": "a4644a45-b4fe-4d13-c32f-0993483396f6"
   },
   "outputs": [],
   "source": [
    "required_cols = [\"Unnamed: 1\", \"P.2\", \"F\", \"A\", \"+/-\", \"Pts\", \"Actual_Ranking\"]\n",
    "\n",
    "renaming = {\n",
    "    \"Unnamed: 1\": \"Teams\", \n",
    "    \"P.2\": \"Total_Matches_Played\", \n",
    "    \"F\": \"Goals_Scored\",\n",
    "    \"A\": \"Goals_Conceded\",\n",
    "    \"+/-\": \"Goal_Difference\",\n",
    "    \"Pts\": \"Points\"\n",
    "    }\n",
    "\n",
    "# Make a copy of the league table, keeping only the necessary columns renamed\n",
    "league_table = (\n",
    "    league_table\n",
    "    .loc[:, required_cols]\n",
    "    .copy()\n",
    "    .rename(columns=renaming)\n",
    ")\n",
    "\n",
    "league_table"
   ]
  },
  {
   "attachments": {},
   "cell_type": "markdown",
   "metadata": {
    "id": "tmq0iUrhXS12"
   },
   "source": [
    "### Create Massey's M and p\n",
    "\n",
    "Below is a refresher of the relevant formulas\n",
    "\n"
   ]
  },
  {
   "attachments": {},
   "cell_type": "markdown",
   "metadata": {
    "id": "E6pNd4-GWgdW"
   },
   "source": [
    "$\\mathbf{Mr} = \\mathbf{p}$\n",
    "\n",
    "Massey Matrix - last row elements set to 1:\n",
    "\n",
    "$\\mathbf{M}_{n \\times n} = \\begin{pmatrix}\n",
    "  38 & -2 & -2 & \\dots & -2\\\\\n",
    "  -2 & 38 & -2 & \\dots & -2\\\\\n",
    "  -2 & -2 & 38 & \\dots & -2\\\\\n",
    "  \\vdots & \\vdots & \\vdots & \\ddots & -2\\\\\n",
    "  1 & 1 & 1 & \\dots & 1\n",
    "  \\end{pmatrix}$\n",
    "\n",
    "The *Goal Difference Column Vector:*\n",
    "\n",
    "$\\mathbf{p}_{n \\times 1} = \\begin{pmatrix}\n",
    "p_1\\\\\n",
    "p_2\\\\\n",
    "p_3\\\\\n",
    "\\vdots \\\\\n",
    "p_n\n",
    "\\end{pmatrix}$\n",
    "\n",
    "\n",
    "Looking for the Ratings Vector:\n",
    "\n",
    "\n",
    "$\\mathbf{r}_{n \\times 1} = \\begin{pmatrix}\n",
    "r_1\\\\\n",
    "r_2\\\\\n",
    "r_3\\\\\n",
    "\\vdots \\\\\n",
    "r_n\n",
    "\\end{pmatrix}$\n",
    "\n",
    "\n",
    "Solution:  \n",
    "\n",
    "$\\mathbf{r} = \\mathbf{M}^{-1} \\mathbf{p}$"
   ]
  },
  {
   "cell_type": "code",
   "execution_count": null,
   "metadata": {
    "id": "IdapcW49_3Ge"
   },
   "outputs": [],
   "source": [
    "# Useful constants\n",
    "N_TEAMS = len(league_table)\n",
    "\n",
    "MATCHES_PLAYED_PER_TEAM = 2 * (N_TEAMS - 1)\n",
    "\n",
    "# Create M matrix: non-diagonal elements are the negated number of matches\n",
    "# played between each pair of teams. Diagonal elements are the total matches\n",
    "# played per team (both home and away).\n",
    "M = -2 * np.ones((N_TEAMS, N_TEAMS))\n",
    "\n",
    "diagonal = np.ones((1, N_TEAMS)) * MATCHES_PLAYED_PER_TEAM\n",
    "\n",
    "last_row = np.ones((1, N_TEAMS))\n",
    "\n",
    "M[-1:] = last_row\n",
    "\n",
    "np.fill_diagonal(M, diagonal)\n",
    "\n",
    "# Create p column vector with goal difference. Shape: (N_TEAMS, 1)\n",
    "p = league_table[\"Goal_Difference\"].to_numpy().reshape((-1, 1))"
   ]
  },
  {
   "attachments": {},
   "cell_type": "markdown",
   "metadata": {
    "id": "tkv9z2iFXckk"
   },
   "source": [
    "### Solve the system and calculate Massey rankings and ratings - use MinMaxScaler for easier plotting of ratings further below\n",
    "\n",
    "Please see the relative [sklearn MinMaxScaler documentation](https://scikit-learn.org/stable/modules/generated/sklearn.preprocessing.MinMaxScaler.html)."
   ]
  },
  {
   "cell_type": "code",
   "execution_count": null,
   "metadata": {
    "id": "oX5GzSQ3HYjE"
   },
   "outputs": [],
   "source": [
    "# Solve the equation system to calculate ratings and add them to the data\n",
    "r = np.linalg.inv(M).dot(p)\n",
    "\n",
    "league_table[\"Massey_Rating\"] = r\n",
    "\n",
    "# Scale the ratings between 100 (top team) and 0 (weakest team).\n",
    "# MinMaxScaler accepts a tuple (min, max) as input argument to define the range.\n",
    "min_max_scaler = MinMaxScaler((0, 100))\n",
    "\n",
    "league_table[\"Massey_Scaled_Rating\"] = min_max_scaler.fit_transform(\n",
    "    league_table.loc[:, \"Massey_Rating\"].to_numpy().reshape(-1, 1)\n",
    ")\n",
    "\n",
    "# Sort the data by calculated ratings and get Massey ranking\n",
    "league_table = league_table.sort_values(\"Massey_Rating\", ascending=False)\n",
    "\n",
    "league_table[\"Massey_Ranking\"] = np.arange(1, 21)"
   ]
  },
  {
   "attachments": {},
   "cell_type": "markdown",
   "metadata": {
    "id": "2QaauNBc2b7f"
   },
   "source": [
    "#### Keep a copy of the data to compile ratings/rankings from all methods"
   ]
  },
  {
   "cell_type": "code",
   "execution_count": null,
   "metadata": {
    "id": "I7FJWOoFjDcK"
   },
   "outputs": [],
   "source": [
    "compiled_results = (\n",
    "    league_table\n",
    "    .sort_values(\"Actual_Ranking\", ascending=True)\n",
    "    .copy()\n",
    "    )"
   ]
  },
  {
   "cell_type": "code",
   "execution_count": null,
   "metadata": {
    "colab": {
     "base_uri": "https://localhost:8080/",
     "height": 966
    },
    "id": "1C9JLr7x3e-l",
    "outputId": "c0f75625-2f49-4081-c50c-5453ee5a6bd4"
   },
   "outputs": [],
   "source": [
    "# Run this if you would like to check the \"compiled_results\"\n",
    "compiled_results"
   ]
  },
  {
   "attachments": {},
   "cell_type": "markdown",
   "metadata": {
    "id": "NxcZGabfYU-8"
   },
   "source": [
    "### Plot Massey scaled rating and ranking side by side with actual ranking and points scored\n",
    "\n",
    "Documentation for [matplotlib.pyplot horizontal bar plots](https://matplotlib.org/stable/api/_as_gen/matplotlib.pyplot.barh.html)"
   ]
  },
  {
   "cell_type": "code",
   "execution_count": null,
   "metadata": {
    "colab": {
     "base_uri": "https://localhost:8080/",
     "height": 367
    },
    "id": "eMTwpkZHKv2S",
    "outputId": "8ec95585-70b3-49e4-f42b-840bd8763c95"
   },
   "outputs": [],
   "source": [
    "# Initialize grid of plots\n",
    "_, axis = plt.subplots(nrows=1, ncols=2, figsize=(12, 4), dpi=160)\n",
    "\n",
    "# Plot Massey scaled rating - plot 0, row 0\n",
    "axis[0].barh(\n",
    "    league_table[\"Massey_Ranking\"], \n",
    "    league_table[\"Massey_Scaled_Rating\"], \n",
    "    height=0.6, align='center'\n",
    "    )\n",
    "\n",
    "# Configure y axis\n",
    "axis[0].set_yticks(\n",
    "    league_table[\"Massey_Ranking\"], \n",
    "    labels=league_table[\"Teams\"],\n",
    "    fontsize=7\n",
    "    )\n",
    "\n",
    "axis[0].invert_yaxis()  # labels read top-to-bottom\n",
    "\n",
    "# X-axis and title\n",
    "axis[0].tick_params(axis=\"x\", labelsize=6)\n",
    "\n",
    "axis[0].set_xlabel('Massey Scaled Rating', fontsize=8)\n",
    "\n",
    "axis[0].set_title(f'Season {current_season} Massey Scaled Rating', fontsize=8)\n",
    "\n",
    "# Plot actual ranking and points scored - plot 1, row 0\n",
    "axis[1].barh(\n",
    "    league_table[\"Actual_Ranking\"], \n",
    "    league_table[\"Points\"], \n",
    "    height=0.6, align='center'\n",
    "    )\n",
    "\n",
    "# Configure y axis\n",
    "axis[1].set_yticks(\n",
    "    league_table[\"Actual_Ranking\"], \n",
    "    labels=league_table[\"Teams\"],\n",
    "    fontsize=7\n",
    "    )\n",
    "axis[1].invert_yaxis()  # labels read top-to-bottom\n",
    "\n",
    "# X-axis and title\n",
    "axis[1].tick_params(axis=\"x\", labelsize=6)\n",
    "\n",
    "axis[1].set_xlabel('Actual Points', fontsize=8)\n",
    "\n",
    "axis[1].set_title(f'Season {current_season} Points Scored', fontsize=8)\n",
    "\n",
    "# Use 'tight_layout' to avoid overlapping text\n",
    "plt.tight_layout()\n",
    "plt.show()"
   ]
  },
  {
   "attachments": {},
   "cell_type": "markdown",
   "metadata": {
    "id": "mYM87ZH_7FkW"
   },
   "source": [
    "### Keener's method"
   ]
  },
  {
   "attachments": {},
   "cell_type": "markdown",
   "metadata": {
    "id": "hRgduyqOooJ6"
   },
   "source": [
    "#### For Keener, we need the match grid"
   ]
  },
  {
   "cell_type": "code",
   "execution_count": null,
   "metadata": {
    "colab": {
     "base_uri": "https://localhost:8080/",
     "height": 984
    },
    "id": "xX4z5Q6eZybO",
    "outputId": "e78a010a-e2b3-45c2-ae51-288d64f073ea"
   },
   "outputs": [],
   "source": [
    "# Each match entry is in the format =\"GH-GA\" (except from NaN in diagonal).\n",
    "# GH are goals scored by the home team, and GA are goals scored by the away team\n",
    "# Below, we read the match grid CSV and remove '=' and '\"'\n",
    "\n",
    "match_grid = (\n",
    "    pd.read_csv(current_match_grid_file, dtype=str, index_col=0)\n",
    "    .replace('\"' , '', regex=True)\n",
    "    .replace('=' , '', regex=True)\n",
    "    .fillna(\"0-0\")\n",
    "    )\n",
    "\n",
    "# Save all teams as a list\n",
    "teams = match_grid.columns.to_list()\n",
    "\n",
    "match_grid"
   ]
  },
  {
   "attachments": {},
   "cell_type": "markdown",
   "metadata": {
    "id": "ljGlqyeDcRuM"
   },
   "source": [
    "#### Create Keener's S matrix\n",
    "\n",
    "Below is a refresher of the method:"
   ]
  },
  {
   "attachments": {},
   "cell_type": "markdown",
   "metadata": {
    "id": "5_g70ZSLcf-J"
   },
   "source": [
    "$S_{n \\times n} \\text{ where } S_{ij} \\text{: total goals scored from team } i \\text{ against team } j$; here *n* represents the total number of teams in the league."
   ]
  },
  {
   "attachments": {},
   "cell_type": "markdown",
   "metadata": {
    "id": "ZuHM9qUAdmHt"
   },
   "source": [
    "### Exercise 1: Complete the code to calculate Keener's S matrix\n",
    "\n",
    "#### Step-by-step:\n",
    "\n",
    "1.   Parse scores. Example: \"3-2\". The home team scored 3 goals and the away team 2. \n",
    "   \n",
    "   Hint: Pandas [applymap documentation](https://pandas.pydata.org/pandas-docs/stable/reference/api/pandas.DataFrame.applymap.html)\n",
    "   \n",
    "2.   Match every team's home match with the respective away match against the same opponent. \n",
    "   \n",
    "   Hint: The home match of team *i* against *j* is element *ij*. The respective away match is element *ji* - row and column indexes are swapped..."
   ]
  },
  {
   "cell_type": "code",
   "execution_count": null,
   "metadata": {
    "id": "Hvi9HP9se-EY"
   },
   "outputs": [],
   "source": [
    "# Parse score and get goals of a home match\n",
    "home_goals_ij = lambda score: int(score.split(\"-\")[0])\n",
    "\n",
    "all_home_goals_ij = match_grid.applymap(home_goals_ij)\n",
    "\n",
    "# Parse score and get goals of an away match\n",
    "# The grid is transposed to match every team's respective\n",
    "# home and away matches\n",
    "away_goals_ij = lambda score: int(score.split(\"-\")[1])\n",
    "\n",
    "all_away_goals_ij = match_grid.T.applymap(away_goals_ij)\n",
    "\n",
    "# Sum goals scored\n",
    "S_dataframe = all_home_goals_ij + all_away_goals_ij"
   ]
  },
  {
   "cell_type": "code",
   "execution_count": null,
   "metadata": {
    "colab": {
     "base_uri": "https://localhost:8080/",
     "height": 984
    },
    "id": "9Cimp9kmiiHy",
    "outputId": "d8db33bc-7199-4a64-9444-3c5c24123c29"
   },
   "outputs": [],
   "source": [
    "S_dataframe"
   ]
  },
  {
   "attachments": {},
   "cell_type": "markdown",
   "metadata": {
    "id": "JqnwZr3Vie0Q"
   },
   "source": [
    "### Create Keener's A matrix\n",
    "\n",
    "Below is a refresher"
   ]
  },
  {
   "attachments": {},
   "cell_type": "markdown",
   "metadata": {
    "id": "AOZeSNQWfqst"
   },
   "source": [
    "$\\mathbf{A}_{n \\times n} = \\left[\\frac{S_{ij}+ 1}{S_{ij} + S_{ji} + 2}\\right]_{n \\times n}$\n",
    "<br>\n",
    "<br>\n",
    "$\\mathbf{A}_{n \\times n} = [a_{ij}] = \\left[h\\left(\\frac{S_{ij}+ 1}{S_{ij} + S_{ji} + 2}\\right)\\right]_{n \\times n}$\n",
    "<br>\n",
    "<br>\n",
    "$\\text{where } h(x) = \\frac{1}{2} + \\frac{sgn\\{x - (1/2)\\}\\sqrt{|2x - 1|}}{2}$"
   ]
  },
  {
   "attachments": {},
   "cell_type": "markdown",
   "metadata": {
    "id": "1Psmm-FM-TvX"
   },
   "source": [
    "### Exercise 2: Complete the code (check 'TODO' comments) to get matrix A"
   ]
  },
  {
   "attachments": {},
   "cell_type": "markdown",
   "metadata": {
    "id": "3PuTX-UTkhkJ"
   },
   "source": [
    "#### Calculate the Numerator"
   ]
  },
  {
   "cell_type": "code",
   "execution_count": null,
   "metadata": {
    "colab": {
     "base_uri": "https://localhost:8080/"
    },
    "id": "kty7dTM2jUy1",
    "outputId": "17a0ad05-3cc3-40a4-a36b-023433926a70"
   },
   "outputs": [],
   "source": [
    "A_numerator = S_dataframe.copy().to_numpy() + 1\n",
    "\n",
    "A_numerator"
   ]
  },
  {
   "attachments": {},
   "cell_type": "markdown",
   "metadata": {
    "id": "H5cVtRimkoBO"
   },
   "source": [
    "### Calculate the Denominator"
   ]
  },
  {
   "cell_type": "code",
   "execution_count": null,
   "metadata": {
    "id": "MKAapJgf2xWF"
   },
   "outputs": [],
   "source": [
    "A_denominator = S_dataframe.copy().to_numpy()\n",
    "\n",
    "A_denominator += A_denominator.T\n",
    "\n",
    "A_denominator += 2"
   ]
  },
  {
   "attachments": {},
   "cell_type": "markdown",
   "metadata": {
    "id": "TP8Y5I2OkryI"
   },
   "source": [
    "### Calculate A"
   ]
  },
  {
   "cell_type": "code",
   "execution_count": null,
   "metadata": {
    "id": "SUZf7EwcoghP"
   },
   "outputs": [],
   "source": [
    "A = np.divide(A_numerator, A_denominator)"
   ]
  },
  {
   "attachments": {},
   "cell_type": "markdown",
   "metadata": {
    "id": "ziSNYsBmlzQz"
   },
   "source": [
    "### Apply skewing to A\n",
    "\n",
    "Please see the Numpy [vectorize documentation](https://numpy.org/doc/stable/reference/generated/numpy.vectorize.html) and [Generalized Universal Function API documentation](https://numpy.org/doc/stable/reference/c-api/generalized-ufuncs.html)."
   ]
  },
  {
   "cell_type": "code",
   "execution_count": null,
   "metadata": {
    "id": "9BuVagUlo9rU"
   },
   "outputs": [],
   "source": [
    "def skewing_function(x: float) -> float:\n",
    "    \"\"\"\n",
    "    Function proposed by Keener to skew the data of\n",
    "    matrix A calculated above.\n",
    "\n",
    "    :parameter x: A single entry of matrix A.\n",
    "\n",
    "    :return: The transformed entry passed through the skewing function\n",
    "    \"\"\"\n",
    "    numerator = np.sign(x - 0.5) * np.sqrt(np.abs(2 * x - 1))\n",
    "    return 0.5 + numerator / 2\n",
    "\n",
    "# Vectorize the skewing function for applying it to a numpy array\n",
    "ufunc_skewing_function = np.vectorize(skewing_function)\n",
    "\n",
    "A = ufunc_skewing_function(A)\n",
    "\n",
    "# Uncomment if you want to inspect the final A matrix\n",
    "# A"
   ]
  },
  {
   "attachments": {},
   "cell_type": "markdown",
   "metadata": {
    "id": "9digcqbdmaub"
   },
   "source": [
    "## Calculate Eigenvalues and Eigenvectors\n",
    "\n",
    "Numpy [documentation on eigenvalues and eigenvectors](https://numpy.org/doc/stable/reference/generated/numpy.linalg.eig.html)"
   ]
  },
  {
   "attachments": {},
   "cell_type": "markdown",
   "metadata": {
    "id": "h3GHXM1emxpb"
   },
   "source": [
    "$\\mathbf{A} \\mathbf{r} = λ \\mathbf{r}, \\mathbf{r} > 0 \\text{ and } \\sum_{j=1}^{n}r_j = 1$\n",
    "\n",
    "\n",
    "$\\lambda:$ Perron's value (the *dominant* eigenvalue)\n",
    "\n",
    "$\\mathbf{r:}$ Perron vector (dominant eigenvector)\n",
    "\n",
    "\n",
    "Looking for the Ratings Vector:\n",
    "\n",
    "$\\\\\\mathbf{r}_{n \\times 1} = \\begin{pmatrix}\n",
    "r_1\\\\\n",
    "r_2\\\\\n",
    "r_3\\\\\n",
    "\\vdots \\\\\n",
    "r_n\n",
    "\\end{pmatrix}$"
   ]
  },
  {
   "attachments": {},
   "cell_type": "markdown",
   "metadata": {
    "id": "1FCJBl8Y_Bzt"
   },
   "source": [
    "### Exercise 3: Compute eigenvalues and eigenvectors of A and pick the largest eigenvalue"
   ]
  },
  {
   "cell_type": "code",
   "execution_count": null,
   "metadata": {
    "id": "5e86hwI9q26q"
   },
   "outputs": [],
   "source": [
    "eigenvals, eigenvecs = np.linalg.eig(A)\n",
    "\n",
    "max_eigenvalue_index = np.argmax(eigenvals)"
   ]
  },
  {
   "attachments": {},
   "cell_type": "markdown",
   "metadata": {
    "id": "DyF1IoxaqnNn"
   },
   "source": [
    "#### A crucial condition: the dominant eigenvalue must be a real number: its imaginary part must be 0."
   ]
  },
  {
   "cell_type": "code",
   "execution_count": null,
   "metadata": {
    "colab": {
     "base_uri": "https://localhost:8080/"
    },
    "id": "K5Lo72k0qkOe",
    "outputId": "0738c9f8-5d98-4f4b-8a7d-d7d4979f5edf"
   },
   "outputs": [],
   "source": [
    "eigenvals[max_eigenvalue_index]"
   ]
  },
  {
   "attachments": {},
   "cell_type": "markdown",
   "metadata": {
    "id": "LTwHqVJcudzM"
   },
   "source": [
    "#### Save the Perron value as a float"
   ]
  },
  {
   "cell_type": "code",
   "execution_count": null,
   "metadata": {
    "colab": {
     "base_uri": "https://localhost:8080/"
    },
    "id": "J5iaFlUJq5p7",
    "outputId": "610c72bb-3100-4255-c082-53ea7b6f455f"
   },
   "outputs": [],
   "source": [
    "perron_value = float(eigenvals[max_eigenvalue_index])\n",
    "\n",
    "print(f\"Perron value: {perron_value}\")"
   ]
  },
  {
   "attachments": {},
   "cell_type": "markdown",
   "metadata": {
    "id": "plV3Thn6quuf"
   },
   "source": [
    "#### Also the dominant eigenvector must be real: all entries must have imaginary part 0."
   ]
  },
  {
   "cell_type": "code",
   "execution_count": null,
   "metadata": {
    "colab": {
     "base_uri": "https://localhost:8080/"
    },
    "id": "QYMB4yNpq07n",
    "outputId": "1c4dc452-4381-458f-9914-f11517858d6f"
   },
   "outputs": [],
   "source": [
    "eigenvecs[: , max_eigenvalue_index].reshape(-1, 1)"
   ]
  },
  {
   "attachments": {},
   "cell_type": "markdown",
   "metadata": {
    "id": "eJf0GgqsuqVR"
   },
   "source": [
    "#### Save the real part of the dominant eigenvector entries\n",
    "\n",
    "This is not the Perron vector yet (we could get all entries as negatives). \n",
    "\n",
    "We use the *Brute Force* technique described in Keener chapter of the textbook to convert this vector into a Perron vector."
   ]
  },
  {
   "cell_type": "code",
   "execution_count": null,
   "metadata": {
    "colab": {
     "base_uri": "https://localhost:8080/"
    },
    "id": "9iYT9ABFrTpJ",
    "outputId": "e2e83979-f12c-40da-8711-c0deb0bf029b"
   },
   "outputs": [],
   "source": [
    "dominant_eigenvector = eigenvecs[: , 0].reshape(-1, 1).astype(float)\n",
    "\n",
    "dominant_eigenvector"
   ]
  },
  {
   "attachments": {},
   "cell_type": "markdown",
   "metadata": {
    "id": "C5EOOwS7uxsN"
   },
   "source": [
    "#### Normalise the actual Perron vector so that ratings sum to 1"
   ]
  },
  {
   "cell_type": "code",
   "execution_count": null,
   "metadata": {
    "id": "ZBa-r63tu-jJ"
   },
   "outputs": [],
   "source": [
    "# Divide by sum so that all ratings sum to 1\n",
    "perron_vector = dominant_eigenvector / np.sum(dominant_eigenvector)"
   ]
  },
  {
   "cell_type": "code",
   "execution_count": null,
   "metadata": {
    "id": "8tVNJ6xCvJuN"
   },
   "outputs": [],
   "source": [
    "match_grid[\"Keener_Rating\"] = perron_vector"
   ]
  },
  {
   "cell_type": "code",
   "execution_count": null,
   "metadata": {
    "colab": {
     "base_uri": "https://localhost:8080/"
    },
    "id": "7Rxg5C3Er9cf",
    "outputId": "1405dd46-4b75-41c6-c1d9-6f7f174515db"
   },
   "outputs": [],
   "source": [
    "match_grid[\"Keener_Rating\"]"
   ]
  },
  {
   "attachments": {},
   "cell_type": "markdown",
   "metadata": {
    "id": "U_xuhndOu5ul"
   },
   "source": [
    "#### Use a MinMaxScaler to scale Keener ratings between 0 and 100 for plotting."
   ]
  },
  {
   "cell_type": "code",
   "execution_count": null,
   "metadata": {
    "id": "07xfQX86dkHS"
   },
   "outputs": [],
   "source": [
    "# Scale the ratings between 100 (top team) and 0 (weakest team).\n",
    "# MinMaxScaler accepts a tuple (min, max) as input argument to define the range.\n",
    "min_max_scaler = MinMaxScaler((0, 100))\n",
    "\n",
    "match_grid[\"Keener_Scaled_Rating\"] = min_max_scaler.fit_transform(\n",
    "    match_grid.loc[:, \"Keener_Rating\"].values.reshape(-1, 1)\n",
    "    )\n",
    "\n",
    "# Sort by Keener rating - strongest team on top, assign Keener ranking\n",
    "match_grid = match_grid.sort_values(\"Keener_Rating\", ascending=False)\n",
    "\n",
    "match_grid[\"Keener_Ranking\"] = np.arange(1, 21)"
   ]
  },
  {
   "cell_type": "code",
   "execution_count": null,
   "metadata": {
    "colab": {
     "base_uri": "https://localhost:8080/",
     "height": 984
    },
    "id": "EESu8Lm5eipZ",
    "outputId": "fd76b44e-3509-4139-8666-e73ab75a8432"
   },
   "outputs": [],
   "source": [
    "match_grid"
   ]
  },
  {
   "attachments": {},
   "cell_type": "markdown",
   "metadata": {
    "id": "8g8AtyFSvIqH"
   },
   "source": [
    "#### Import the league table to get actual rankings and points scored\n",
    "\n",
    "As the match grid does not contain the actual points scored per team, we have to import the league table."
   ]
  },
  {
   "cell_type": "code",
   "execution_count": null,
   "metadata": {
    "colab": {
     "base_uri": "https://localhost:8080/",
     "height": 677
    },
    "id": "4A5QfdS7e5li",
    "outputId": "f4deb8fc-f14d-4812-ccc0-cdd1269e31a0"
   },
   "outputs": [],
   "source": [
    "# Read the league table data - skip the first row\n",
    "league_table = pd.read_csv(current_league_table_file, skiprows=1)\n",
    "\n",
    "league_table[\"Actual_Ranking\"] = np.arange(1, 21)\n",
    "\n",
    "league_table"
   ]
  },
  {
   "attachments": {},
   "cell_type": "markdown",
   "metadata": {
    "id": "gfIGVe5Vw7M9"
   },
   "source": [
    "#### We keep only teams, actual ranking and points."
   ]
  },
  {
   "cell_type": "code",
   "execution_count": null,
   "metadata": {
    "colab": {
     "base_uri": "https://localhost:8080/",
     "height": 708
    },
    "id": "fWHQqHyIfBK5",
    "outputId": "9465caa1-a1bc-4645-d102-d79f9840d7aa"
   },
   "outputs": [],
   "source": [
    "required_cols = [\"Unnamed: 1\", \"Pts\", \"Actual_Ranking\"]\n",
    "\n",
    "renaming = {\"Unnamed: 1\": \"Teams\", \"Pts\": \"Points\"}\n",
    "\n",
    "# Make a copy of the league table, keeping only the necessary columns renamed\n",
    "# Index is reset as the teams for the table join below\n",
    "league_table = (\n",
    "    league_table\n",
    "    .loc[:, required_cols]\n",
    "    .copy()\n",
    "    .rename(columns=renaming)\n",
    "    .set_index(\"Teams\")\n",
    ")\n",
    "\n",
    "league_table"
   ]
  },
  {
   "attachments": {},
   "cell_type": "markdown",
   "metadata": {
    "id": "rXlmZzJxvQDJ"
   },
   "source": [
    "#### Join the match grid that holds Keener ratings with the league table and the actual ratings based on team names"
   ]
  },
  {
   "cell_type": "code",
   "execution_count": null,
   "metadata": {
    "colab": {
     "base_uri": "https://localhost:8080/",
     "height": 984
    },
    "id": "JolTuS2WfbnU",
    "outputId": "c12f168e-1519-4871-84a6-f9731d0826c8"
   },
   "outputs": [],
   "source": [
    "match_grid = match_grid.join(league_table)\n",
    "\n",
    "match_grid"
   ]
  },
  {
   "attachments": {},
   "cell_type": "markdown",
   "metadata": {
    "id": "gwrVzRSa5252"
   },
   "source": [
    "#### Add Keener to the dataset that holds results from Massey"
   ]
  },
  {
   "cell_type": "code",
   "execution_count": null,
   "metadata": {
    "colab": {
     "base_uri": "https://localhost:8080/",
     "height": 966
    },
    "id": "lS_iK8nc51tk",
    "outputId": "4abf9a2e-6421-415c-c9ce-986881eb46e3"
   },
   "outputs": [],
   "source": [
    "cols_to_keep = [\n",
    "    \"Keener_Rating\", \n",
    "    \"Keener_Scaled_Rating\", \n",
    "    \"Keener_Ranking\"\n",
    "    ]\n",
    "\n",
    "# Data needed from Keener output - sort by actual ranking first\n",
    "data_to_keep = (\n",
    "    match_grid\n",
    "    .sort_values(\"Actual_Ranking\", ascending=True)\n",
    "    .loc[:, cols_to_keep]\n",
    "    .copy()\n",
    "    .reset_index(drop=False)\n",
    "    .rename(columns={\"index\": \"Teams\"})\n",
    "    )\n",
    "\n",
    "compiled_results = (compiled_results.merge(data_to_keep, on=\"Teams\"))\n",
    "\n",
    "compiled_results"
   ]
  },
  {
   "attachments": {},
   "cell_type": "markdown",
   "metadata": {
    "id": "Vruqnmrxx59c"
   },
   "source": [
    "#### Plot Keener's scaled rating and ranking side by side with actual ranking and points scored"
   ]
  },
  {
   "cell_type": "code",
   "execution_count": null,
   "metadata": {
    "colab": {
     "base_uri": "https://localhost:8080/",
     "height": 367
    },
    "id": "jkGHCrUarbdF",
    "outputId": "0dc02808-c538-4884-cb35-521d1d7260cf"
   },
   "outputs": [],
   "source": [
    "# Initialize grid of plots\n",
    "_, axis = plt.subplots(nrows=1, ncols=2, figsize=(12, 4), dpi=160)\n",
    "\n",
    "# Plot Keener scaled rating - plot 0, row 0\n",
    "axis[0].barh(\n",
    "    match_grid[\"Keener_Ranking\"], \n",
    "    match_grid[\"Keener_Scaled_Rating\"], \n",
    "    height=0.6, align='center'\n",
    "    )\n",
    "\n",
    "# Configure y axis\n",
    "axis[0].set_yticks(\n",
    "    match_grid[\"Keener_Ranking\"], \n",
    "    labels=match_grid.index,\n",
    "    fontsize=7\n",
    "    )\n",
    "\n",
    "axis[0].invert_yaxis()  # labels read top-to-bottom\n",
    "\n",
    "# X-axis and title\n",
    "axis[0].tick_params(axis=\"x\", labelsize=6)\n",
    "axis[0].set_xlabel('Keener Scaled Rating', fontsize=8)\n",
    "axis[0].set_title(f'Season {current_season} Keener Scaled Rating', fontsize=8)\n",
    "\n",
    "# Plot actual ranking and point scored - plot 1, row 0\n",
    "axis[1].barh(\n",
    "    match_grid[\"Actual_Ranking\"], \n",
    "    match_grid[\"Points\"], \n",
    "    height=0.6, align='center'\n",
    "    )\n",
    "\n",
    "# Configure y axis\n",
    "axis[1].set_yticks(\n",
    "    match_grid[\"Actual_Ranking\"], \n",
    "    labels=match_grid.index,\n",
    "    fontsize=7\n",
    "    )\n",
    "axis[1].invert_yaxis()  # labels read top-to-bottom\n",
    "\n",
    "# X-axis and title\n",
    "axis[1].tick_params(axis=\"x\", labelsize=6)\n",
    "axis[1].set_xlabel('Actual Points', fontsize=8)\n",
    "axis[1].set_title(f'Season {current_season} Points Scored', fontsize=8)\n",
    "\n",
    "# Use 'tight_layout' to avoid overlapping text\n",
    "plt.tight_layout()\n",
    "plt.show()"
   ]
  },
  {
   "attachments": {},
   "cell_type": "markdown",
   "metadata": {
    "id": "oGKL08ROx59x"
   },
   "source": [
    "#### Get rankings from all methods in a new table"
   ]
  },
  {
   "cell_type": "code",
   "execution_count": null,
   "metadata": {
    "colab": {
     "base_uri": "https://localhost:8080/",
     "height": 677
    },
    "id": "la5TT3yB85s9",
    "outputId": "31b2c79f-fb57-4b08-84f0-3258a2cfaacc"
   },
   "outputs": [],
   "source": [
    "rankings = [\n",
    "    \"Teams\", \n",
    "    \"Actual_Ranking\", \n",
    "    \"Massey_Ranking\",\n",
    "    \"Keener_Ranking\"\n",
    "    ]\n",
    "\n",
    "ranks_df = compiled_results.loc[:, rankings].copy().set_index(\"Teams\")\n",
    "\n",
    "ranks_df"
   ]
  },
  {
   "cell_type": "code",
   "execution_count": null,
   "metadata": {
    "colab": {
     "base_uri": "https://localhost:8080/",
     "height": 175
    },
    "id": "m6JN4kBz9c3L",
    "outputId": "f544fa85-3bf2-4660-9bb9-20ef4f6511d2"
   },
   "outputs": [],
   "source": [
    "ranks_df.corr()"
   ]
  },
  {
   "attachments": {},
   "cell_type": "markdown",
   "metadata": {
    "id": "jqWQQVATyUny"
   },
   "source": [
    "#### Import the table of the subsequent season to check"
   ]
  },
  {
   "cell_type": "code",
   "execution_count": null,
   "metadata": {
    "id": "2Uou9aDN-C0h"
   },
   "outputs": [],
   "source": [
    "# Read the league table data - skip the first row\n",
    "next_league_table = pd.read_csv(coming_league_table_file, skiprows=1)\n",
    "next_league_table[\"Actual_Ranking\"] = np.arange(1, 21)\n",
    "\n",
    "# Uncomment if you want to see the raw table\n",
    "# league_table"
   ]
  },
  {
   "attachments": {},
   "cell_type": "markdown",
   "metadata": {
    "id": "wCOTW-1Mym5-"
   },
   "source": [
    "#### Keep some of the columns and rename them"
   ]
  },
  {
   "cell_type": "code",
   "execution_count": null,
   "metadata": {
    "colab": {
     "base_uri": "https://localhost:8080/",
     "height": 897
    },
    "id": "1QFVh7Rl-86S",
    "outputId": "69abb216-c16a-4b7c-ebd4-34f6e4eb3f6a"
   },
   "outputs": [],
   "source": [
    "required_cols = [\"Unnamed: 1\", \"P.2\", \"W.2\", \"D.2\", \"L.2\", \"F\", \"A\", \"+/-\", \"Pts\", \"Actual_Ranking\"]\n",
    "\n",
    "renaming = {\n",
    "    \"Unnamed: 1\": \"Teams\", \n",
    "    \"P.2\": \"Total_Matches_Played\", \n",
    "    \"W.2\": \"Total_Wins\",\n",
    "    \"D.2\": \"Total_Draws\",\n",
    "    \"L.2\": \"Total_Losses\",\n",
    "    \"F\": \"Goals_Scored\",\n",
    "    \"A\": \"Goals_Conceded\",\n",
    "    \"+/-\": \"Goal_Difference\",\n",
    "    \"Pts\": \"Points\"\n",
    "    }\n",
    "\n",
    "# Make a copy of the league table, keeping only the necessary columns renamed\n",
    "next_league_table = (\n",
    "    next_league_table\n",
    "    .loc[:, required_cols]\n",
    "    .copy()\n",
    "    .rename(columns=renaming)\n",
    ")\n",
    "\n",
    "next_league_table"
   ]
  },
  {
   "attachments": {},
   "cell_type": "markdown",
   "metadata": {
    "id": "s1-bhfIzy0Ww"
   },
   "source": [
    "#### Recall estimated rankings from Massey and Keener"
   ]
  },
  {
   "cell_type": "code",
   "execution_count": null,
   "metadata": {
    "colab": {
     "base_uri": "https://localhost:8080/",
     "height": 677
    },
    "id": "_XCcTIhj_DtS",
    "outputId": "aca14fe5-10a2-4d34-ddb7-e26784b0495f"
   },
   "outputs": [],
   "source": [
    "ranks_df"
   ]
  }
 ],
 "metadata": {
  "colab": {
   "provenance": []
  },
  "kernelspec": {
   "display_name": "Python 3",
   "name": "python3"
  },
  "language_info": {
   "codemirror_mode": {
    "name": "ipython",
    "version": 3
   },
   "file_extension": ".py",
   "mimetype": "text/x-python",
   "name": "python",
   "nbconvert_exporter": "python",
   "pygments_lexer": "ipython3",
   "version": "3.12.4"
  }
 },
 "nbformat": 4,
 "nbformat_minor": 0
}