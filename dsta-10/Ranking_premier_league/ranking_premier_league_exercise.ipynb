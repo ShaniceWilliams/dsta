{
  "cells": [
    {
      "attachments": {},
      "cell_type": "markdown",
      "metadata": {
        "id": "EZwIXXrZsA_R"
      },
      "source": [
        "# DSTA: Exercise\n",
        "\n",
        "## Rating and Ranking with Massey, Colley and Keener Methods: \n",
        "\n",
        "### The Premier League case \n",
        "\n",
        "We will analyse Premier League results for these three interesting seasons:\n",
        "\n",
        "1.   2017 - 2018\n",
        "2.   2018 - 2019\n",
        "3.   2019 - 2020\n",
        "\n",
        "\n",
        "Results have been downloaded from [this webpage](https://www.footballwebpages.co.uk/premier-league/match-grid/2021-2022)"
      ]
    },
    {
      "attachments": {},
      "cell_type": "markdown",
      "metadata": {
        "id": "nCJ_gouYi8xi"
      },
      "source": [
        "## Import necessary Python packages"
      ]
    },
    {
      "cell_type": "code",
      "execution_count": null,
      "metadata": {
        "id": "zp_ESJUYr5Mb"
      },
      "outputs": [],
      "source": [
        "import numpy as np\n",
        "import pandas as pd\n",
        "import matplotlib.pyplot as plt\n",
        "from sklearn.preprocessing import MinMaxScaler"
      ]
    },
    {
      "attachments": {},
      "cell_type": "markdown",
      "metadata": {
        "id": "ME3iGaXyjC9Z"
      },
      "source": [
        "## Set pandas and numpy options for printing results"
      ]
    },
    {
      "cell_type": "code",
      "execution_count": null,
      "metadata": {
        "id": "NGdD2i0HDYEN"
      },
      "outputs": [],
      "source": [
        "np.set_printoptions(linewidth=1000)\n",
        "\n",
        "pd.set_option('display.max_rows', None)\n",
        "pd.set_option('display.max_columns', None)\n",
        "pd.set_option('display.width', 1000)\n",
        "pd.set_option('display.colheader_justify', 'center')"
      ]
    },
    {
      "attachments": {},
      "cell_type": "markdown",
      "metadata": {
        "id": "U5dTWY8jij0H"
      },
      "source": [
        "## Premier League Champions:\n",
        "\n",
        "*   **2017 - 2018**: Manchester City (19 points gap from the second team, Manchester United)\n",
        "*   **2018 - 2019**: Manchester City (1 point gap from Liverpool that finished second)\n",
        "*   **2019 - 2020**: Liverpool (18 points gap from Manchester City that finished second)\n",
        "\n"
      ]
    },
    {
      "attachments": {},
      "cell_type": "markdown",
      "metadata": {
        "id": "TeKm7bZiichq"
      },
      "source": [
        "## File names"
      ]
    },
    {
      "cell_type": "code",
      "execution_count": null,
      "metadata": {
        "id": "OFBPvjCLhx99"
      },
      "outputs": [],
      "source": [
        "# League table files\n",
        "premier_league_table_2017_2018 = \"2017_2018_LeagueTable.csv\"\n",
        "premier_league_table_2018_2019 = \"2018_2019_LeagueTable.csv\"\n",
        "premier_league_table_2019_2020 = \"2019_2020_LeagueTable.csv\"\n",
        "\n",
        "# Match grid files\n",
        "premier_league_match_grid_2017_2018 = \"2017_2018_MatchGrid.csv\"\n",
        "premier_league_match_grid_2018_2019 = \"2018_2019_MatchGrid.csv\"\n",
        "premier_league_match_grid_2019_2020 = \"2019_2020_MatchGrid.csv\""
      ]
    },
    {
      "attachments": {},
      "cell_type": "markdown",
      "metadata": {
        "id": "ZEeBJchejTa6"
      },
      "source": [
        "## Set current working data files and next season files\n",
        "\n",
        "Hint: Change these variables in case you would like to rate / rank teams based on a different season and check the estimates against the actual rankings of the following season."
      ]
    },
    {
      "cell_type": "code",
      "execution_count": null,
      "metadata": {
        "id": "mj-LLbynjFT2"
      },
      "outputs": [],
      "source": [
        "# Current (working) season\n",
        "current_league_table_file = premier_league_table_2017_2018\n",
        "current_match_grid_file = premier_league_match_grid_2017_2018\n",
        "current_season = \"2017 - 2018\"\n",
        "\n",
        "# Next season\n",
        "coming_league_table_file = premier_league_table_2018_2019\n",
        "coming_match_grid_file = premier_league_match_grid_2018_2019\n",
        "coming_season = \"2018 - 2019\""
      ]
    },
    {
      "attachments": {},
      "cell_type": "markdown",
      "metadata": {
        "id": "BBvFE0k1kJWT"
      },
      "source": [
        "# 1 Massey from Premiership league table\n",
        "\n",
        "\n",
        "\n"
      ]
    },
    {
      "attachments": {},
      "cell_type": "markdown",
      "metadata": {
        "id": "JckRmnTaWiWW"
      },
      "source": [
        "## Import the league table of the \"current\" season"
      ]
    },
    {
      "cell_type": "code",
      "execution_count": null,
      "metadata": {
        "colab": {
          "base_uri": "https://localhost:8080/",
          "height": 677
        },
        "id": "EfA0WZYxfFAa",
        "outputId": "504e097c-2c77-43d6-cc1a-e1775848910b"
      },
      "outputs": [],
      "source": [
        "# Read the league table data - skip the first row\n",
        "league_table = pd.read_csv(current_league_table_file, skiprows=1)\n",
        "\n",
        "league_table[\"Actual_Ranking\"] = np.arange(1, 21)\n",
        "\n",
        "league_table"
      ]
    },
    {
      "attachments": {},
      "cell_type": "markdown",
      "metadata": {
        "id": "s1ZOhomKkbnV"
      },
      "source": [
        "## Keep columns about goals scored and rename for clarity"
      ]
    },
    {
      "cell_type": "code",
      "execution_count": null,
      "metadata": {
        "colab": {
          "base_uri": "https://localhost:8080/",
          "height": 677
        },
        "id": "l8-bVW5IfHG_",
        "outputId": "c9d4d058-4cdf-41a2-bcac-70ff786cf38a"
      },
      "outputs": [],
      "source": [
        "required_cols = [\"Unnamed: 1\", \"P.2\", \"F\", \"A\", \"+/-\", \"Pts\", \"Actual_Ranking\"]\n",
        "\n",
        "renaming = {\n",
        "    \"Unnamed: 1\": \"Teams\", \n",
        "    \"P.2\": \"Total_Matches_Played\", \n",
        "    \"F\": \"Goals_Scored\",\n",
        "    \"A\": \"Goals_Conceded\",\n",
        "    \"+/-\": \"Goal_Difference\",\n",
        "    \"Pts\": \"Points\"\n",
        "    }\n",
        "\n",
        "# Make a copy of the league table, keeping only the necessary columns renamed\n",
        "league_table = (\n",
        "    league_table\n",
        "    .loc[:, required_cols]\n",
        "    .copy()\n",
        "    .rename(columns=renaming)\n",
        ")\n",
        "\n",
        "league_table"
      ]
    },
    {
      "attachments": {},
      "cell_type": "markdown",
      "metadata": {
        "id": "tmq0iUrhXS12"
      },
      "source": [
        "## Create M and p matrices of Massey's method\n",
        "\n",
        "Below a refresher of the relevant formulas\n",
        "\n"
      ]
    },
    {
      "attachments": {},
      "cell_type": "markdown",
      "metadata": {
        "id": "E6pNd4-GWgdW"
      },
      "source": [
        "$$\n",
        "\\mathbf{M} \\mathbf{r} = \\mathbf{\\mathbf{p}}\n",
        "$$\n",
        "<br>\n",
        "<br>\n",
        "\n",
        "$$\\text{Massey Matrix - last row elements set to 1:}$$\n",
        "<br>\n",
        "$$\n",
        "\\mathbf{M}_{n \\times n} = \\begin{pmatrix}\n",
        "  38 & -2 & -2 & \\dots & -2\\\\\n",
        "  -2 & 38 & -2 & \\dots & -2\\\\\n",
        "  -2 & -2 & 38 & \\dots & -2\\\\\n",
        "  \\vdots & \\vdots & \\vdots & \\ddots & -2\\\\\n",
        "  1 & 1 & 1 & \\dots & 1\\\\\n",
        "  \\end{pmatrix}$$\n",
        "<br>\n",
        "<br>\n",
        "\n",
        "$$\\text{Goal Difference Column Vector:}$$\n",
        "<br>\n",
        "$$\\mathbf{\\mathbf{p}}_{n \\times 1} = \\begin{pmatrix}\n",
        "p_1\\\\\n",
        "p_2\\\\\n",
        "p_3\\\\\n",
        "\\vdots \\\\\n",
        "p_n\n",
        "\\end{pmatrix}$$\n",
        "<br>\n",
        "\n",
        "$$\\text{Looking for the Ratings Vector:}$$\n",
        "<br>\n",
        "$$\\\\\\mathbf{r}_{n \\times 1} = \\begin{pmatrix}\n",
        "r_1\\\\\n",
        "r_2\\\\\n",
        "r_3\\\\\n",
        "\\vdots \\\\\n",
        "r_n\n",
        "\\end{pmatrix}$$\n",
        "<br>\n",
        "\n",
        "$$\\text{Solution: }  \\mathbf{r} = \\mathbf{M}^{-1} \\mathbf{p}$$"
      ]
    },
    {
      "cell_type": "code",
      "execution_count": null,
      "metadata": {
        "id": "IdapcW49_3Ge"
      },
      "outputs": [],
      "source": [
        "# Useful constants\n",
        "N_TEAMS = len(league_table)\n",
        "\n",
        "MATCHES_PLAYED_PER_TEAM = 2 * (N_TEAMS - 1)\n",
        "\n",
        "# Create M matrix: non-diagonal elements are the negated number of matches\n",
        "# played between each pair of teams. Diagonal elements are the total matches\n",
        "# played per team (both home and away).\n",
        "M = -2 * np.ones((N_TEAMS, N_TEAMS))\n",
        "\n",
        "diagonal = np.ones((1, N_TEAMS)) * MATCHES_PLAYED_PER_TEAM\n",
        "\n",
        "last_row = np.ones((1, N_TEAMS))\n",
        "\n",
        "M[-1:] = last_row\n",
        "\n",
        "np.fill_diagonal(M, diagonal)\n",
        "\n",
        "# Create p column vector with goal difference. Shape: (N_TEAMS, 1)\n",
        "p = league_table[\"Goal_Difference\"].to_numpy().reshape((-1, 1))"
      ]
    },
    {
      "attachments": {},
      "cell_type": "markdown",
      "metadata": {
        "id": "tkv9z2iFXckk"
      },
      "source": [
        "## Solve the system and calculate Massey rankings and ratings - use MinMaxScaler for easier plotting of ratings further below\n",
        "\n",
        "[Link](https://scikit-learn.org/stable/modules/generated/sklearn.preprocessing.MinMaxScaler.html) for sklearn MinMaxScaler documentation"
      ]
    },
    {
      "cell_type": "code",
      "execution_count": null,
      "metadata": {
        "id": "oX5GzSQ3HYjE"
      },
      "outputs": [],
      "source": [
        "# Solve the equation system to calculate ratings and add them to the data\n",
        "r = np.linalg.inv(M).dot(p)\n",
        "\n",
        "league_table[\"Massey_Rating\"] = r\n",
        "\n",
        "# Scale the ratings between 100 (top team) and 0 (weakest team).\n",
        "# MinMaxScaler accepts a tuple (min, max) as input argument to define the range.\n",
        "min_max_scaler = MinMaxScaler((0, 100))\n",
        "league_table[\"Scaled_Massey_Rating\"] = min_max_scaler.fit_transform(\n",
        "    league_table.loc[:, \"Massey_Rating\"].to_numpy().reshape(-1, 1)\n",
        ")\n",
        "\n",
        "# Sort the data by calculated ratings and get Massey ranking\n",
        "league_table = league_table.sort_values(\"Massey_Rating\", ascending=False)\n",
        "league_table[\"Massey_Ranking\"] = np.arange(1, 21)"
      ]
    },
    {
      "attachments": {},
      "cell_type": "markdown",
      "metadata": {
        "id": "2QaauNBc2b7f"
      },
      "source": [
        "## Keep a data copy to compile ratings and rankings from all methods"
      ]
    },
    {
      "cell_type": "code",
      "execution_count": null,
      "metadata": {
        "id": "I7FJWOoFjDcK"
      },
      "outputs": [],
      "source": [
        "compiled_results = (\n",
        "    league_table\n",
        "    .sort_values(\"Actual_Ranking\", ascending=True)\n",
        "    .copy()\n",
        "    )"
      ]
    },
    {
      "cell_type": "code",
      "execution_count": null,
      "metadata": {
        "id": "1C9JLr7x3e-l"
      },
      "outputs": [],
      "source": [
        "# Run this if you would like to check the \"compiled_results\"\n",
        "compiled_results"
      ]
    },
    {
      "attachments": {},
      "cell_type": "markdown",
      "metadata": {
        "id": "NxcZGabfYU-8"
      },
      "source": [
        "## Plot Massey scaled rating and ranking side by side with actual ranking and points scored\n",
        "\n",
        "Documentation for [matplotlib.pyplot horizontal bar plots](https://matplotlib.org/stable/api/_as_gen/matplotlib.pyplot.barh.html)"
      ]
    },
    {
      "cell_type": "code",
      "execution_count": null,
      "metadata": {
        "colab": {
          "base_uri": "https://localhost:8080/",
          "height": 367
        },
        "id": "eMTwpkZHKv2S",
        "outputId": "f3b84c9e-0ee3-409b-e815-ea015a4c0a85"
      },
      "outputs": [],
      "source": [
        "# Initialize grid of plots\n",
        "figure, axis = plt.subplots(nrows=1, ncols=2, figsize=(12, 4), dpi=160)\n",
        "\n",
        "# Plot Massey scaled rating - plot 0, row 0\n",
        "axis[0].barh(\n",
        "    league_table[\"Massey_Ranking\"], \n",
        "    league_table[\"Scaled_Massey_Rating\"], \n",
        "    height=0.6, align='center'\n",
        "    )\n",
        "\n",
        "# Configure y axis\n",
        "axis[0].set_yticks(\n",
        "    league_table[\"Massey_Ranking\"], \n",
        "    labels=league_table[\"Teams\"],\n",
        "    fontsize=7\n",
        "    )\n",
        "axis[0].invert_yaxis()  # labels read top-to-bottom\n",
        "\n",
        "# X axis and title\n",
        "axis[0].tick_params(axis=\"x\", labelsize=6)\n",
        "axis[0].set_xlabel('Massey Scaled Rating', fontsize=8)\n",
        "axis[0].set_title(f'Season {current_season} Massey Scaled Rating', fontsize=8)\n",
        "\n",
        "# Plot actual ranking and points scored - plot 1, row 0\n",
        "axis[1].barh(\n",
        "    league_table[\"Actual_Ranking\"], \n",
        "    league_table[\"Points\"], \n",
        "    height=0.6, align='center'\n",
        "    )\n",
        "\n",
        "# Configure y axis\n",
        "axis[1].set_yticks(\n",
        "    league_table[\"Actual_Ranking\"], \n",
        "    labels=league_table[\"Teams\"],\n",
        "    fontsize=7\n",
        "    )\n",
        "axis[1].invert_yaxis()  # labels read top-to-bottom\n",
        "\n",
        "# X axis and title\n",
        "axis[1].tick_params(axis=\"x\", labelsize=6)\n",
        "axis[1].set_xlabel('Actual Points', fontsize=8)\n",
        "axis[1].set_title(f'Season {current_season} Points Scored', fontsize=8)\n",
        "\n",
        "# Use 'tight_layout' to avoid overlapping text\n",
        "plt.tight_layout()\n",
        "plt.show()"
      ]
    },
    {
      "attachments": {},
      "cell_type": "markdown",
      "metadata": {
        "id": "nv5J_2MqcH_l"
      },
      "source": [
        "# 2. Colley"
      ]
    },
    {
      "attachments": {},
      "cell_type": "markdown",
      "metadata": {
        "id": "YMXiSk1qmKRZ"
      },
      "source": [
        "## Read league table, keep columns relevant to wins and losses, and rename them"
      ]
    },
    {
      "cell_type": "code",
      "execution_count": null,
      "metadata": {
        "id": "xqmLxhuvcMYy"
      },
      "outputs": [],
      "source": [
        "# Read the league table data - skip the first row\n",
        "league_table = pd.read_csv(\"2017_2018_LeagueTable.csv\", skiprows=1)\n",
        "league_table[\"Actual_Ranking\"] = np.arange(1, 21)"
      ]
    },
    {
      "cell_type": "code",
      "execution_count": null,
      "metadata": {
        "colab": {
          "base_uri": "https://localhost:8080/",
          "height": 677
        },
        "id": "FRzGkOnihht2",
        "outputId": "c79d0108-0767-412c-f505-aeade38254e6"
      },
      "outputs": [],
      "source": [
        "required_cols = [\"Unnamed: 1\", \"P.2\", \"W.2\", \"D.2\", \"L.2\", \"Pts\", \"Actual_Ranking\"]\n",
        "renaming = {\n",
        "    \"Unnamed: 1\": \"Teams\", \n",
        "    \"P.2\": \"Total_Matches_Played\", \n",
        "    \"W.2\": \"Wins\",\n",
        "    \"D.2\": \"Draws\",\n",
        "    \"L.2\": \"Losses\",\n",
        "    \"Pts\": \"Points\"\n",
        "    }\n",
        "\n",
        "league_table = (\n",
        "    league_table\n",
        "    .loc[:, required_cols]\n",
        "    .copy()\n",
        "    .rename(columns=renaming)\n",
        ")\n",
        "\n",
        "league_table"
      ]
    },
    {
      "attachments": {},
      "cell_type": "markdown",
      "metadata": {
        "id": "RncQvDQgjVQC"
      },
      "source": [
        "## Create C and b matrices of Colley's method\n",
        "\n",
        "Below a refresher of the relevant formulas"
      ]
    },
    {
      "attachments": {},
      "cell_type": "markdown",
      "metadata": {
        "id": "7ZV0MtShZsWe"
      },
      "source": [
        "$$\n",
        "\\mathbf{C} \\mathbf{r} = \\mathbf{\\mathbf{b}}\n",
        "$$\n",
        "<br>\n",
        "\n",
        "$$\n",
        "\\mathbf{C}_{n \\times n} = \\begin{pmatrix}\n",
        "  40 & -2 & -2 & \\dots & -2\\\\\n",
        "  -2 & 40 & -2 & \\dots & -2\\\\\n",
        "  -2 & -2 & 40 & \\dots & -2\\\\\n",
        "  \\vdots & \\vdots & \\vdots & \\ddots & -2\\\\\n",
        "  -2 & -2 & -2 & \\dots & 40\\\\\n",
        "  \\end{pmatrix}$$\n",
        "<br>\n",
        "\n",
        "$$\\text{Wins - Losses Difference Column Vector:}$$\n",
        "$$\\mathbf{\\mathbf{b}}_{n \\times 1} = \\begin{pmatrix}\n",
        "b_1\\\\\n",
        "b_2\\\\\n",
        "b_3\\\\\n",
        "\\vdots \\\\\n",
        "b_n\n",
        "\\end{pmatrix}$$\n",
        "<br>\n",
        "\n",
        "$$\\text{Looking for the Ratings Vector:}$$\n",
        "$$\\\\\\mathbf{r}_{n \\times 1} = \\begin{pmatrix}\n",
        "r_1\\\\\n",
        "r_2\\\\\n",
        "r_3\\\\\n",
        "\\vdots \\\\\n",
        "r_n\n",
        "\\end{pmatrix}$$\n",
        "<br>\n",
        "\n",
        "$$\\text{Solution: }  \\mathbf{r} = \\mathbf{C}^{-1} \\mathbf{b}$$"
      ]
    },
    {
      "attachments": {},
      "cell_type": "markdown",
      "metadata": {
        "id": "yibxhcYjz4cp"
      },
      "source": [
        "## Exercise 1: Complete the code to create matrix C and vector b in the cell below and solve the system"
      ]
    },
    {
      "cell_type": "code",
      "execution_count": null,
      "metadata": {
        "id": "os7IXaamjSMA"
      },
      "outputs": [],
      "source": [
        "# Useful constants\n",
        "N_TEAMS = len(league_table)\n",
        "MATCHES_PLAYED_PER_TEAM = 2 * (N_TEAMS - 1)\n",
        "\n",
        "# Create C matrix: non-diagonal elements are the negated number of matches\n",
        "# played between each pair of teams. Diagonal elements are the total matches\n",
        "# played per team (both home and away) plus 2.\n",
        "# TODO: Write your code here\n",
        "\n",
        "# Create B column vector with goal difference. Shape: (N_TEAMS, 1)\n",
        "# TODO: Write your code here\n",
        "\n",
        "# reshape B to be a column vector of (N_TEAMS, 1)\n",
        "# TODO: Write your code here"
      ]
    },
    {
      "cell_type": "code",
      "execution_count": null,
      "metadata": {
        "colab": {
          "base_uri": "https://localhost:8080/",
          "height": 825
        },
        "id": "LeMju4qClkF8",
        "outputId": "76689a38-e200-47bc-9bb6-2c17d1f2aafe"
      },
      "outputs": [],
      "source": [
        "# Solve the equation system to calculate ratings and add them to the data\n",
        "# TODO: Write your code here to compute ratings vector r\n",
        "league_table[\"Colley_Rating\"] = r\n",
        "\n",
        "# Scale the ratings between 100 (top team) and 0 (weakest team).\n",
        "# MinMaxScaler accepts a tuple (min, max) as input argument to define the range.\n",
        "min_max_scaler = MinMaxScaler((0, 100))\n",
        "league_table[\"Colley_Scaled_Rating\"] = min_max_scaler.fit_transform(\n",
        "    league_table.loc[:, \"Colley_Rating\"].to_numpy().reshape(-1, 1)\n",
        ")\n",
        "\n",
        "# Sort the data by calculated ratings and get Colley rankings\n",
        "league_table = league_table.sort_values(\"Colley_Rating\", ascending=False)\n",
        "league_table[\"Colley_Ranking\"] = np.arange(1, 21)\n",
        "\n",
        "league_table"
      ]
    },
    {
      "attachments": {},
      "cell_type": "markdown",
      "metadata": {
        "id": "qjA2FCHfm4Ar"
      },
      "source": [
        "## Keep some columns for the dataset that will hold results from all methods"
      ]
    },
    {
      "cell_type": "code",
      "execution_count": null,
      "metadata": {
        "colab": {
          "base_uri": "https://localhost:8080/",
          "height": 966
        },
        "id": "xTPqGjill4g3",
        "outputId": "5d1b5e5e-2415-4e6c-a914-10d8adb5a40e"
      },
      "outputs": [],
      "source": [
        "cols_to_keep = [\n",
        "    \"Teams\", \"Wins\", \"Draws\", \"Losses\", \n",
        "    \"Colley_Rating\", \"Colley_Scaled_Rating\", \"Colley_Ranking\"\n",
        "    ]\n",
        "\n",
        "# Data needed from Colley output\n",
        "data_to_keep = (\n",
        "    league_table\n",
        "    .sort_values(\"Actual_Ranking\", ascending=True)\n",
        "    .loc[:, cols_to_keep]\n",
        "    .copy()\n",
        "    )\n",
        "\n",
        "# Merge the data with 'compiled_results' dataframe (inner join on 'Teams')\n",
        "compiled_results = (compiled_results.merge(data_to_keep, on=\"Teams\"))\n",
        "compiled_results"
      ]
    },
    {
      "attachments": {},
      "cell_type": "markdown",
      "metadata": {
        "id": "YBW8ecthxcEY"
      },
      "source": [
        "## Plot Colley scaled rating and ranking side by side with actual ranking and points scored"
      ]
    },
    {
      "cell_type": "code",
      "execution_count": null,
      "metadata": {
        "colab": {
          "base_uri": "https://localhost:8080/",
          "height": 366
        },
        "id": "rjQxK1VnmbJ3",
        "outputId": "3ace7dbe-c26d-4318-f6c1-b01e18668ec1"
      },
      "outputs": [],
      "source": [
        "# Initialize grid of plots\n",
        "figure, axis = plt.subplots(nrows=1, ncols=2, figsize=(12, 4), dpi=160)\n",
        "\n",
        "# Plot Colley scaled rating - plot 0, row 0\n",
        "axis[0].barh(\n",
        "    league_table[\"Colley_Ranking\"], \n",
        "    league_table[\"Colley_Scaled_Rating\"], \n",
        "    height=0.6, align='center'\n",
        "    )\n",
        "\n",
        "# Configure y axis\n",
        "axis[0].set_yticks(\n",
        "    league_table[\"Colley_Ranking\"], \n",
        "    labels=league_table[\"Teams\"],\n",
        "    fontsize=7\n",
        "    )\n",
        "axis[0].invert_yaxis()  # labels read top-to-bottom\n",
        "\n",
        "# X axis and title\n",
        "axis[0].tick_params(axis=\"x\", labelsize=6)\n",
        "axis[0].set_xlabel('Colley Scaled Rating', fontsize=8)\n",
        "axis[0].set_title(f'Season {current_season} Colley Scaled Rating', fontsize=8)\n",
        "\n",
        "# Plot actual ranking and points scored - plot 1, row 0\n",
        "axis[1].barh(\n",
        "    league_table[\"Actual_Ranking\"], \n",
        "    league_table[\"Points\"], \n",
        "    height=0.6, align='center'\n",
        "    )\n",
        "\n",
        "# Configure y axis\n",
        "axis[1].set_yticks(league_table[\"Actual_Ranking\"], \n",
        "    labels=league_table[\"Teams\"],\n",
        "    fontsize=7\n",
        "    )\n",
        "axis[1].invert_yaxis()  # labels read top-to-bottom\n",
        "\n",
        "# X axis and title\n",
        "axis[1].tick_params(axis=\"x\", labelsize=6)\n",
        "axis[1].set_xlabel('Actual Points', fontsize=8)\n",
        "axis[1].set_title(f'Season {current_season} Points Scored', fontsize=8)\n",
        "\n",
        "# Use 'tight_layout' to avoid overlapping text\n",
        "plt.tight_layout()\n",
        "plt.show()"
      ]
    },
    {
      "attachments": {},
      "cell_type": "markdown",
      "metadata": {
        "id": "mYM87ZH_7FkW"
      },
      "source": [
        "# 3. Keener"
      ]
    },
    {
      "attachments": {},
      "cell_type": "markdown",
      "metadata": {
        "id": "hRgduyqOooJ6"
      },
      "source": [
        "## For Keener we need the match grid"
      ]
    },
    {
      "cell_type": "code",
      "execution_count": null,
      "metadata": {
        "colab": {
          "base_uri": "https://localhost:8080/",
          "height": 984
        },
        "id": "xX4z5Q6eZybO",
        "outputId": "ae525ed9-acf1-4a6b-e152-da4e79e27682"
      },
      "outputs": [],
      "source": [
        "# Each match entry is in the format =\"GH-GA\" (except from NaN in diagonal).\n",
        "# GH are goals scored by the home team, and GA are goals scored by the away team\n",
        "# Below, we read the match grid CSV and remove '=' and '\"'\n",
        "match_grid = (\n",
        "    pd.read_csv(current_match_grid_file, dtype=str, index_col=0)\n",
        "    .replace('\"' , '', regex=True)\n",
        "    .replace('=' , '', regex=True)\n",
        "    .fillna(\"0-0\")\n",
        "    )\n",
        "\n",
        "# Save all teams as a list\n",
        "teams = match_grid.columns.to_list()\n",
        "match_grid"
      ]
    },
    {
      "attachments": {},
      "cell_type": "markdown",
      "metadata": {
        "id": "ljGlqyeDcRuM"
      },
      "source": [
        "## Create Keener S matrix\n",
        "\n",
        "Below a refresher"
      ]
    },
    {
      "attachments": {},
      "cell_type": "markdown",
      "metadata": {
        "id": "5_g70ZSLcf-J"
      },
      "source": [
        "$$S_{n \\times n} \\text{ where } S_{ij} \\text{: Total goals scored from team } i \\text{ against team } j$$\n",
        "<br>\n",
        "$$n \\text{ represents the number of teams in the league}$$"
      ]
    },
    {
      "attachments": {},
      "cell_type": "markdown",
      "metadata": {
        "id": "ZuHM9qUAdmHt"
      },
      "source": [
        "## Exercise 2: Complete the code to calculate Keener's S matrix\n",
        "\n",
        "## Steps required\n",
        "\n",
        "1.   Parse scores. Example: \"3-2\". The home team scored 3 goals and the away team 2. Hint: Pandas [applymap documentation](https://pandas.pydata.org/pandas-docs/stable/reference/api/pandas.DataFrame.applymap.html)\n",
        "2.   Match every team's home match with the respective away match against the same opponent. Hint: The home match of team *i* against *j* is element *ij*. The respective away match is element *ji* - row and column indexes are swapped..."
      ]
    },
    {
      "cell_type": "code",
      "execution_count": null,
      "metadata": {
        "id": "Hvi9HP9se-EY"
      },
      "outputs": [],
      "source": [
        "# TODO: Write your code below. Save the output in variable S_dataframe\n",
        "\n",
        "# Parse score and get goals of a home match\n",
        "\n",
        "\n",
        "# Parse score and get goals of an away match\n",
        "# The grid is transposed to match every team's respective\n",
        "# home and away matches\n",
        "\n",
        "\n",
        "# Sum goals scored\n",
        "S_dataframe = all_home_goals_ij + all_away_goals_ij"
      ]
    },
    {
      "cell_type": "code",
      "execution_count": null,
      "metadata": {
        "colab": {
          "base_uri": "https://localhost:8080/",
          "height": 984
        },
        "id": "9Cimp9kmiiHy",
        "outputId": "d014cdf7-c2b6-4e19-d93b-1572038284d3"
      },
      "outputs": [],
      "source": [
        "S_dataframe"
      ]
    },
    {
      "attachments": {},
      "cell_type": "markdown",
      "metadata": {
        "id": "JqnwZr3Vie0Q"
      },
      "source": [
        "## Create Keener A matrix\n",
        "\n",
        "Below a refresher"
      ]
    },
    {
      "attachments": {},
      "cell_type": "markdown",
      "metadata": {
        "id": "AOZeSNQWfqst"
      },
      "source": [
        "$$\\mathbf{A}_{n \\times n} = \\left[\\frac{S_{ij}+ 1}{S_{ij} + S_{ji} + 2}\\right]_{n \\times n}$$\n",
        "<br>\n",
        "$$\\mathbf{A}_{n \\times n} = [a_{ij}] = \\left[h\\left(\\frac{S_{ij}+ 1}{S_{ij} + S_{ji} + 2}\\right)\\right]_{n \\times n}$$\n",
        "<br>\n",
        "$$\\text{where } h(x) = \\frac{1}{2} + \\frac{sgn\\{x - (1/2)\\}\\sqrt{|2x - 1|}}{2}$$"
      ]
    },
    {
      "attachments": {},
      "cell_type": "markdown",
      "metadata": {
        "id": "pKGuwUde2Abe"
      },
      "source": [
        "## Exercise 3: Complete the code (check 'TODO' comments) to get matrix A"
      ]
    },
    {
      "attachments": {},
      "cell_type": "markdown",
      "metadata": {
        "id": "3PuTX-UTkhkJ"
      },
      "source": [
        "## Calculate the Numerator"
      ]
    },
    {
      "cell_type": "code",
      "execution_count": null,
      "metadata": {
        "colab": {
          "base_uri": "https://localhost:8080/"
        },
        "id": "kty7dTM2jUy1",
        "outputId": "f6b220d4-911c-4fcd-a96b-97de48a3a8f3"
      },
      "outputs": [],
      "source": [
        "# TODO: Start by creating the numerator (forget about skewing for now)\n",
        "# Save output as A_numerator"
      ]
    },
    {
      "attachments": {},
      "cell_type": "markdown",
      "metadata": {
        "id": "H5cVtRimkoBO"
      },
      "source": [
        "## Calculate the Denominator"
      ]
    },
    {
      "cell_type": "code",
      "execution_count": null,
      "metadata": {
        "id": "MKAapJgf2xWF"
      },
      "outputs": [],
      "source": [
        "# TODO: Create the denominator (forget about skewing for now)\n",
        "# Save output as A_denominator\n",
        "# Hint: We are trying to add symmetric elements - elements with reversed indexes\n",
        "# Example: Sij + Sji (row becomes column, column becomes row)\n"
      ]
    },
    {
      "attachments": {},
      "cell_type": "markdown",
      "metadata": {
        "id": "TP8Y5I2OkryI"
      },
      "source": [
        "## Calculate A"
      ]
    },
    {
      "cell_type": "code",
      "execution_count": null,
      "metadata": {
        "id": "SUZf7EwcoghP"
      },
      "outputs": [],
      "source": [
        "# TODO: Write your code below\n",
        "# Divide A_numerator by A_denominator and save as A\n"
      ]
    },
    {
      "attachments": {},
      "cell_type": "markdown",
      "metadata": {
        "id": "ziSNYsBmlzQz"
      },
      "source": [
        "## Apply skewing to A\n",
        "\n",
        "Numpy [vectorize documentation](https://numpy.org/doc/stable/reference/generated/numpy.vectorize.html) and [Generalized Universal Function API](https://numpy.org/doc/stable/reference/c-api/generalized-ufuncs.html)"
      ]
    },
    {
      "cell_type": "code",
      "execution_count": null,
      "metadata": {
        "id": "9BuVagUlo9rU"
      },
      "outputs": [],
      "source": [
        "def skewing_function(x):\n",
        "    numerator = np.sign(x - 0.5) * np.sqrt(np.abs(2 * x - 1))\n",
        "    return 0.5 + numerator / 2\n",
        "\n",
        "# Vectorize the skewing function for appying it to a numpy array\n",
        "ufunc_skewing_function = np.vectorize(skewing_function)\n",
        "A = ufunc_skewing_function(A)\n",
        "\n",
        "# Uncomment if you want to inspect the final A matrix\n",
        "# A"
      ]
    },
    {
      "attachments": {},
      "cell_type": "markdown",
      "metadata": {
        "id": "9digcqbdmaub"
      },
      "source": [
        "## Calculate Eigenvalues and Eigenvectors\n",
        "\n",
        "Numpy [documentation on eigenvalues and eigenvectors](https://numpy.org/doc/stable/reference/generated/numpy.linalg.eig.html)"
      ]
    },
    {
      "attachments": {},
      "cell_type": "markdown",
      "metadata": {
        "id": "h3GHXM1emxpb"
      },
      "source": [
        "$$\\mathbf{A} \\mathbf{r} = λ \\mathbf{r}, \\mathbf{r} > 0 \\text{ and } \\sum_{j=1}^{n}r_j = 1$$\n",
        "<br>\n",
        "$$λ \\text{: Perron value (dominant eigenvalue)}$$\n",
        "$$\\mathbf{r} \\text{: Perron vector (dominant eigenvector)}$$\n",
        "<br>\n",
        "<br>\n",
        "$$\\text{Looking for the Ratings Vector:}$$\n",
        "<br>\n",
        "$$\\\\\\mathbf{r}_{n \\times 1} = \\begin{pmatrix}\n",
        "r_1\\\\\n",
        "r_2\\\\\n",
        "r_3\\\\\n",
        "\\vdots \\\\\n",
        "r_n\n",
        "\\end{pmatrix}$$"
      ]
    },
    {
      "attachments": {},
      "cell_type": "markdown",
      "metadata": {
        "id": "bYTwJRMr3D-z"
      },
      "source": [
        "## Exercise 4: Compute eigenvalues and eigenvectors of A and pick the largest eigenvalue"
      ]
    },
    {
      "cell_type": "code",
      "execution_count": null,
      "metadata": {
        "id": "5e86hwI9q26q"
      },
      "outputs": [],
      "source": [
        "# TODO: Write your code here\n"
      ]
    },
    {
      "attachments": {},
      "cell_type": "markdown",
      "metadata": {
        "id": "DyF1IoxaqnNn"
      },
      "source": [
        "## The imaginary part of the dominant eigenvalue must be 0."
      ]
    },
    {
      "cell_type": "code",
      "execution_count": null,
      "metadata": {
        "colab": {
          "base_uri": "https://localhost:8080/"
        },
        "id": "K5Lo72k0qkOe",
        "outputId": "902c7f6f-ba9b-4d5d-c9f3-f86ae3d121d1"
      },
      "outputs": [],
      "source": []
    },
    {
      "attachments": {},
      "cell_type": "markdown",
      "metadata": {
        "id": "LTwHqVJcudzM"
      },
      "source": [
        "## Save the Perron value as a float"
      ]
    },
    {
      "cell_type": "code",
      "execution_count": null,
      "metadata": {
        "colab": {
          "base_uri": "https://localhost:8080/"
        },
        "id": "J5iaFlUJq5p7",
        "outputId": "b3f41549-eda5-4a4f-be29-5998b113ee0d"
      },
      "outputs": [],
      "source": [
        "perron_value = float(eigenvals[max_eigenvalue_index])\n",
        "print(f\"Perron value: {perron_value}\")"
      ]
    },
    {
      "attachments": {},
      "cell_type": "markdown",
      "metadata": {
        "id": "plV3Thn6quuf"
      },
      "source": [
        "## The imaginary part of all the entries in the dominant eigenvector must be zero"
      ]
    },
    {
      "cell_type": "code",
      "execution_count": null,
      "metadata": {
        "colab": {
          "base_uri": "https://localhost:8080/"
        },
        "id": "QYMB4yNpq07n",
        "outputId": "b3b3ad5f-a2ab-4aa3-ce9b-f5d66a942b08"
      },
      "outputs": [],
      "source": [
        "eigenvecs[: , max_eigenvalue_index].reshape(-1, 1)"
      ]
    },
    {
      "attachments": {},
      "cell_type": "markdown",
      "metadata": {
        "id": "eJf0GgqsuqVR"
      },
      "source": [
        "## Save the real part of the dominant eigenvector entries\n",
        "\n",
        "This is not the Perron vector yet (we could get all entries as negatives). We use the \"Brute Force\" technique described in Keener chapter of the textbook to convert this vector to Perron vector."
      ]
    },
    {
      "cell_type": "code",
      "execution_count": null,
      "metadata": {
        "colab": {
          "base_uri": "https://localhost:8080/"
        },
        "id": "9iYT9ABFrTpJ",
        "outputId": "0cba202c-d9c7-43a6-e5b3-d25ac2c01274"
      },
      "outputs": [],
      "source": [
        "dominant_eigenvector = eigenvecs[: , 0].reshape(-1, 1).astype(float)\n",
        "dominant_eigenvector"
      ]
    },
    {
      "attachments": {},
      "cell_type": "markdown",
      "metadata": {
        "id": "C5EOOwS7uxsN"
      },
      "source": [
        "## Calculate the actual Perron vector where all ratings have a sum of 1"
      ]
    },
    {
      "cell_type": "code",
      "execution_count": null,
      "metadata": {
        "id": "ZBa-r63tu-jJ"
      },
      "outputs": [],
      "source": [
        "# Divide by sum so that all ratings sum to 1\n",
        "perron_vector = dominant_eigenvector / np.sum(dominant_eigenvector)"
      ]
    },
    {
      "cell_type": "code",
      "execution_count": null,
      "metadata": {
        "id": "8tVNJ6xCvJuN"
      },
      "outputs": [],
      "source": [
        "match_grid[\"Keener_Rating\"] = perron_vector"
      ]
    },
    {
      "cell_type": "code",
      "execution_count": null,
      "metadata": {
        "colab": {
          "base_uri": "https://localhost:8080/"
        },
        "id": "7Rxg5C3Er9cf",
        "outputId": "1375e10c-657a-4501-ad26-2d334f956777"
      },
      "outputs": [],
      "source": [
        "match_grid[\"Keener_Rating\"]"
      ]
    },
    {
      "attachments": {},
      "cell_type": "markdown",
      "metadata": {
        "id": "U_xuhndOu5ul"
      },
      "source": [
        "## Use a MinMaxScaler to scale Keener ratings between 0 and 100 for plotting."
      ]
    },
    {
      "cell_type": "code",
      "execution_count": null,
      "metadata": {
        "id": "07xfQX86dkHS"
      },
      "outputs": [],
      "source": [
        "# Scale the ratings between 100 (top team) and 0 (weakest team).\n",
        "# MinMaxScaler accepts a tuple (min, max) as input argument to define the range.\n",
        "min_max_scaler = MinMaxScaler((0, 100))\n",
        "match_grid[\"Keener_Scaled_Rating\"] = min_max_scaler.fit_transform(\n",
        "    match_grid.loc[:, \"Keener_Rating\"].values.reshape(-1, 1)\n",
        "    )\n",
        "\n",
        "# Sort by Keener rating - strongest team on top, assign Keener ranking\n",
        "match_grid = match_grid.sort_values(\"Keener_Rating\", ascending=False)\n",
        "match_grid[\"Keener_Ranking\"] = np.arange(1, 21)"
      ]
    },
    {
      "cell_type": "code",
      "execution_count": null,
      "metadata": {
        "colab": {
          "base_uri": "https://localhost:8080/",
          "height": 984
        },
        "id": "EESu8Lm5eipZ",
        "outputId": "9b80c76c-0aea-4a92-b1fd-787fb8098b63"
      },
      "outputs": [],
      "source": [
        "match_grid"
      ]
    },
    {
      "attachments": {},
      "cell_type": "markdown",
      "metadata": {
        "id": "8g8AtyFSvIqH"
      },
      "source": [
        "## Import the league table to get actual rankings and points scored\n",
        "\n",
        "As the match grid does not contain the actual points scored per team, we have to import the league table."
      ]
    },
    {
      "cell_type": "code",
      "execution_count": null,
      "metadata": {
        "colab": {
          "base_uri": "https://localhost:8080/",
          "height": 677
        },
        "id": "4A5QfdS7e5li",
        "outputId": "2b7f1891-991e-40c8-f165-e9bea5697777"
      },
      "outputs": [],
      "source": [
        "# Read the league table data - skip the first row\n",
        "league_table = pd.read_csv(current_league_table_file, skiprows=1)\n",
        "league_table[\"Actual_Ranking\"] = np.arange(1, 21)\n",
        "league_table"
      ]
    },
    {
      "attachments": {},
      "cell_type": "markdown",
      "metadata": {
        "id": "gfIGVe5Vw7M9"
      },
      "source": [
        "## We keep only teams, actual ranking and points."
      ]
    },
    {
      "cell_type": "code",
      "execution_count": null,
      "metadata": {
        "colab": {
          "base_uri": "https://localhost:8080/",
          "height": 708
        },
        "id": "fWHQqHyIfBK5",
        "outputId": "818bb2bf-07d3-48db-be98-f469addec52b"
      },
      "outputs": [],
      "source": [
        "required_cols = [\"Unnamed: 1\", \"Pts\", \"Actual_Ranking\"]\n",
        "renaming = {\"Unnamed: 1\": \"Teams\", \"Pts\": \"Points\"}\n",
        "\n",
        "# Make a copy of the league table, keeping only the necessary columns renamed\n",
        "# Index is reset as the teams for the table join below\n",
        "league_table = (\n",
        "    league_table\n",
        "    .loc[:, required_cols]\n",
        "    .copy()\n",
        "    .rename(columns=renaming)\n",
        "    .set_index(\"Teams\")\n",
        ")\n",
        "\n",
        "league_table"
      ]
    },
    {
      "attachments": {},
      "cell_type": "markdown",
      "metadata": {
        "id": "rXlmZzJxvQDJ"
      },
      "source": [
        "## Join the match grid that holds Keener ratings with the league table and the actual ratings based on team names"
      ]
    },
    {
      "cell_type": "code",
      "execution_count": null,
      "metadata": {
        "colab": {
          "base_uri": "https://localhost:8080/",
          "height": 984
        },
        "id": "JolTuS2WfbnU",
        "outputId": "6a96c922-70a7-40d0-b7cc-e9960772a393"
      },
      "outputs": [],
      "source": [
        "match_grid = match_grid.join(league_table)\n",
        "match_grid"
      ]
    },
    {
      "attachments": {},
      "cell_type": "markdown",
      "metadata": {
        "id": "gwrVzRSa5252"
      },
      "source": [
        "## Add Keener to the dataset that holds results from Massey and Colley"
      ]
    },
    {
      "cell_type": "code",
      "execution_count": null,
      "metadata": {
        "colab": {
          "base_uri": "https://localhost:8080/",
          "height": 966
        },
        "id": "lS_iK8nc51tk",
        "outputId": "648a1db9-4f5c-47ad-c57e-352384c5c000"
      },
      "outputs": [],
      "source": [
        "cols_to_keep = [\n",
        "    \"Keener_Rating\", \n",
        "    \"Keener_Scaled_Rating\", \n",
        "    \"Keener_Ranking\"\n",
        "    ]\n",
        "\n",
        "# Data needed from Keener output - sort by actual ranking first\n",
        "data_to_keep = (\n",
        "    match_grid\n",
        "    .sort_values(\"Actual_Ranking\", ascending=True)\n",
        "    .loc[:, cols_to_keep]\n",
        "    .copy()\n",
        "    .reset_index(drop=False)\n",
        "    .rename(columns={\"index\": \"Teams\"})\n",
        "    )\n",
        "\n",
        "compiled_results = (compiled_results.merge(data_to_keep, on=\"Teams\"))\n",
        "compiled_results"
      ]
    },
    {
      "attachments": {},
      "cell_type": "markdown",
      "metadata": {
        "id": "Vruqnmrxx59c"
      },
      "source": [
        "## Plot Keener scaled rating and ranking side by side with actual ranking and points scored"
      ]
    },
    {
      "cell_type": "code",
      "execution_count": null,
      "metadata": {
        "colab": {
          "base_uri": "https://localhost:8080/",
          "height": 367
        },
        "id": "jkGHCrUarbdF",
        "outputId": "a8dc0045-97fb-4c3c-9102-62ed33325ea3"
      },
      "outputs": [],
      "source": [
        "# Initialize grid of plots\n",
        "figure, axis = plt.subplots(nrows=1, ncols=2, figsize=(12, 4), dpi=160)\n",
        "\n",
        "# Plot Keener scaled rating - plot 0, row 0\n",
        "axis[0].barh(\n",
        "    match_grid[\"Keener_Ranking\"], \n",
        "    match_grid[\"Keener_Scaled_Rating\"], \n",
        "    height=0.6, align='center'\n",
        "    )\n",
        "\n",
        "# Configure y axis\n",
        "axis[0].set_yticks(\n",
        "    match_grid[\"Keener_Ranking\"], \n",
        "    labels=match_grid.index,\n",
        "    fontsize=7\n",
        "    )\n",
        "axis[0].invert_yaxis()  # labels read top-to-bottom\n",
        "\n",
        "# X axis and title\n",
        "axis[0].tick_params(axis=\"x\", labelsize=6)\n",
        "axis[0].set_xlabel('Keener Scaled Rating', fontsize=8)\n",
        "axis[0].set_title(f'Season {current_season} Keener Scaled Rating', fontsize=8)\n",
        "\n",
        "# Plot actual ranking and point scored - plot 1, row 0\n",
        "axis[1].barh(\n",
        "    match_grid[\"Actual_Ranking\"], \n",
        "    match_grid[\"Points\"], \n",
        "    height=0.6, align='center'\n",
        "    )\n",
        "\n",
        "# Configure y axis\n",
        "axis[1].set_yticks(\n",
        "    match_grid[\"Actual_Ranking\"], \n",
        "    labels=match_grid.index,\n",
        "    fontsize=7\n",
        "    )\n",
        "axis[1].invert_yaxis()  # labels read top-to-bottom\n",
        "\n",
        "# X axis and title\n",
        "axis[1].tick_params(axis=\"x\", labelsize=6)\n",
        "axis[1].set_xlabel('Actual Points', fontsize=8)\n",
        "axis[1].set_title(f'Season {current_season} Points Scored', fontsize=8)\n",
        "\n",
        "# Use 'tight_layout' to avoid overlapping text\n",
        "plt.tight_layout()\n",
        "plt.show()"
      ]
    },
    {
      "attachments": {},
      "cell_type": "markdown",
      "metadata": {
        "id": "oGKL08ROx59x"
      },
      "source": [
        "## Get rankings from all methods in a new table"
      ]
    },
    {
      "cell_type": "code",
      "execution_count": null,
      "metadata": {
        "colab": {
          "base_uri": "https://localhost:8080/",
          "height": 677
        },
        "id": "la5TT3yB85s9",
        "outputId": "aaa37293-416a-4b98-83cd-2d7ee85768b2"
      },
      "outputs": [],
      "source": [
        "rankings = [\n",
        "    \"Teams\", \n",
        "    \"Actual_Ranking\", \n",
        "    \"Massey_Ranking\", \n",
        "    \"Colley_Ranking\", \n",
        "    \"Keener_Ranking\"\n",
        "    ]\n",
        "ranks_df = compiled_results.loc[:, rankings].copy()\n",
        "ranks_df"
      ]
    },
    {
      "cell_type": "code",
      "execution_count": null,
      "metadata": {
        "colab": {
          "base_uri": "https://localhost:8080/",
          "height": 175
        },
        "id": "m6JN4kBz9c3L",
        "outputId": "da06cd28-0eac-4b52-fca0-a48e24a1c6ef"
      },
      "outputs": [],
      "source": [
        "ranks_df.corr()"
      ]
    },
    {
      "attachments": {},
      "cell_type": "markdown",
      "metadata": {
        "id": "jqWQQVATyUny"
      },
      "source": [
        "## Import the table of the subsequent season to check"
      ]
    },
    {
      "cell_type": "code",
      "execution_count": null,
      "metadata": {
        "id": "2Uou9aDN-C0h"
      },
      "outputs": [],
      "source": [
        "# Read the league table data - skip the first row\n",
        "next_league_table = pd.read_csv(coming_league_table_file, skiprows=1)\n",
        "next_league_table[\"Actual_Ranking\"] = np.arange(1, 21)\n",
        "\n",
        "# Uncomment if you want to see the raw table\n",
        "# league_table"
      ]
    },
    {
      "attachments": {},
      "cell_type": "markdown",
      "metadata": {
        "id": "wCOTW-1Mym5-"
      },
      "source": [
        "## Keep some of the columns and rename them"
      ]
    },
    {
      "cell_type": "code",
      "execution_count": null,
      "metadata": {
        "colab": {
          "base_uri": "https://localhost:8080/",
          "height": 897
        },
        "id": "1QFVh7Rl-86S",
        "outputId": "e299b008-2711-4553-d28e-59019fc13122"
      },
      "outputs": [],
      "source": [
        "required_cols = [\"Unnamed: 1\", \"P.2\", \"W.2\", \"D.2\", \"L.2\", \"F\", \"A\", \"+/-\", \"Pts\", \"Actual_Ranking\"]\n",
        "renaming = {\n",
        "    \"Unnamed: 1\": \"Teams\", \n",
        "    \"P.2\": \"Total_Matches_Played\", \n",
        "    \"W.2\": \"Total_Wins\",\n",
        "    \"D.2\": \"Total_Draws\",\n",
        "    \"L.2\": \"Total_Losses\",\n",
        "    \"F\": \"Goals_Scored\",\n",
        "    \"A\": \"Goals_Conceded\",\n",
        "    \"+/-\": \"Goal_Difference\",\n",
        "    \"Pts\": \"Points\"\n",
        "    }\n",
        "\n",
        "# Make a copy of the league table, keeping only the necessary columns renamed\n",
        "next_league_table = (\n",
        "    next_league_table\n",
        "    .loc[:, required_cols]\n",
        "    .copy()\n",
        "    .rename(columns=renaming)\n",
        ")\n",
        "\n",
        "next_league_table"
      ]
    },
    {
      "attachments": {},
      "cell_type": "markdown",
      "metadata": {
        "id": "s1-bhfIzy0Ww"
      },
      "source": [
        "## Recall estimated rankings from Massey, Colley and Keener"
      ]
    },
    {
      "cell_type": "code",
      "execution_count": null,
      "metadata": {
        "colab": {
          "base_uri": "https://localhost:8080/",
          "height": 677
        },
        "id": "_XCcTIhj_DtS",
        "outputId": "bf4587f2-a3d0-40d5-cd20-429a8d9d3fa1"
      },
      "outputs": [],
      "source": [
        "ranks_df"
      ]
    }
  ],
  "metadata": {
    "colab": {
      "provenance": []
    },
    "kernelspec": {
      "display_name": "Python 3",
      "name": "python3"
    },
    "language_info": {
      "codemirror_mode": {
        "name": "ipython",
        "version": 3
      },
      "file_extension": ".py",
      "mimetype": "text/x-python",
      "name": "python",
      "nbconvert_exporter": "python",
      "pygments_lexer": "ipython3",
      "version": "3.11.4"
    }
  },
  "nbformat": 4,
  "nbformat_minor": 0
}
